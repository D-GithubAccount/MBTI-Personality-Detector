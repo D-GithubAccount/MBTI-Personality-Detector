{
  "nbformat": 4,
  "nbformat_minor": 0,
  "metadata": {
    "accelerator": "TPU",
    "colab": {
      "name": "classical-models_AppliedML.ipynb",
      "provenance": [],
      "collapsed_sections": [],
      "machine_shape": "hm"
    },
    "kernelspec": {
      "display_name": "Python 3",
      "language": "python",
      "name": "python3"
    },
    "language_info": {
      "codemirror_mode": {
        "name": "ipython",
        "version": 3
      },
      "file_extension": ".py",
      "mimetype": "text/x-python",
      "name": "python",
      "nbconvert_exporter": "python",
      "pygments_lexer": "ipython3",
      "version": "3.7.10"
    },
    "widgets": {
      "application/vnd.jupyter.widget-state+json": {
        "239a4515fbf64332a2e2a12b7a2017bc": {
          "model_module": "@jupyter-widgets/controls",
          "model_name": "HBoxModel",
          "model_module_version": "1.5.0",
          "state": {
            "_view_name": "HBoxView",
            "_dom_classes": [],
            "_model_name": "HBoxModel",
            "_view_module": "@jupyter-widgets/controls",
            "_model_module_version": "1.5.0",
            "_view_count": null,
            "_view_module_version": "1.5.0",
            "box_style": "",
            "layout": "IPY_MODEL_35c5f80cf231470ab8d43808fbe3036f",
            "_model_module": "@jupyter-widgets/controls",
            "children": [
              "IPY_MODEL_6daa467966d14024be40e5c660a28a24",
              "IPY_MODEL_f2e7f361132a47af9dfcbb3373e22f4d",
              "IPY_MODEL_dd40dddd31774192a59f30b9e84dddcf"
            ]
          }
        },
        "35c5f80cf231470ab8d43808fbe3036f": {
          "model_module": "@jupyter-widgets/base",
          "model_name": "LayoutModel",
          "model_module_version": "1.2.0",
          "state": {
            "_view_name": "LayoutView",
            "grid_template_rows": null,
            "right": null,
            "justify_content": null,
            "_view_module": "@jupyter-widgets/base",
            "overflow": null,
            "_model_module_version": "1.2.0",
            "_view_count": null,
            "flex_flow": null,
            "width": null,
            "min_width": null,
            "border": null,
            "align_items": null,
            "bottom": null,
            "_model_module": "@jupyter-widgets/base",
            "top": null,
            "grid_column": null,
            "overflow_y": null,
            "overflow_x": null,
            "grid_auto_flow": null,
            "grid_area": null,
            "grid_template_columns": null,
            "flex": null,
            "_model_name": "LayoutModel",
            "justify_items": null,
            "grid_row": null,
            "max_height": null,
            "align_content": null,
            "visibility": null,
            "align_self": null,
            "height": null,
            "min_height": null,
            "padding": null,
            "grid_auto_rows": null,
            "grid_gap": null,
            "max_width": null,
            "order": null,
            "_view_module_version": "1.2.0",
            "grid_template_areas": null,
            "object_position": null,
            "object_fit": null,
            "grid_auto_columns": null,
            "margin": null,
            "display": null,
            "left": null
          }
        },
        "6daa467966d14024be40e5c660a28a24": {
          "model_module": "@jupyter-widgets/controls",
          "model_name": "HTMLModel",
          "model_module_version": "1.5.0",
          "state": {
            "_view_name": "HTMLView",
            "style": "IPY_MODEL_30274b33ef564b99b9da2765d99049c0",
            "_dom_classes": [],
            "description": "",
            "_model_name": "HTMLModel",
            "placeholder": "​",
            "_view_module": "@jupyter-widgets/controls",
            "_model_module_version": "1.5.0",
            "value": "Downloading: 100%",
            "_view_count": null,
            "_view_module_version": "1.5.0",
            "description_tooltip": null,
            "_model_module": "@jupyter-widgets/controls",
            "layout": "IPY_MODEL_552c636a71c9469d874b7c16056b1617"
          }
        },
        "f2e7f361132a47af9dfcbb3373e22f4d": {
          "model_module": "@jupyter-widgets/controls",
          "model_name": "FloatProgressModel",
          "model_module_version": "1.5.0",
          "state": {
            "_view_name": "ProgressView",
            "style": "IPY_MODEL_fe6f1dc5551c4eab93370f1ef141a18d",
            "_dom_classes": [],
            "description": "",
            "_model_name": "FloatProgressModel",
            "bar_style": "success",
            "max": 28,
            "_view_module": "@jupyter-widgets/controls",
            "_model_module_version": "1.5.0",
            "value": 28,
            "_view_count": null,
            "_view_module_version": "1.5.0",
            "orientation": "horizontal",
            "min": 0,
            "description_tooltip": null,
            "_model_module": "@jupyter-widgets/controls",
            "layout": "IPY_MODEL_946d714fcb0744bbb78c0b37be67bf92"
          }
        },
        "dd40dddd31774192a59f30b9e84dddcf": {
          "model_module": "@jupyter-widgets/controls",
          "model_name": "HTMLModel",
          "model_module_version": "1.5.0",
          "state": {
            "_view_name": "HTMLView",
            "style": "IPY_MODEL_8ca06ac9c08b442ba70f013f85b24f11",
            "_dom_classes": [],
            "description": "",
            "_model_name": "HTMLModel",
            "placeholder": "​",
            "_view_module": "@jupyter-widgets/controls",
            "_model_module_version": "1.5.0",
            "value": " 28.0/28.0 [00:00&lt;00:00, 1.03kB/s]",
            "_view_count": null,
            "_view_module_version": "1.5.0",
            "description_tooltip": null,
            "_model_module": "@jupyter-widgets/controls",
            "layout": "IPY_MODEL_d46a40dd14a7410283e589b4efbb2fbc"
          }
        },
        "30274b33ef564b99b9da2765d99049c0": {
          "model_module": "@jupyter-widgets/controls",
          "model_name": "DescriptionStyleModel",
          "model_module_version": "1.5.0",
          "state": {
            "_view_name": "StyleView",
            "_model_name": "DescriptionStyleModel",
            "description_width": "",
            "_view_module": "@jupyter-widgets/base",
            "_model_module_version": "1.5.0",
            "_view_count": null,
            "_view_module_version": "1.2.0",
            "_model_module": "@jupyter-widgets/controls"
          }
        },
        "552c636a71c9469d874b7c16056b1617": {
          "model_module": "@jupyter-widgets/base",
          "model_name": "LayoutModel",
          "model_module_version": "1.2.0",
          "state": {
            "_view_name": "LayoutView",
            "grid_template_rows": null,
            "right": null,
            "justify_content": null,
            "_view_module": "@jupyter-widgets/base",
            "overflow": null,
            "_model_module_version": "1.2.0",
            "_view_count": null,
            "flex_flow": null,
            "width": null,
            "min_width": null,
            "border": null,
            "align_items": null,
            "bottom": null,
            "_model_module": "@jupyter-widgets/base",
            "top": null,
            "grid_column": null,
            "overflow_y": null,
            "overflow_x": null,
            "grid_auto_flow": null,
            "grid_area": null,
            "grid_template_columns": null,
            "flex": null,
            "_model_name": "LayoutModel",
            "justify_items": null,
            "grid_row": null,
            "max_height": null,
            "align_content": null,
            "visibility": null,
            "align_self": null,
            "height": null,
            "min_height": null,
            "padding": null,
            "grid_auto_rows": null,
            "grid_gap": null,
            "max_width": null,
            "order": null,
            "_view_module_version": "1.2.0",
            "grid_template_areas": null,
            "object_position": null,
            "object_fit": null,
            "grid_auto_columns": null,
            "margin": null,
            "display": null,
            "left": null
          }
        },
        "fe6f1dc5551c4eab93370f1ef141a18d": {
          "model_module": "@jupyter-widgets/controls",
          "model_name": "ProgressStyleModel",
          "model_module_version": "1.5.0",
          "state": {
            "_view_name": "StyleView",
            "_model_name": "ProgressStyleModel",
            "description_width": "",
            "_view_module": "@jupyter-widgets/base",
            "_model_module_version": "1.5.0",
            "_view_count": null,
            "_view_module_version": "1.2.0",
            "bar_color": null,
            "_model_module": "@jupyter-widgets/controls"
          }
        },
        "946d714fcb0744bbb78c0b37be67bf92": {
          "model_module": "@jupyter-widgets/base",
          "model_name": "LayoutModel",
          "model_module_version": "1.2.0",
          "state": {
            "_view_name": "LayoutView",
            "grid_template_rows": null,
            "right": null,
            "justify_content": null,
            "_view_module": "@jupyter-widgets/base",
            "overflow": null,
            "_model_module_version": "1.2.0",
            "_view_count": null,
            "flex_flow": null,
            "width": null,
            "min_width": null,
            "border": null,
            "align_items": null,
            "bottom": null,
            "_model_module": "@jupyter-widgets/base",
            "top": null,
            "grid_column": null,
            "overflow_y": null,
            "overflow_x": null,
            "grid_auto_flow": null,
            "grid_area": null,
            "grid_template_columns": null,
            "flex": null,
            "_model_name": "LayoutModel",
            "justify_items": null,
            "grid_row": null,
            "max_height": null,
            "align_content": null,
            "visibility": null,
            "align_self": null,
            "height": null,
            "min_height": null,
            "padding": null,
            "grid_auto_rows": null,
            "grid_gap": null,
            "max_width": null,
            "order": null,
            "_view_module_version": "1.2.0",
            "grid_template_areas": null,
            "object_position": null,
            "object_fit": null,
            "grid_auto_columns": null,
            "margin": null,
            "display": null,
            "left": null
          }
        },
        "8ca06ac9c08b442ba70f013f85b24f11": {
          "model_module": "@jupyter-widgets/controls",
          "model_name": "DescriptionStyleModel",
          "model_module_version": "1.5.0",
          "state": {
            "_view_name": "StyleView",
            "_model_name": "DescriptionStyleModel",
            "description_width": "",
            "_view_module": "@jupyter-widgets/base",
            "_model_module_version": "1.5.0",
            "_view_count": null,
            "_view_module_version": "1.2.0",
            "_model_module": "@jupyter-widgets/controls"
          }
        },
        "d46a40dd14a7410283e589b4efbb2fbc": {
          "model_module": "@jupyter-widgets/base",
          "model_name": "LayoutModel",
          "model_module_version": "1.2.0",
          "state": {
            "_view_name": "LayoutView",
            "grid_template_rows": null,
            "right": null,
            "justify_content": null,
            "_view_module": "@jupyter-widgets/base",
            "overflow": null,
            "_model_module_version": "1.2.0",
            "_view_count": null,
            "flex_flow": null,
            "width": null,
            "min_width": null,
            "border": null,
            "align_items": null,
            "bottom": null,
            "_model_module": "@jupyter-widgets/base",
            "top": null,
            "grid_column": null,
            "overflow_y": null,
            "overflow_x": null,
            "grid_auto_flow": null,
            "grid_area": null,
            "grid_template_columns": null,
            "flex": null,
            "_model_name": "LayoutModel",
            "justify_items": null,
            "grid_row": null,
            "max_height": null,
            "align_content": null,
            "visibility": null,
            "align_self": null,
            "height": null,
            "min_height": null,
            "padding": null,
            "grid_auto_rows": null,
            "grid_gap": null,
            "max_width": null,
            "order": null,
            "_view_module_version": "1.2.0",
            "grid_template_areas": null,
            "object_position": null,
            "object_fit": null,
            "grid_auto_columns": null,
            "margin": null,
            "display": null,
            "left": null
          }
        },
        "18fb08b72792428cbd222d0d38adff5c": {
          "model_module": "@jupyter-widgets/controls",
          "model_name": "HBoxModel",
          "model_module_version": "1.5.0",
          "state": {
            "_view_name": "HBoxView",
            "_dom_classes": [],
            "_model_name": "HBoxModel",
            "_view_module": "@jupyter-widgets/controls",
            "_model_module_version": "1.5.0",
            "_view_count": null,
            "_view_module_version": "1.5.0",
            "box_style": "",
            "layout": "IPY_MODEL_25c00a22e0504e4b8abf78d53c458400",
            "_model_module": "@jupyter-widgets/controls",
            "children": [
              "IPY_MODEL_16c31ae230694f2099f6113d9cd8115f",
              "IPY_MODEL_f78fde1b2d2347de978c9528b974d3e0",
              "IPY_MODEL_0f06ade84cf743559d9df5b8594d012b"
            ]
          }
        },
        "25c00a22e0504e4b8abf78d53c458400": {
          "model_module": "@jupyter-widgets/base",
          "model_name": "LayoutModel",
          "model_module_version": "1.2.0",
          "state": {
            "_view_name": "LayoutView",
            "grid_template_rows": null,
            "right": null,
            "justify_content": null,
            "_view_module": "@jupyter-widgets/base",
            "overflow": null,
            "_model_module_version": "1.2.0",
            "_view_count": null,
            "flex_flow": null,
            "width": null,
            "min_width": null,
            "border": null,
            "align_items": null,
            "bottom": null,
            "_model_module": "@jupyter-widgets/base",
            "top": null,
            "grid_column": null,
            "overflow_y": null,
            "overflow_x": null,
            "grid_auto_flow": null,
            "grid_area": null,
            "grid_template_columns": null,
            "flex": null,
            "_model_name": "LayoutModel",
            "justify_items": null,
            "grid_row": null,
            "max_height": null,
            "align_content": null,
            "visibility": null,
            "align_self": null,
            "height": null,
            "min_height": null,
            "padding": null,
            "grid_auto_rows": null,
            "grid_gap": null,
            "max_width": null,
            "order": null,
            "_view_module_version": "1.2.0",
            "grid_template_areas": null,
            "object_position": null,
            "object_fit": null,
            "grid_auto_columns": null,
            "margin": null,
            "display": null,
            "left": null
          }
        },
        "16c31ae230694f2099f6113d9cd8115f": {
          "model_module": "@jupyter-widgets/controls",
          "model_name": "HTMLModel",
          "model_module_version": "1.5.0",
          "state": {
            "_view_name": "HTMLView",
            "style": "IPY_MODEL_75388c6054fa47659ac5e9fefa455078",
            "_dom_classes": [],
            "description": "",
            "_model_name": "HTMLModel",
            "placeholder": "​",
            "_view_module": "@jupyter-widgets/controls",
            "_model_module_version": "1.5.0",
            "value": "Downloading: 100%",
            "_view_count": null,
            "_view_module_version": "1.5.0",
            "description_tooltip": null,
            "_model_module": "@jupyter-widgets/controls",
            "layout": "IPY_MODEL_f31f175803934aa0943d8dbd8743781a"
          }
        },
        "f78fde1b2d2347de978c9528b974d3e0": {
          "model_module": "@jupyter-widgets/controls",
          "model_name": "FloatProgressModel",
          "model_module_version": "1.5.0",
          "state": {
            "_view_name": "ProgressView",
            "style": "IPY_MODEL_13a22f78244a4ad58d74bc1ca2ee24ac",
            "_dom_classes": [],
            "description": "",
            "_model_name": "FloatProgressModel",
            "bar_style": "success",
            "max": 571,
            "_view_module": "@jupyter-widgets/controls",
            "_model_module_version": "1.5.0",
            "value": 571,
            "_view_count": null,
            "_view_module_version": "1.5.0",
            "orientation": "horizontal",
            "min": 0,
            "description_tooltip": null,
            "_model_module": "@jupyter-widgets/controls",
            "layout": "IPY_MODEL_2ff7b98f49ed46c9ba7feb9aae55e515"
          }
        },
        "0f06ade84cf743559d9df5b8594d012b": {
          "model_module": "@jupyter-widgets/controls",
          "model_name": "HTMLModel",
          "model_module_version": "1.5.0",
          "state": {
            "_view_name": "HTMLView",
            "style": "IPY_MODEL_8cc3b02a942b421eb63f0fe23349e0ac",
            "_dom_classes": [],
            "description": "",
            "_model_name": "HTMLModel",
            "placeholder": "​",
            "_view_module": "@jupyter-widgets/controls",
            "_model_module_version": "1.5.0",
            "value": " 571/571 [00:00&lt;00:00, 19.5kB/s]",
            "_view_count": null,
            "_view_module_version": "1.5.0",
            "description_tooltip": null,
            "_model_module": "@jupyter-widgets/controls",
            "layout": "IPY_MODEL_ce6376ddb6f242f4b4121ae1ea671947"
          }
        },
        "75388c6054fa47659ac5e9fefa455078": {
          "model_module": "@jupyter-widgets/controls",
          "model_name": "DescriptionStyleModel",
          "model_module_version": "1.5.0",
          "state": {
            "_view_name": "StyleView",
            "_model_name": "DescriptionStyleModel",
            "description_width": "",
            "_view_module": "@jupyter-widgets/base",
            "_model_module_version": "1.5.0",
            "_view_count": null,
            "_view_module_version": "1.2.0",
            "_model_module": "@jupyter-widgets/controls"
          }
        },
        "f31f175803934aa0943d8dbd8743781a": {
          "model_module": "@jupyter-widgets/base",
          "model_name": "LayoutModel",
          "model_module_version": "1.2.0",
          "state": {
            "_view_name": "LayoutView",
            "grid_template_rows": null,
            "right": null,
            "justify_content": null,
            "_view_module": "@jupyter-widgets/base",
            "overflow": null,
            "_model_module_version": "1.2.0",
            "_view_count": null,
            "flex_flow": null,
            "width": null,
            "min_width": null,
            "border": null,
            "align_items": null,
            "bottom": null,
            "_model_module": "@jupyter-widgets/base",
            "top": null,
            "grid_column": null,
            "overflow_y": null,
            "overflow_x": null,
            "grid_auto_flow": null,
            "grid_area": null,
            "grid_template_columns": null,
            "flex": null,
            "_model_name": "LayoutModel",
            "justify_items": null,
            "grid_row": null,
            "max_height": null,
            "align_content": null,
            "visibility": null,
            "align_self": null,
            "height": null,
            "min_height": null,
            "padding": null,
            "grid_auto_rows": null,
            "grid_gap": null,
            "max_width": null,
            "order": null,
            "_view_module_version": "1.2.0",
            "grid_template_areas": null,
            "object_position": null,
            "object_fit": null,
            "grid_auto_columns": null,
            "margin": null,
            "display": null,
            "left": null
          }
        },
        "13a22f78244a4ad58d74bc1ca2ee24ac": {
          "model_module": "@jupyter-widgets/controls",
          "model_name": "ProgressStyleModel",
          "model_module_version": "1.5.0",
          "state": {
            "_view_name": "StyleView",
            "_model_name": "ProgressStyleModel",
            "description_width": "",
            "_view_module": "@jupyter-widgets/base",
            "_model_module_version": "1.5.0",
            "_view_count": null,
            "_view_module_version": "1.2.0",
            "bar_color": null,
            "_model_module": "@jupyter-widgets/controls"
          }
        },
        "2ff7b98f49ed46c9ba7feb9aae55e515": {
          "model_module": "@jupyter-widgets/base",
          "model_name": "LayoutModel",
          "model_module_version": "1.2.0",
          "state": {
            "_view_name": "LayoutView",
            "grid_template_rows": null,
            "right": null,
            "justify_content": null,
            "_view_module": "@jupyter-widgets/base",
            "overflow": null,
            "_model_module_version": "1.2.0",
            "_view_count": null,
            "flex_flow": null,
            "width": null,
            "min_width": null,
            "border": null,
            "align_items": null,
            "bottom": null,
            "_model_module": "@jupyter-widgets/base",
            "top": null,
            "grid_column": null,
            "overflow_y": null,
            "overflow_x": null,
            "grid_auto_flow": null,
            "grid_area": null,
            "grid_template_columns": null,
            "flex": null,
            "_model_name": "LayoutModel",
            "justify_items": null,
            "grid_row": null,
            "max_height": null,
            "align_content": null,
            "visibility": null,
            "align_self": null,
            "height": null,
            "min_height": null,
            "padding": null,
            "grid_auto_rows": null,
            "grid_gap": null,
            "max_width": null,
            "order": null,
            "_view_module_version": "1.2.0",
            "grid_template_areas": null,
            "object_position": null,
            "object_fit": null,
            "grid_auto_columns": null,
            "margin": null,
            "display": null,
            "left": null
          }
        },
        "8cc3b02a942b421eb63f0fe23349e0ac": {
          "model_module": "@jupyter-widgets/controls",
          "model_name": "DescriptionStyleModel",
          "model_module_version": "1.5.0",
          "state": {
            "_view_name": "StyleView",
            "_model_name": "DescriptionStyleModel",
            "description_width": "",
            "_view_module": "@jupyter-widgets/base",
            "_model_module_version": "1.5.0",
            "_view_count": null,
            "_view_module_version": "1.2.0",
            "_model_module": "@jupyter-widgets/controls"
          }
        },
        "ce6376ddb6f242f4b4121ae1ea671947": {
          "model_module": "@jupyter-widgets/base",
          "model_name": "LayoutModel",
          "model_module_version": "1.2.0",
          "state": {
            "_view_name": "LayoutView",
            "grid_template_rows": null,
            "right": null,
            "justify_content": null,
            "_view_module": "@jupyter-widgets/base",
            "overflow": null,
            "_model_module_version": "1.2.0",
            "_view_count": null,
            "flex_flow": null,
            "width": null,
            "min_width": null,
            "border": null,
            "align_items": null,
            "bottom": null,
            "_model_module": "@jupyter-widgets/base",
            "top": null,
            "grid_column": null,
            "overflow_y": null,
            "overflow_x": null,
            "grid_auto_flow": null,
            "grid_area": null,
            "grid_template_columns": null,
            "flex": null,
            "_model_name": "LayoutModel",
            "justify_items": null,
            "grid_row": null,
            "max_height": null,
            "align_content": null,
            "visibility": null,
            "align_self": null,
            "height": null,
            "min_height": null,
            "padding": null,
            "grid_auto_rows": null,
            "grid_gap": null,
            "max_width": null,
            "order": null,
            "_view_module_version": "1.2.0",
            "grid_template_areas": null,
            "object_position": null,
            "object_fit": null,
            "grid_auto_columns": null,
            "margin": null,
            "display": null,
            "left": null
          }
        },
        "84097d3de248451383f11ae759c8134c": {
          "model_module": "@jupyter-widgets/controls",
          "model_name": "HBoxModel",
          "model_module_version": "1.5.0",
          "state": {
            "_view_name": "HBoxView",
            "_dom_classes": [],
            "_model_name": "HBoxModel",
            "_view_module": "@jupyter-widgets/controls",
            "_model_module_version": "1.5.0",
            "_view_count": null,
            "_view_module_version": "1.5.0",
            "box_style": "",
            "layout": "IPY_MODEL_f6822281f8244cb9a64cf238df91e59e",
            "_model_module": "@jupyter-widgets/controls",
            "children": [
              "IPY_MODEL_3a20c836979a411e8998f8cb423e2974",
              "IPY_MODEL_e5d034fbee194b2e81b0043425d1721c",
              "IPY_MODEL_78928ef497ff4803a68dd0d3e8b22b0e"
            ]
          }
        },
        "f6822281f8244cb9a64cf238df91e59e": {
          "model_module": "@jupyter-widgets/base",
          "model_name": "LayoutModel",
          "model_module_version": "1.2.0",
          "state": {
            "_view_name": "LayoutView",
            "grid_template_rows": null,
            "right": null,
            "justify_content": null,
            "_view_module": "@jupyter-widgets/base",
            "overflow": null,
            "_model_module_version": "1.2.0",
            "_view_count": null,
            "flex_flow": null,
            "width": null,
            "min_width": null,
            "border": null,
            "align_items": null,
            "bottom": null,
            "_model_module": "@jupyter-widgets/base",
            "top": null,
            "grid_column": null,
            "overflow_y": null,
            "overflow_x": null,
            "grid_auto_flow": null,
            "grid_area": null,
            "grid_template_columns": null,
            "flex": null,
            "_model_name": "LayoutModel",
            "justify_items": null,
            "grid_row": null,
            "max_height": null,
            "align_content": null,
            "visibility": null,
            "align_self": null,
            "height": null,
            "min_height": null,
            "padding": null,
            "grid_auto_rows": null,
            "grid_gap": null,
            "max_width": null,
            "order": null,
            "_view_module_version": "1.2.0",
            "grid_template_areas": null,
            "object_position": null,
            "object_fit": null,
            "grid_auto_columns": null,
            "margin": null,
            "display": null,
            "left": null
          }
        },
        "3a20c836979a411e8998f8cb423e2974": {
          "model_module": "@jupyter-widgets/controls",
          "model_name": "HTMLModel",
          "model_module_version": "1.5.0",
          "state": {
            "_view_name": "HTMLView",
            "style": "IPY_MODEL_ccb5e75736b2461dacb9cf8a7982b6fd",
            "_dom_classes": [],
            "description": "",
            "_model_name": "HTMLModel",
            "placeholder": "​",
            "_view_module": "@jupyter-widgets/controls",
            "_model_module_version": "1.5.0",
            "value": "Downloading: 100%",
            "_view_count": null,
            "_view_module_version": "1.5.0",
            "description_tooltip": null,
            "_model_module": "@jupyter-widgets/controls",
            "layout": "IPY_MODEL_d50fa5e871f04aaca9fbc727546832f8"
          }
        },
        "e5d034fbee194b2e81b0043425d1721c": {
          "model_module": "@jupyter-widgets/controls",
          "model_name": "FloatProgressModel",
          "model_module_version": "1.5.0",
          "state": {
            "_view_name": "ProgressView",
            "style": "IPY_MODEL_4e655c811f5a44aa9eaac3ef3ff607ea",
            "_dom_classes": [],
            "description": "",
            "_model_name": "FloatProgressModel",
            "bar_style": "success",
            "max": 231508,
            "_view_module": "@jupyter-widgets/controls",
            "_model_module_version": "1.5.0",
            "value": 231508,
            "_view_count": null,
            "_view_module_version": "1.5.0",
            "orientation": "horizontal",
            "min": 0,
            "description_tooltip": null,
            "_model_module": "@jupyter-widgets/controls",
            "layout": "IPY_MODEL_648c8da00fb04f2795d4ae490a55115f"
          }
        },
        "78928ef497ff4803a68dd0d3e8b22b0e": {
          "model_module": "@jupyter-widgets/controls",
          "model_name": "HTMLModel",
          "model_module_version": "1.5.0",
          "state": {
            "_view_name": "HTMLView",
            "style": "IPY_MODEL_6d89fa8073ec4cb98c57f2d0095cc6b0",
            "_dom_classes": [],
            "description": "",
            "_model_name": "HTMLModel",
            "placeholder": "​",
            "_view_module": "@jupyter-widgets/controls",
            "_model_module_version": "1.5.0",
            "value": " 226k/226k [00:00&lt;00:00, 1.62MB/s]",
            "_view_count": null,
            "_view_module_version": "1.5.0",
            "description_tooltip": null,
            "_model_module": "@jupyter-widgets/controls",
            "layout": "IPY_MODEL_430664e30ed94b82bb582839477fc5e1"
          }
        },
        "ccb5e75736b2461dacb9cf8a7982b6fd": {
          "model_module": "@jupyter-widgets/controls",
          "model_name": "DescriptionStyleModel",
          "model_module_version": "1.5.0",
          "state": {
            "_view_name": "StyleView",
            "_model_name": "DescriptionStyleModel",
            "description_width": "",
            "_view_module": "@jupyter-widgets/base",
            "_model_module_version": "1.5.0",
            "_view_count": null,
            "_view_module_version": "1.2.0",
            "_model_module": "@jupyter-widgets/controls"
          }
        },
        "d50fa5e871f04aaca9fbc727546832f8": {
          "model_module": "@jupyter-widgets/base",
          "model_name": "LayoutModel",
          "model_module_version": "1.2.0",
          "state": {
            "_view_name": "LayoutView",
            "grid_template_rows": null,
            "right": null,
            "justify_content": null,
            "_view_module": "@jupyter-widgets/base",
            "overflow": null,
            "_model_module_version": "1.2.0",
            "_view_count": null,
            "flex_flow": null,
            "width": null,
            "min_width": null,
            "border": null,
            "align_items": null,
            "bottom": null,
            "_model_module": "@jupyter-widgets/base",
            "top": null,
            "grid_column": null,
            "overflow_y": null,
            "overflow_x": null,
            "grid_auto_flow": null,
            "grid_area": null,
            "grid_template_columns": null,
            "flex": null,
            "_model_name": "LayoutModel",
            "justify_items": null,
            "grid_row": null,
            "max_height": null,
            "align_content": null,
            "visibility": null,
            "align_self": null,
            "height": null,
            "min_height": null,
            "padding": null,
            "grid_auto_rows": null,
            "grid_gap": null,
            "max_width": null,
            "order": null,
            "_view_module_version": "1.2.0",
            "grid_template_areas": null,
            "object_position": null,
            "object_fit": null,
            "grid_auto_columns": null,
            "margin": null,
            "display": null,
            "left": null
          }
        },
        "4e655c811f5a44aa9eaac3ef3ff607ea": {
          "model_module": "@jupyter-widgets/controls",
          "model_name": "ProgressStyleModel",
          "model_module_version": "1.5.0",
          "state": {
            "_view_name": "StyleView",
            "_model_name": "ProgressStyleModel",
            "description_width": "",
            "_view_module": "@jupyter-widgets/base",
            "_model_module_version": "1.5.0",
            "_view_count": null,
            "_view_module_version": "1.2.0",
            "bar_color": null,
            "_model_module": "@jupyter-widgets/controls"
          }
        },
        "648c8da00fb04f2795d4ae490a55115f": {
          "model_module": "@jupyter-widgets/base",
          "model_name": "LayoutModel",
          "model_module_version": "1.2.0",
          "state": {
            "_view_name": "LayoutView",
            "grid_template_rows": null,
            "right": null,
            "justify_content": null,
            "_view_module": "@jupyter-widgets/base",
            "overflow": null,
            "_model_module_version": "1.2.0",
            "_view_count": null,
            "flex_flow": null,
            "width": null,
            "min_width": null,
            "border": null,
            "align_items": null,
            "bottom": null,
            "_model_module": "@jupyter-widgets/base",
            "top": null,
            "grid_column": null,
            "overflow_y": null,
            "overflow_x": null,
            "grid_auto_flow": null,
            "grid_area": null,
            "grid_template_columns": null,
            "flex": null,
            "_model_name": "LayoutModel",
            "justify_items": null,
            "grid_row": null,
            "max_height": null,
            "align_content": null,
            "visibility": null,
            "align_self": null,
            "height": null,
            "min_height": null,
            "padding": null,
            "grid_auto_rows": null,
            "grid_gap": null,
            "max_width": null,
            "order": null,
            "_view_module_version": "1.2.0",
            "grid_template_areas": null,
            "object_position": null,
            "object_fit": null,
            "grid_auto_columns": null,
            "margin": null,
            "display": null,
            "left": null
          }
        },
        "6d89fa8073ec4cb98c57f2d0095cc6b0": {
          "model_module": "@jupyter-widgets/controls",
          "model_name": "DescriptionStyleModel",
          "model_module_version": "1.5.0",
          "state": {
            "_view_name": "StyleView",
            "_model_name": "DescriptionStyleModel",
            "description_width": "",
            "_view_module": "@jupyter-widgets/base",
            "_model_module_version": "1.5.0",
            "_view_count": null,
            "_view_module_version": "1.2.0",
            "_model_module": "@jupyter-widgets/controls"
          }
        },
        "430664e30ed94b82bb582839477fc5e1": {
          "model_module": "@jupyter-widgets/base",
          "model_name": "LayoutModel",
          "model_module_version": "1.2.0",
          "state": {
            "_view_name": "LayoutView",
            "grid_template_rows": null,
            "right": null,
            "justify_content": null,
            "_view_module": "@jupyter-widgets/base",
            "overflow": null,
            "_model_module_version": "1.2.0",
            "_view_count": null,
            "flex_flow": null,
            "width": null,
            "min_width": null,
            "border": null,
            "align_items": null,
            "bottom": null,
            "_model_module": "@jupyter-widgets/base",
            "top": null,
            "grid_column": null,
            "overflow_y": null,
            "overflow_x": null,
            "grid_auto_flow": null,
            "grid_area": null,
            "grid_template_columns": null,
            "flex": null,
            "_model_name": "LayoutModel",
            "justify_items": null,
            "grid_row": null,
            "max_height": null,
            "align_content": null,
            "visibility": null,
            "align_self": null,
            "height": null,
            "min_height": null,
            "padding": null,
            "grid_auto_rows": null,
            "grid_gap": null,
            "max_width": null,
            "order": null,
            "_view_module_version": "1.2.0",
            "grid_template_areas": null,
            "object_position": null,
            "object_fit": null,
            "grid_auto_columns": null,
            "margin": null,
            "display": null,
            "left": null
          }
        },
        "d45f2a3d79b64b6ca521e9ed4414a6e0": {
          "model_module": "@jupyter-widgets/controls",
          "model_name": "HBoxModel",
          "model_module_version": "1.5.0",
          "state": {
            "_view_name": "HBoxView",
            "_dom_classes": [],
            "_model_name": "HBoxModel",
            "_view_module": "@jupyter-widgets/controls",
            "_model_module_version": "1.5.0",
            "_view_count": null,
            "_view_module_version": "1.5.0",
            "box_style": "",
            "layout": "IPY_MODEL_ea1a44be6c9445e7adfcffd045514a20",
            "_model_module": "@jupyter-widgets/controls",
            "children": [
              "IPY_MODEL_ec79877b5a274a34972a4fc5effb808f",
              "IPY_MODEL_70329e2b96a64b94929d76874cee66c7",
              "IPY_MODEL_0d1d12c728974740a0c81781039d21c5"
            ]
          }
        },
        "ea1a44be6c9445e7adfcffd045514a20": {
          "model_module": "@jupyter-widgets/base",
          "model_name": "LayoutModel",
          "model_module_version": "1.2.0",
          "state": {
            "_view_name": "LayoutView",
            "grid_template_rows": null,
            "right": null,
            "justify_content": null,
            "_view_module": "@jupyter-widgets/base",
            "overflow": null,
            "_model_module_version": "1.2.0",
            "_view_count": null,
            "flex_flow": null,
            "width": null,
            "min_width": null,
            "border": null,
            "align_items": null,
            "bottom": null,
            "_model_module": "@jupyter-widgets/base",
            "top": null,
            "grid_column": null,
            "overflow_y": null,
            "overflow_x": null,
            "grid_auto_flow": null,
            "grid_area": null,
            "grid_template_columns": null,
            "flex": null,
            "_model_name": "LayoutModel",
            "justify_items": null,
            "grid_row": null,
            "max_height": null,
            "align_content": null,
            "visibility": null,
            "align_self": null,
            "height": null,
            "min_height": null,
            "padding": null,
            "grid_auto_rows": null,
            "grid_gap": null,
            "max_width": null,
            "order": null,
            "_view_module_version": "1.2.0",
            "grid_template_areas": null,
            "object_position": null,
            "object_fit": null,
            "grid_auto_columns": null,
            "margin": null,
            "display": null,
            "left": null
          }
        },
        "ec79877b5a274a34972a4fc5effb808f": {
          "model_module": "@jupyter-widgets/controls",
          "model_name": "HTMLModel",
          "model_module_version": "1.5.0",
          "state": {
            "_view_name": "HTMLView",
            "style": "IPY_MODEL_dc4b2a93c6924718af7d16d14ac0b7dc",
            "_dom_classes": [],
            "description": "",
            "_model_name": "HTMLModel",
            "placeholder": "​",
            "_view_module": "@jupyter-widgets/controls",
            "_model_module_version": "1.5.0",
            "value": "Downloading: 100%",
            "_view_count": null,
            "_view_module_version": "1.5.0",
            "description_tooltip": null,
            "_model_module": "@jupyter-widgets/controls",
            "layout": "IPY_MODEL_2d8f9035848741dcb8685bd3e851e889"
          }
        },
        "70329e2b96a64b94929d76874cee66c7": {
          "model_module": "@jupyter-widgets/controls",
          "model_name": "FloatProgressModel",
          "model_module_version": "1.5.0",
          "state": {
            "_view_name": "ProgressView",
            "style": "IPY_MODEL_439c3c719c1e453b900b1985f9bb4baf",
            "_dom_classes": [],
            "description": "",
            "_model_name": "FloatProgressModel",
            "bar_style": "success",
            "max": 466062,
            "_view_module": "@jupyter-widgets/controls",
            "_model_module_version": "1.5.0",
            "value": 466062,
            "_view_count": null,
            "_view_module_version": "1.5.0",
            "orientation": "horizontal",
            "min": 0,
            "description_tooltip": null,
            "_model_module": "@jupyter-widgets/controls",
            "layout": "IPY_MODEL_c057f31cf96545b68309f97391bcea77"
          }
        },
        "0d1d12c728974740a0c81781039d21c5": {
          "model_module": "@jupyter-widgets/controls",
          "model_name": "HTMLModel",
          "model_module_version": "1.5.0",
          "state": {
            "_view_name": "HTMLView",
            "style": "IPY_MODEL_ddbb8f23079545a789b7e4ed5ef9efdc",
            "_dom_classes": [],
            "description": "",
            "_model_name": "HTMLModel",
            "placeholder": "​",
            "_view_module": "@jupyter-widgets/controls",
            "_model_module_version": "1.5.0",
            "value": " 455k/455k [00:00&lt;00:00, 1.77MB/s]",
            "_view_count": null,
            "_view_module_version": "1.5.0",
            "description_tooltip": null,
            "_model_module": "@jupyter-widgets/controls",
            "layout": "IPY_MODEL_821342b9bda74da2843410c25991451e"
          }
        },
        "dc4b2a93c6924718af7d16d14ac0b7dc": {
          "model_module": "@jupyter-widgets/controls",
          "model_name": "DescriptionStyleModel",
          "model_module_version": "1.5.0",
          "state": {
            "_view_name": "StyleView",
            "_model_name": "DescriptionStyleModel",
            "description_width": "",
            "_view_module": "@jupyter-widgets/base",
            "_model_module_version": "1.5.0",
            "_view_count": null,
            "_view_module_version": "1.2.0",
            "_model_module": "@jupyter-widgets/controls"
          }
        },
        "2d8f9035848741dcb8685bd3e851e889": {
          "model_module": "@jupyter-widgets/base",
          "model_name": "LayoutModel",
          "model_module_version": "1.2.0",
          "state": {
            "_view_name": "LayoutView",
            "grid_template_rows": null,
            "right": null,
            "justify_content": null,
            "_view_module": "@jupyter-widgets/base",
            "overflow": null,
            "_model_module_version": "1.2.0",
            "_view_count": null,
            "flex_flow": null,
            "width": null,
            "min_width": null,
            "border": null,
            "align_items": null,
            "bottom": null,
            "_model_module": "@jupyter-widgets/base",
            "top": null,
            "grid_column": null,
            "overflow_y": null,
            "overflow_x": null,
            "grid_auto_flow": null,
            "grid_area": null,
            "grid_template_columns": null,
            "flex": null,
            "_model_name": "LayoutModel",
            "justify_items": null,
            "grid_row": null,
            "max_height": null,
            "align_content": null,
            "visibility": null,
            "align_self": null,
            "height": null,
            "min_height": null,
            "padding": null,
            "grid_auto_rows": null,
            "grid_gap": null,
            "max_width": null,
            "order": null,
            "_view_module_version": "1.2.0",
            "grid_template_areas": null,
            "object_position": null,
            "object_fit": null,
            "grid_auto_columns": null,
            "margin": null,
            "display": null,
            "left": null
          }
        },
        "439c3c719c1e453b900b1985f9bb4baf": {
          "model_module": "@jupyter-widgets/controls",
          "model_name": "ProgressStyleModel",
          "model_module_version": "1.5.0",
          "state": {
            "_view_name": "StyleView",
            "_model_name": "ProgressStyleModel",
            "description_width": "",
            "_view_module": "@jupyter-widgets/base",
            "_model_module_version": "1.5.0",
            "_view_count": null,
            "_view_module_version": "1.2.0",
            "bar_color": null,
            "_model_module": "@jupyter-widgets/controls"
          }
        },
        "c057f31cf96545b68309f97391bcea77": {
          "model_module": "@jupyter-widgets/base",
          "model_name": "LayoutModel",
          "model_module_version": "1.2.0",
          "state": {
            "_view_name": "LayoutView",
            "grid_template_rows": null,
            "right": null,
            "justify_content": null,
            "_view_module": "@jupyter-widgets/base",
            "overflow": null,
            "_model_module_version": "1.2.0",
            "_view_count": null,
            "flex_flow": null,
            "width": null,
            "min_width": null,
            "border": null,
            "align_items": null,
            "bottom": null,
            "_model_module": "@jupyter-widgets/base",
            "top": null,
            "grid_column": null,
            "overflow_y": null,
            "overflow_x": null,
            "grid_auto_flow": null,
            "grid_area": null,
            "grid_template_columns": null,
            "flex": null,
            "_model_name": "LayoutModel",
            "justify_items": null,
            "grid_row": null,
            "max_height": null,
            "align_content": null,
            "visibility": null,
            "align_self": null,
            "height": null,
            "min_height": null,
            "padding": null,
            "grid_auto_rows": null,
            "grid_gap": null,
            "max_width": null,
            "order": null,
            "_view_module_version": "1.2.0",
            "grid_template_areas": null,
            "object_position": null,
            "object_fit": null,
            "grid_auto_columns": null,
            "margin": null,
            "display": null,
            "left": null
          }
        },
        "ddbb8f23079545a789b7e4ed5ef9efdc": {
          "model_module": "@jupyter-widgets/controls",
          "model_name": "DescriptionStyleModel",
          "model_module_version": "1.5.0",
          "state": {
            "_view_name": "StyleView",
            "_model_name": "DescriptionStyleModel",
            "description_width": "",
            "_view_module": "@jupyter-widgets/base",
            "_model_module_version": "1.5.0",
            "_view_count": null,
            "_view_module_version": "1.2.0",
            "_model_module": "@jupyter-widgets/controls"
          }
        },
        "821342b9bda74da2843410c25991451e": {
          "model_module": "@jupyter-widgets/base",
          "model_name": "LayoutModel",
          "model_module_version": "1.2.0",
          "state": {
            "_view_name": "LayoutView",
            "grid_template_rows": null,
            "right": null,
            "justify_content": null,
            "_view_module": "@jupyter-widgets/base",
            "overflow": null,
            "_model_module_version": "1.2.0",
            "_view_count": null,
            "flex_flow": null,
            "width": null,
            "min_width": null,
            "border": null,
            "align_items": null,
            "bottom": null,
            "_model_module": "@jupyter-widgets/base",
            "top": null,
            "grid_column": null,
            "overflow_y": null,
            "overflow_x": null,
            "grid_auto_flow": null,
            "grid_area": null,
            "grid_template_columns": null,
            "flex": null,
            "_model_name": "LayoutModel",
            "justify_items": null,
            "grid_row": null,
            "max_height": null,
            "align_content": null,
            "visibility": null,
            "align_self": null,
            "height": null,
            "min_height": null,
            "padding": null,
            "grid_auto_rows": null,
            "grid_gap": null,
            "max_width": null,
            "order": null,
            "_view_module_version": "1.2.0",
            "grid_template_areas": null,
            "object_position": null,
            "object_fit": null,
            "grid_auto_columns": null,
            "margin": null,
            "display": null,
            "left": null
          }
        },
        "5da786c17e9545969fc2f0c1bdc34800": {
          "model_module": "@jupyter-widgets/controls",
          "model_name": "HBoxModel",
          "model_module_version": "1.5.0",
          "state": {
            "_view_name": "HBoxView",
            "_dom_classes": [],
            "_model_name": "HBoxModel",
            "_view_module": "@jupyter-widgets/controls",
            "_model_module_version": "1.5.0",
            "_view_count": null,
            "_view_module_version": "1.5.0",
            "box_style": "",
            "layout": "IPY_MODEL_928dfae387b8474d951b7b278eb8ed05",
            "_model_module": "@jupyter-widgets/controls",
            "children": [
              "IPY_MODEL_4dcbdc056bf545198353b162b99c3a07",
              "IPY_MODEL_6a72106a1f4b4eb2bf6bb3e032a8183e",
              "IPY_MODEL_696362d9b62f4dce9f87a69e206deeb1"
            ]
          }
        },
        "928dfae387b8474d951b7b278eb8ed05": {
          "model_module": "@jupyter-widgets/base",
          "model_name": "LayoutModel",
          "model_module_version": "1.2.0",
          "state": {
            "_view_name": "LayoutView",
            "grid_template_rows": null,
            "right": null,
            "justify_content": null,
            "_view_module": "@jupyter-widgets/base",
            "overflow": null,
            "_model_module_version": "1.2.0",
            "_view_count": null,
            "flex_flow": null,
            "width": null,
            "min_width": null,
            "border": null,
            "align_items": null,
            "bottom": null,
            "_model_module": "@jupyter-widgets/base",
            "top": null,
            "grid_column": null,
            "overflow_y": null,
            "overflow_x": null,
            "grid_auto_flow": null,
            "grid_area": null,
            "grid_template_columns": null,
            "flex": null,
            "_model_name": "LayoutModel",
            "justify_items": null,
            "grid_row": null,
            "max_height": null,
            "align_content": null,
            "visibility": null,
            "align_self": null,
            "height": null,
            "min_height": null,
            "padding": null,
            "grid_auto_rows": null,
            "grid_gap": null,
            "max_width": null,
            "order": null,
            "_view_module_version": "1.2.0",
            "grid_template_areas": null,
            "object_position": null,
            "object_fit": null,
            "grid_auto_columns": null,
            "margin": null,
            "display": null,
            "left": null
          }
        },
        "4dcbdc056bf545198353b162b99c3a07": {
          "model_module": "@jupyter-widgets/controls",
          "model_name": "HTMLModel",
          "model_module_version": "1.5.0",
          "state": {
            "_view_name": "HTMLView",
            "style": "IPY_MODEL_6d34abdc682342c08cec8507e864486b",
            "_dom_classes": [],
            "description": "",
            "_model_name": "HTMLModel",
            "placeholder": "​",
            "_view_module": "@jupyter-widgets/controls",
            "_model_module_version": "1.5.0",
            "value": "Downloading: 100%",
            "_view_count": null,
            "_view_module_version": "1.5.0",
            "description_tooltip": null,
            "_model_module": "@jupyter-widgets/controls",
            "layout": "IPY_MODEL_d4cad455691c417b99ff6a0bdc96222f"
          }
        },
        "6a72106a1f4b4eb2bf6bb3e032a8183e": {
          "model_module": "@jupyter-widgets/controls",
          "model_name": "FloatProgressModel",
          "model_module_version": "1.5.0",
          "state": {
            "_view_name": "ProgressView",
            "style": "IPY_MODEL_191bf67043e4482fb739a63dbc3c6ea0",
            "_dom_classes": [],
            "description": "",
            "_model_name": "FloatProgressModel",
            "bar_style": "success",
            "max": 231508,
            "_view_module": "@jupyter-widgets/controls",
            "_model_module_version": "1.5.0",
            "value": 231508,
            "_view_count": null,
            "_view_module_version": "1.5.0",
            "orientation": "horizontal",
            "min": 0,
            "description_tooltip": null,
            "_model_module": "@jupyter-widgets/controls",
            "layout": "IPY_MODEL_203bd901c022490ba6d81b919a4ff3e5"
          }
        },
        "696362d9b62f4dce9f87a69e206deeb1": {
          "model_module": "@jupyter-widgets/controls",
          "model_name": "HTMLModel",
          "model_module_version": "1.5.0",
          "state": {
            "_view_name": "HTMLView",
            "style": "IPY_MODEL_3ce38fca274241c58653070f10731d40",
            "_dom_classes": [],
            "description": "",
            "_model_name": "HTMLModel",
            "placeholder": "​",
            "_view_module": "@jupyter-widgets/controls",
            "_model_module_version": "1.5.0",
            "value": " 226k/226k [00:00&lt;00:00, 1.60MB/s]",
            "_view_count": null,
            "_view_module_version": "1.5.0",
            "description_tooltip": null,
            "_model_module": "@jupyter-widgets/controls",
            "layout": "IPY_MODEL_695700cbddca4ac58d9c766c12d8f306"
          }
        },
        "6d34abdc682342c08cec8507e864486b": {
          "model_module": "@jupyter-widgets/controls",
          "model_name": "DescriptionStyleModel",
          "model_module_version": "1.5.0",
          "state": {
            "_view_name": "StyleView",
            "_model_name": "DescriptionStyleModel",
            "description_width": "",
            "_view_module": "@jupyter-widgets/base",
            "_model_module_version": "1.5.0",
            "_view_count": null,
            "_view_module_version": "1.2.0",
            "_model_module": "@jupyter-widgets/controls"
          }
        },
        "d4cad455691c417b99ff6a0bdc96222f": {
          "model_module": "@jupyter-widgets/base",
          "model_name": "LayoutModel",
          "model_module_version": "1.2.0",
          "state": {
            "_view_name": "LayoutView",
            "grid_template_rows": null,
            "right": null,
            "justify_content": null,
            "_view_module": "@jupyter-widgets/base",
            "overflow": null,
            "_model_module_version": "1.2.0",
            "_view_count": null,
            "flex_flow": null,
            "width": null,
            "min_width": null,
            "border": null,
            "align_items": null,
            "bottom": null,
            "_model_module": "@jupyter-widgets/base",
            "top": null,
            "grid_column": null,
            "overflow_y": null,
            "overflow_x": null,
            "grid_auto_flow": null,
            "grid_area": null,
            "grid_template_columns": null,
            "flex": null,
            "_model_name": "LayoutModel",
            "justify_items": null,
            "grid_row": null,
            "max_height": null,
            "align_content": null,
            "visibility": null,
            "align_self": null,
            "height": null,
            "min_height": null,
            "padding": null,
            "grid_auto_rows": null,
            "grid_gap": null,
            "max_width": null,
            "order": null,
            "_view_module_version": "1.2.0",
            "grid_template_areas": null,
            "object_position": null,
            "object_fit": null,
            "grid_auto_columns": null,
            "margin": null,
            "display": null,
            "left": null
          }
        },
        "191bf67043e4482fb739a63dbc3c6ea0": {
          "model_module": "@jupyter-widgets/controls",
          "model_name": "ProgressStyleModel",
          "model_module_version": "1.5.0",
          "state": {
            "_view_name": "StyleView",
            "_model_name": "ProgressStyleModel",
            "description_width": "",
            "_view_module": "@jupyter-widgets/base",
            "_model_module_version": "1.5.0",
            "_view_count": null,
            "_view_module_version": "1.2.0",
            "bar_color": null,
            "_model_module": "@jupyter-widgets/controls"
          }
        },
        "203bd901c022490ba6d81b919a4ff3e5": {
          "model_module": "@jupyter-widgets/base",
          "model_name": "LayoutModel",
          "model_module_version": "1.2.0",
          "state": {
            "_view_name": "LayoutView",
            "grid_template_rows": null,
            "right": null,
            "justify_content": null,
            "_view_module": "@jupyter-widgets/base",
            "overflow": null,
            "_model_module_version": "1.2.0",
            "_view_count": null,
            "flex_flow": null,
            "width": null,
            "min_width": null,
            "border": null,
            "align_items": null,
            "bottom": null,
            "_model_module": "@jupyter-widgets/base",
            "top": null,
            "grid_column": null,
            "overflow_y": null,
            "overflow_x": null,
            "grid_auto_flow": null,
            "grid_area": null,
            "grid_template_columns": null,
            "flex": null,
            "_model_name": "LayoutModel",
            "justify_items": null,
            "grid_row": null,
            "max_height": null,
            "align_content": null,
            "visibility": null,
            "align_self": null,
            "height": null,
            "min_height": null,
            "padding": null,
            "grid_auto_rows": null,
            "grid_gap": null,
            "max_width": null,
            "order": null,
            "_view_module_version": "1.2.0",
            "grid_template_areas": null,
            "object_position": null,
            "object_fit": null,
            "grid_auto_columns": null,
            "margin": null,
            "display": null,
            "left": null
          }
        },
        "3ce38fca274241c58653070f10731d40": {
          "model_module": "@jupyter-widgets/controls",
          "model_name": "DescriptionStyleModel",
          "model_module_version": "1.5.0",
          "state": {
            "_view_name": "StyleView",
            "_model_name": "DescriptionStyleModel",
            "description_width": "",
            "_view_module": "@jupyter-widgets/base",
            "_model_module_version": "1.5.0",
            "_view_count": null,
            "_view_module_version": "1.2.0",
            "_model_module": "@jupyter-widgets/controls"
          }
        },
        "695700cbddca4ac58d9c766c12d8f306": {
          "model_module": "@jupyter-widgets/base",
          "model_name": "LayoutModel",
          "model_module_version": "1.2.0",
          "state": {
            "_view_name": "LayoutView",
            "grid_template_rows": null,
            "right": null,
            "justify_content": null,
            "_view_module": "@jupyter-widgets/base",
            "overflow": null,
            "_model_module_version": "1.2.0",
            "_view_count": null,
            "flex_flow": null,
            "width": null,
            "min_width": null,
            "border": null,
            "align_items": null,
            "bottom": null,
            "_model_module": "@jupyter-widgets/base",
            "top": null,
            "grid_column": null,
            "overflow_y": null,
            "overflow_x": null,
            "grid_auto_flow": null,
            "grid_area": null,
            "grid_template_columns": null,
            "flex": null,
            "_model_name": "LayoutModel",
            "justify_items": null,
            "grid_row": null,
            "max_height": null,
            "align_content": null,
            "visibility": null,
            "align_self": null,
            "height": null,
            "min_height": null,
            "padding": null,
            "grid_auto_rows": null,
            "grid_gap": null,
            "max_width": null,
            "order": null,
            "_view_module_version": "1.2.0",
            "grid_template_areas": null,
            "object_position": null,
            "object_fit": null,
            "grid_auto_columns": null,
            "margin": null,
            "display": null,
            "left": null
          }
        },
        "9b532d64acc046de8fb9882aaba1dda6": {
          "model_module": "@jupyter-widgets/controls",
          "model_name": "HBoxModel",
          "model_module_version": "1.5.0",
          "state": {
            "_view_name": "HBoxView",
            "_dom_classes": [],
            "_model_name": "HBoxModel",
            "_view_module": "@jupyter-widgets/controls",
            "_model_module_version": "1.5.0",
            "_view_count": null,
            "_view_module_version": "1.5.0",
            "box_style": "",
            "layout": "IPY_MODEL_b7d85d935c414d94a96aa835444bd8fe",
            "_model_module": "@jupyter-widgets/controls",
            "children": [
              "IPY_MODEL_9beed401ba8b49db9dd511a5c6516fcd",
              "IPY_MODEL_4903df2682de43f880f0f08bbc20eda8",
              "IPY_MODEL_73a01fe3cd0d49fa981724f82de156bf"
            ]
          }
        },
        "b7d85d935c414d94a96aa835444bd8fe": {
          "model_module": "@jupyter-widgets/base",
          "model_name": "LayoutModel",
          "model_module_version": "1.2.0",
          "state": {
            "_view_name": "LayoutView",
            "grid_template_rows": null,
            "right": null,
            "justify_content": null,
            "_view_module": "@jupyter-widgets/base",
            "overflow": null,
            "_model_module_version": "1.2.0",
            "_view_count": null,
            "flex_flow": null,
            "width": null,
            "min_width": null,
            "border": null,
            "align_items": null,
            "bottom": null,
            "_model_module": "@jupyter-widgets/base",
            "top": null,
            "grid_column": null,
            "overflow_y": null,
            "overflow_x": null,
            "grid_auto_flow": null,
            "grid_area": null,
            "grid_template_columns": null,
            "flex": null,
            "_model_name": "LayoutModel",
            "justify_items": null,
            "grid_row": null,
            "max_height": null,
            "align_content": null,
            "visibility": null,
            "align_self": null,
            "height": null,
            "min_height": null,
            "padding": null,
            "grid_auto_rows": null,
            "grid_gap": null,
            "max_width": null,
            "order": null,
            "_view_module_version": "1.2.0",
            "grid_template_areas": null,
            "object_position": null,
            "object_fit": null,
            "grid_auto_columns": null,
            "margin": null,
            "display": null,
            "left": null
          }
        },
        "9beed401ba8b49db9dd511a5c6516fcd": {
          "model_module": "@jupyter-widgets/controls",
          "model_name": "HTMLModel",
          "model_module_version": "1.5.0",
          "state": {
            "_view_name": "HTMLView",
            "style": "IPY_MODEL_218d435348084c91a2cba9c0b3543b52",
            "_dom_classes": [],
            "description": "",
            "_model_name": "HTMLModel",
            "placeholder": "​",
            "_view_module": "@jupyter-widgets/controls",
            "_model_module_version": "1.5.0",
            "value": "Downloading: 100%",
            "_view_count": null,
            "_view_module_version": "1.5.0",
            "description_tooltip": null,
            "_model_module": "@jupyter-widgets/controls",
            "layout": "IPY_MODEL_4246d72b12074eec8f33590ab73346a8"
          }
        },
        "4903df2682de43f880f0f08bbc20eda8": {
          "model_module": "@jupyter-widgets/controls",
          "model_name": "FloatProgressModel",
          "model_module_version": "1.5.0",
          "state": {
            "_view_name": "ProgressView",
            "style": "IPY_MODEL_6404129e75864cf2921f64b8961058c5",
            "_dom_classes": [],
            "description": "",
            "_model_name": "FloatProgressModel",
            "bar_style": "success",
            "max": 28,
            "_view_module": "@jupyter-widgets/controls",
            "_model_module_version": "1.5.0",
            "value": 28,
            "_view_count": null,
            "_view_module_version": "1.5.0",
            "orientation": "horizontal",
            "min": 0,
            "description_tooltip": null,
            "_model_module": "@jupyter-widgets/controls",
            "layout": "IPY_MODEL_8e6d422162674513948a48cb6cc7385e"
          }
        },
        "73a01fe3cd0d49fa981724f82de156bf": {
          "model_module": "@jupyter-widgets/controls",
          "model_name": "HTMLModel",
          "model_module_version": "1.5.0",
          "state": {
            "_view_name": "HTMLView",
            "style": "IPY_MODEL_048d73ed06b5486eb218ff9cc93d5ae7",
            "_dom_classes": [],
            "description": "",
            "_model_name": "HTMLModel",
            "placeholder": "​",
            "_view_module": "@jupyter-widgets/controls",
            "_model_module_version": "1.5.0",
            "value": " 28.0/28.0 [00:00&lt;00:00, 989B/s]",
            "_view_count": null,
            "_view_module_version": "1.5.0",
            "description_tooltip": null,
            "_model_module": "@jupyter-widgets/controls",
            "layout": "IPY_MODEL_339f937deb8c4262a2f90251da98dfaf"
          }
        },
        "218d435348084c91a2cba9c0b3543b52": {
          "model_module": "@jupyter-widgets/controls",
          "model_name": "DescriptionStyleModel",
          "model_module_version": "1.5.0",
          "state": {
            "_view_name": "StyleView",
            "_model_name": "DescriptionStyleModel",
            "description_width": "",
            "_view_module": "@jupyter-widgets/base",
            "_model_module_version": "1.5.0",
            "_view_count": null,
            "_view_module_version": "1.2.0",
            "_model_module": "@jupyter-widgets/controls"
          }
        },
        "4246d72b12074eec8f33590ab73346a8": {
          "model_module": "@jupyter-widgets/base",
          "model_name": "LayoutModel",
          "model_module_version": "1.2.0",
          "state": {
            "_view_name": "LayoutView",
            "grid_template_rows": null,
            "right": null,
            "justify_content": null,
            "_view_module": "@jupyter-widgets/base",
            "overflow": null,
            "_model_module_version": "1.2.0",
            "_view_count": null,
            "flex_flow": null,
            "width": null,
            "min_width": null,
            "border": null,
            "align_items": null,
            "bottom": null,
            "_model_module": "@jupyter-widgets/base",
            "top": null,
            "grid_column": null,
            "overflow_y": null,
            "overflow_x": null,
            "grid_auto_flow": null,
            "grid_area": null,
            "grid_template_columns": null,
            "flex": null,
            "_model_name": "LayoutModel",
            "justify_items": null,
            "grid_row": null,
            "max_height": null,
            "align_content": null,
            "visibility": null,
            "align_self": null,
            "height": null,
            "min_height": null,
            "padding": null,
            "grid_auto_rows": null,
            "grid_gap": null,
            "max_width": null,
            "order": null,
            "_view_module_version": "1.2.0",
            "grid_template_areas": null,
            "object_position": null,
            "object_fit": null,
            "grid_auto_columns": null,
            "margin": null,
            "display": null,
            "left": null
          }
        },
        "6404129e75864cf2921f64b8961058c5": {
          "model_module": "@jupyter-widgets/controls",
          "model_name": "ProgressStyleModel",
          "model_module_version": "1.5.0",
          "state": {
            "_view_name": "StyleView",
            "_model_name": "ProgressStyleModel",
            "description_width": "",
            "_view_module": "@jupyter-widgets/base",
            "_model_module_version": "1.5.0",
            "_view_count": null,
            "_view_module_version": "1.2.0",
            "bar_color": null,
            "_model_module": "@jupyter-widgets/controls"
          }
        },
        "8e6d422162674513948a48cb6cc7385e": {
          "model_module": "@jupyter-widgets/base",
          "model_name": "LayoutModel",
          "model_module_version": "1.2.0",
          "state": {
            "_view_name": "LayoutView",
            "grid_template_rows": null,
            "right": null,
            "justify_content": null,
            "_view_module": "@jupyter-widgets/base",
            "overflow": null,
            "_model_module_version": "1.2.0",
            "_view_count": null,
            "flex_flow": null,
            "width": null,
            "min_width": null,
            "border": null,
            "align_items": null,
            "bottom": null,
            "_model_module": "@jupyter-widgets/base",
            "top": null,
            "grid_column": null,
            "overflow_y": null,
            "overflow_x": null,
            "grid_auto_flow": null,
            "grid_area": null,
            "grid_template_columns": null,
            "flex": null,
            "_model_name": "LayoutModel",
            "justify_items": null,
            "grid_row": null,
            "max_height": null,
            "align_content": null,
            "visibility": null,
            "align_self": null,
            "height": null,
            "min_height": null,
            "padding": null,
            "grid_auto_rows": null,
            "grid_gap": null,
            "max_width": null,
            "order": null,
            "_view_module_version": "1.2.0",
            "grid_template_areas": null,
            "object_position": null,
            "object_fit": null,
            "grid_auto_columns": null,
            "margin": null,
            "display": null,
            "left": null
          }
        },
        "048d73ed06b5486eb218ff9cc93d5ae7": {
          "model_module": "@jupyter-widgets/controls",
          "model_name": "DescriptionStyleModel",
          "model_module_version": "1.5.0",
          "state": {
            "_view_name": "StyleView",
            "_model_name": "DescriptionStyleModel",
            "description_width": "",
            "_view_module": "@jupyter-widgets/base",
            "_model_module_version": "1.5.0",
            "_view_count": null,
            "_view_module_version": "1.2.0",
            "_model_module": "@jupyter-widgets/controls"
          }
        },
        "339f937deb8c4262a2f90251da98dfaf": {
          "model_module": "@jupyter-widgets/base",
          "model_name": "LayoutModel",
          "model_module_version": "1.2.0",
          "state": {
            "_view_name": "LayoutView",
            "grid_template_rows": null,
            "right": null,
            "justify_content": null,
            "_view_module": "@jupyter-widgets/base",
            "overflow": null,
            "_model_module_version": "1.2.0",
            "_view_count": null,
            "flex_flow": null,
            "width": null,
            "min_width": null,
            "border": null,
            "align_items": null,
            "bottom": null,
            "_model_module": "@jupyter-widgets/base",
            "top": null,
            "grid_column": null,
            "overflow_y": null,
            "overflow_x": null,
            "grid_auto_flow": null,
            "grid_area": null,
            "grid_template_columns": null,
            "flex": null,
            "_model_name": "LayoutModel",
            "justify_items": null,
            "grid_row": null,
            "max_height": null,
            "align_content": null,
            "visibility": null,
            "align_self": null,
            "height": null,
            "min_height": null,
            "padding": null,
            "grid_auto_rows": null,
            "grid_gap": null,
            "max_width": null,
            "order": null,
            "_view_module_version": "1.2.0",
            "grid_template_areas": null,
            "object_position": null,
            "object_fit": null,
            "grid_auto_columns": null,
            "margin": null,
            "display": null,
            "left": null
          }
        },
        "b5e5710c0e474d3c8fccf6b6b85c6239": {
          "model_module": "@jupyter-widgets/controls",
          "model_name": "HBoxModel",
          "model_module_version": "1.5.0",
          "state": {
            "_view_name": "HBoxView",
            "_dom_classes": [],
            "_model_name": "HBoxModel",
            "_view_module": "@jupyter-widgets/controls",
            "_model_module_version": "1.5.0",
            "_view_count": null,
            "_view_module_version": "1.5.0",
            "box_style": "",
            "layout": "IPY_MODEL_5bb43f0046f148658936ff7158fb6d3f",
            "_model_module": "@jupyter-widgets/controls",
            "children": [
              "IPY_MODEL_6096538fb1b24f2197cd578abc6a46e5",
              "IPY_MODEL_7b260b31ded54de689829f5eada27b3f",
              "IPY_MODEL_dbef01b1c9444fb09aea3c8a96474767"
            ]
          }
        },
        "5bb43f0046f148658936ff7158fb6d3f": {
          "model_module": "@jupyter-widgets/base",
          "model_name": "LayoutModel",
          "model_module_version": "1.2.0",
          "state": {
            "_view_name": "LayoutView",
            "grid_template_rows": null,
            "right": null,
            "justify_content": null,
            "_view_module": "@jupyter-widgets/base",
            "overflow": null,
            "_model_module_version": "1.2.0",
            "_view_count": null,
            "flex_flow": null,
            "width": null,
            "min_width": null,
            "border": null,
            "align_items": null,
            "bottom": null,
            "_model_module": "@jupyter-widgets/base",
            "top": null,
            "grid_column": null,
            "overflow_y": null,
            "overflow_x": null,
            "grid_auto_flow": null,
            "grid_area": null,
            "grid_template_columns": null,
            "flex": null,
            "_model_name": "LayoutModel",
            "justify_items": null,
            "grid_row": null,
            "max_height": null,
            "align_content": null,
            "visibility": null,
            "align_self": null,
            "height": null,
            "min_height": null,
            "padding": null,
            "grid_auto_rows": null,
            "grid_gap": null,
            "max_width": null,
            "order": null,
            "_view_module_version": "1.2.0",
            "grid_template_areas": null,
            "object_position": null,
            "object_fit": null,
            "grid_auto_columns": null,
            "margin": null,
            "display": null,
            "left": null
          }
        },
        "6096538fb1b24f2197cd578abc6a46e5": {
          "model_module": "@jupyter-widgets/controls",
          "model_name": "HTMLModel",
          "model_module_version": "1.5.0",
          "state": {
            "_view_name": "HTMLView",
            "style": "IPY_MODEL_50298057fe3c4b94b81649f1fb84d9cf",
            "_dom_classes": [],
            "description": "",
            "_model_name": "HTMLModel",
            "placeholder": "​",
            "_view_module": "@jupyter-widgets/controls",
            "_model_module_version": "1.5.0",
            "value": "Downloading: 100%",
            "_view_count": null,
            "_view_module_version": "1.5.0",
            "description_tooltip": null,
            "_model_module": "@jupyter-widgets/controls",
            "layout": "IPY_MODEL_2182dc98bf6546af8e53cd60bfbc2891"
          }
        },
        "7b260b31ded54de689829f5eada27b3f": {
          "model_module": "@jupyter-widgets/controls",
          "model_name": "FloatProgressModel",
          "model_module_version": "1.5.0",
          "state": {
            "_view_name": "ProgressView",
            "style": "IPY_MODEL_93387c87212e4fdaad41c7398b49fcf1",
            "_dom_classes": [],
            "description": "",
            "_model_name": "FloatProgressModel",
            "bar_style": "success",
            "max": 466062,
            "_view_module": "@jupyter-widgets/controls",
            "_model_module_version": "1.5.0",
            "value": 466062,
            "_view_count": null,
            "_view_module_version": "1.5.0",
            "orientation": "horizontal",
            "min": 0,
            "description_tooltip": null,
            "_model_module": "@jupyter-widgets/controls",
            "layout": "IPY_MODEL_f71e22f7548b48d0ab05c9021cd54180"
          }
        },
        "dbef01b1c9444fb09aea3c8a96474767": {
          "model_module": "@jupyter-widgets/controls",
          "model_name": "HTMLModel",
          "model_module_version": "1.5.0",
          "state": {
            "_view_name": "HTMLView",
            "style": "IPY_MODEL_0da6c6f419994db3a725557e1eb0509c",
            "_dom_classes": [],
            "description": "",
            "_model_name": "HTMLModel",
            "placeholder": "​",
            "_view_module": "@jupyter-widgets/controls",
            "_model_module_version": "1.5.0",
            "value": " 455k/455k [00:00&lt;00:00, 2.20MB/s]",
            "_view_count": null,
            "_view_module_version": "1.5.0",
            "description_tooltip": null,
            "_model_module": "@jupyter-widgets/controls",
            "layout": "IPY_MODEL_09bf0e6042784b0396e5a0b831ed5dfe"
          }
        },
        "50298057fe3c4b94b81649f1fb84d9cf": {
          "model_module": "@jupyter-widgets/controls",
          "model_name": "DescriptionStyleModel",
          "model_module_version": "1.5.0",
          "state": {
            "_view_name": "StyleView",
            "_model_name": "DescriptionStyleModel",
            "description_width": "",
            "_view_module": "@jupyter-widgets/base",
            "_model_module_version": "1.5.0",
            "_view_count": null,
            "_view_module_version": "1.2.0",
            "_model_module": "@jupyter-widgets/controls"
          }
        },
        "2182dc98bf6546af8e53cd60bfbc2891": {
          "model_module": "@jupyter-widgets/base",
          "model_name": "LayoutModel",
          "model_module_version": "1.2.0",
          "state": {
            "_view_name": "LayoutView",
            "grid_template_rows": null,
            "right": null,
            "justify_content": null,
            "_view_module": "@jupyter-widgets/base",
            "overflow": null,
            "_model_module_version": "1.2.0",
            "_view_count": null,
            "flex_flow": null,
            "width": null,
            "min_width": null,
            "border": null,
            "align_items": null,
            "bottom": null,
            "_model_module": "@jupyter-widgets/base",
            "top": null,
            "grid_column": null,
            "overflow_y": null,
            "overflow_x": null,
            "grid_auto_flow": null,
            "grid_area": null,
            "grid_template_columns": null,
            "flex": null,
            "_model_name": "LayoutModel",
            "justify_items": null,
            "grid_row": null,
            "max_height": null,
            "align_content": null,
            "visibility": null,
            "align_self": null,
            "height": null,
            "min_height": null,
            "padding": null,
            "grid_auto_rows": null,
            "grid_gap": null,
            "max_width": null,
            "order": null,
            "_view_module_version": "1.2.0",
            "grid_template_areas": null,
            "object_position": null,
            "object_fit": null,
            "grid_auto_columns": null,
            "margin": null,
            "display": null,
            "left": null
          }
        },
        "93387c87212e4fdaad41c7398b49fcf1": {
          "model_module": "@jupyter-widgets/controls",
          "model_name": "ProgressStyleModel",
          "model_module_version": "1.5.0",
          "state": {
            "_view_name": "StyleView",
            "_model_name": "ProgressStyleModel",
            "description_width": "",
            "_view_module": "@jupyter-widgets/base",
            "_model_module_version": "1.5.0",
            "_view_count": null,
            "_view_module_version": "1.2.0",
            "bar_color": null,
            "_model_module": "@jupyter-widgets/controls"
          }
        },
        "f71e22f7548b48d0ab05c9021cd54180": {
          "model_module": "@jupyter-widgets/base",
          "model_name": "LayoutModel",
          "model_module_version": "1.2.0",
          "state": {
            "_view_name": "LayoutView",
            "grid_template_rows": null,
            "right": null,
            "justify_content": null,
            "_view_module": "@jupyter-widgets/base",
            "overflow": null,
            "_model_module_version": "1.2.0",
            "_view_count": null,
            "flex_flow": null,
            "width": null,
            "min_width": null,
            "border": null,
            "align_items": null,
            "bottom": null,
            "_model_module": "@jupyter-widgets/base",
            "top": null,
            "grid_column": null,
            "overflow_y": null,
            "overflow_x": null,
            "grid_auto_flow": null,
            "grid_area": null,
            "grid_template_columns": null,
            "flex": null,
            "_model_name": "LayoutModel",
            "justify_items": null,
            "grid_row": null,
            "max_height": null,
            "align_content": null,
            "visibility": null,
            "align_self": null,
            "height": null,
            "min_height": null,
            "padding": null,
            "grid_auto_rows": null,
            "grid_gap": null,
            "max_width": null,
            "order": null,
            "_view_module_version": "1.2.0",
            "grid_template_areas": null,
            "object_position": null,
            "object_fit": null,
            "grid_auto_columns": null,
            "margin": null,
            "display": null,
            "left": null
          }
        },
        "0da6c6f419994db3a725557e1eb0509c": {
          "model_module": "@jupyter-widgets/controls",
          "model_name": "DescriptionStyleModel",
          "model_module_version": "1.5.0",
          "state": {
            "_view_name": "StyleView",
            "_model_name": "DescriptionStyleModel",
            "description_width": "",
            "_view_module": "@jupyter-widgets/base",
            "_model_module_version": "1.5.0",
            "_view_count": null,
            "_view_module_version": "1.2.0",
            "_model_module": "@jupyter-widgets/controls"
          }
        },
        "09bf0e6042784b0396e5a0b831ed5dfe": {
          "model_module": "@jupyter-widgets/base",
          "model_name": "LayoutModel",
          "model_module_version": "1.2.0",
          "state": {
            "_view_name": "LayoutView",
            "grid_template_rows": null,
            "right": null,
            "justify_content": null,
            "_view_module": "@jupyter-widgets/base",
            "overflow": null,
            "_model_module_version": "1.2.0",
            "_view_count": null,
            "flex_flow": null,
            "width": null,
            "min_width": null,
            "border": null,
            "align_items": null,
            "bottom": null,
            "_model_module": "@jupyter-widgets/base",
            "top": null,
            "grid_column": null,
            "overflow_y": null,
            "overflow_x": null,
            "grid_auto_flow": null,
            "grid_area": null,
            "grid_template_columns": null,
            "flex": null,
            "_model_name": "LayoutModel",
            "justify_items": null,
            "grid_row": null,
            "max_height": null,
            "align_content": null,
            "visibility": null,
            "align_self": null,
            "height": null,
            "min_height": null,
            "padding": null,
            "grid_auto_rows": null,
            "grid_gap": null,
            "max_width": null,
            "order": null,
            "_view_module_version": "1.2.0",
            "grid_template_areas": null,
            "object_position": null,
            "object_fit": null,
            "grid_auto_columns": null,
            "margin": null,
            "display": null,
            "left": null
          }
        },
        "992d8b34dc7741f0896e41948b86a41f": {
          "model_module": "@jupyter-widgets/controls",
          "model_name": "HBoxModel",
          "model_module_version": "1.5.0",
          "state": {
            "_view_name": "HBoxView",
            "_dom_classes": [],
            "_model_name": "HBoxModel",
            "_view_module": "@jupyter-widgets/controls",
            "_model_module_version": "1.5.0",
            "_view_count": null,
            "_view_module_version": "1.5.0",
            "box_style": "",
            "layout": "IPY_MODEL_b7ec2d091be8478a852dfe8d299cc40c",
            "_model_module": "@jupyter-widgets/controls",
            "children": [
              "IPY_MODEL_f0ee897a6053436fb9f428944b877ce8",
              "IPY_MODEL_f01e27e070004a53b28bcfd8a054cc50",
              "IPY_MODEL_e3ddb06a89d648439ececedd37edc106"
            ]
          }
        },
        "b7ec2d091be8478a852dfe8d299cc40c": {
          "model_module": "@jupyter-widgets/base",
          "model_name": "LayoutModel",
          "model_module_version": "1.2.0",
          "state": {
            "_view_name": "LayoutView",
            "grid_template_rows": null,
            "right": null,
            "justify_content": null,
            "_view_module": "@jupyter-widgets/base",
            "overflow": null,
            "_model_module_version": "1.2.0",
            "_view_count": null,
            "flex_flow": null,
            "width": null,
            "min_width": null,
            "border": null,
            "align_items": null,
            "bottom": null,
            "_model_module": "@jupyter-widgets/base",
            "top": null,
            "grid_column": null,
            "overflow_y": null,
            "overflow_x": null,
            "grid_auto_flow": null,
            "grid_area": null,
            "grid_template_columns": null,
            "flex": null,
            "_model_name": "LayoutModel",
            "justify_items": null,
            "grid_row": null,
            "max_height": null,
            "align_content": null,
            "visibility": null,
            "align_self": null,
            "height": null,
            "min_height": null,
            "padding": null,
            "grid_auto_rows": null,
            "grid_gap": null,
            "max_width": null,
            "order": null,
            "_view_module_version": "1.2.0",
            "grid_template_areas": null,
            "object_position": null,
            "object_fit": null,
            "grid_auto_columns": null,
            "margin": null,
            "display": null,
            "left": null
          }
        },
        "f0ee897a6053436fb9f428944b877ce8": {
          "model_module": "@jupyter-widgets/controls",
          "model_name": "HTMLModel",
          "model_module_version": "1.5.0",
          "state": {
            "_view_name": "HTMLView",
            "style": "IPY_MODEL_4dce6c67925541f888bce1f5e252a019",
            "_dom_classes": [],
            "description": "",
            "_model_name": "HTMLModel",
            "placeholder": "​",
            "_view_module": "@jupyter-widgets/controls",
            "_model_module_version": "1.5.0",
            "value": "Downloading: 100%",
            "_view_count": null,
            "_view_module_version": "1.5.0",
            "description_tooltip": null,
            "_model_module": "@jupyter-widgets/controls",
            "layout": "IPY_MODEL_772f1b2118084cd8aa42f4eb2ac0597b"
          }
        },
        "f01e27e070004a53b28bcfd8a054cc50": {
          "model_module": "@jupyter-widgets/controls",
          "model_name": "FloatProgressModel",
          "model_module_version": "1.5.0",
          "state": {
            "_view_name": "ProgressView",
            "style": "IPY_MODEL_9a134be95e234d5b894cab37650b7a3f",
            "_dom_classes": [],
            "description": "",
            "_model_name": "FloatProgressModel",
            "bar_style": "success",
            "max": 570,
            "_view_module": "@jupyter-widgets/controls",
            "_model_module_version": "1.5.0",
            "value": 570,
            "_view_count": null,
            "_view_module_version": "1.5.0",
            "orientation": "horizontal",
            "min": 0,
            "description_tooltip": null,
            "_model_module": "@jupyter-widgets/controls",
            "layout": "IPY_MODEL_8737aa350a444a45b2e15e9fbc47edfd"
          }
        },
        "e3ddb06a89d648439ececedd37edc106": {
          "model_module": "@jupyter-widgets/controls",
          "model_name": "HTMLModel",
          "model_module_version": "1.5.0",
          "state": {
            "_view_name": "HTMLView",
            "style": "IPY_MODEL_2e45f2b10c4343f2857b86394b75ffcb",
            "_dom_classes": [],
            "description": "",
            "_model_name": "HTMLModel",
            "placeholder": "​",
            "_view_module": "@jupyter-widgets/controls",
            "_model_module_version": "1.5.0",
            "value": " 570/570 [00:00&lt;00:00, 22.0kB/s]",
            "_view_count": null,
            "_view_module_version": "1.5.0",
            "description_tooltip": null,
            "_model_module": "@jupyter-widgets/controls",
            "layout": "IPY_MODEL_f194da9827ba402eb9489e599c5b3b6e"
          }
        },
        "4dce6c67925541f888bce1f5e252a019": {
          "model_module": "@jupyter-widgets/controls",
          "model_name": "DescriptionStyleModel",
          "model_module_version": "1.5.0",
          "state": {
            "_view_name": "StyleView",
            "_model_name": "DescriptionStyleModel",
            "description_width": "",
            "_view_module": "@jupyter-widgets/base",
            "_model_module_version": "1.5.0",
            "_view_count": null,
            "_view_module_version": "1.2.0",
            "_model_module": "@jupyter-widgets/controls"
          }
        },
        "772f1b2118084cd8aa42f4eb2ac0597b": {
          "model_module": "@jupyter-widgets/base",
          "model_name": "LayoutModel",
          "model_module_version": "1.2.0",
          "state": {
            "_view_name": "LayoutView",
            "grid_template_rows": null,
            "right": null,
            "justify_content": null,
            "_view_module": "@jupyter-widgets/base",
            "overflow": null,
            "_model_module_version": "1.2.0",
            "_view_count": null,
            "flex_flow": null,
            "width": null,
            "min_width": null,
            "border": null,
            "align_items": null,
            "bottom": null,
            "_model_module": "@jupyter-widgets/base",
            "top": null,
            "grid_column": null,
            "overflow_y": null,
            "overflow_x": null,
            "grid_auto_flow": null,
            "grid_area": null,
            "grid_template_columns": null,
            "flex": null,
            "_model_name": "LayoutModel",
            "justify_items": null,
            "grid_row": null,
            "max_height": null,
            "align_content": null,
            "visibility": null,
            "align_self": null,
            "height": null,
            "min_height": null,
            "padding": null,
            "grid_auto_rows": null,
            "grid_gap": null,
            "max_width": null,
            "order": null,
            "_view_module_version": "1.2.0",
            "grid_template_areas": null,
            "object_position": null,
            "object_fit": null,
            "grid_auto_columns": null,
            "margin": null,
            "display": null,
            "left": null
          }
        },
        "9a134be95e234d5b894cab37650b7a3f": {
          "model_module": "@jupyter-widgets/controls",
          "model_name": "ProgressStyleModel",
          "model_module_version": "1.5.0",
          "state": {
            "_view_name": "StyleView",
            "_model_name": "ProgressStyleModel",
            "description_width": "",
            "_view_module": "@jupyter-widgets/base",
            "_model_module_version": "1.5.0",
            "_view_count": null,
            "_view_module_version": "1.2.0",
            "bar_color": null,
            "_model_module": "@jupyter-widgets/controls"
          }
        },
        "8737aa350a444a45b2e15e9fbc47edfd": {
          "model_module": "@jupyter-widgets/base",
          "model_name": "LayoutModel",
          "model_module_version": "1.2.0",
          "state": {
            "_view_name": "LayoutView",
            "grid_template_rows": null,
            "right": null,
            "justify_content": null,
            "_view_module": "@jupyter-widgets/base",
            "overflow": null,
            "_model_module_version": "1.2.0",
            "_view_count": null,
            "flex_flow": null,
            "width": null,
            "min_width": null,
            "border": null,
            "align_items": null,
            "bottom": null,
            "_model_module": "@jupyter-widgets/base",
            "top": null,
            "grid_column": null,
            "overflow_y": null,
            "overflow_x": null,
            "grid_auto_flow": null,
            "grid_area": null,
            "grid_template_columns": null,
            "flex": null,
            "_model_name": "LayoutModel",
            "justify_items": null,
            "grid_row": null,
            "max_height": null,
            "align_content": null,
            "visibility": null,
            "align_self": null,
            "height": null,
            "min_height": null,
            "padding": null,
            "grid_auto_rows": null,
            "grid_gap": null,
            "max_width": null,
            "order": null,
            "_view_module_version": "1.2.0",
            "grid_template_areas": null,
            "object_position": null,
            "object_fit": null,
            "grid_auto_columns": null,
            "margin": null,
            "display": null,
            "left": null
          }
        },
        "2e45f2b10c4343f2857b86394b75ffcb": {
          "model_module": "@jupyter-widgets/controls",
          "model_name": "DescriptionStyleModel",
          "model_module_version": "1.5.0",
          "state": {
            "_view_name": "StyleView",
            "_model_name": "DescriptionStyleModel",
            "description_width": "",
            "_view_module": "@jupyter-widgets/base",
            "_model_module_version": "1.5.0",
            "_view_count": null,
            "_view_module_version": "1.2.0",
            "_model_module": "@jupyter-widgets/controls"
          }
        },
        "f194da9827ba402eb9489e599c5b3b6e": {
          "model_module": "@jupyter-widgets/base",
          "model_name": "LayoutModel",
          "model_module_version": "1.2.0",
          "state": {
            "_view_name": "LayoutView",
            "grid_template_rows": null,
            "right": null,
            "justify_content": null,
            "_view_module": "@jupyter-widgets/base",
            "overflow": null,
            "_model_module_version": "1.2.0",
            "_view_count": null,
            "flex_flow": null,
            "width": null,
            "min_width": null,
            "border": null,
            "align_items": null,
            "bottom": null,
            "_model_module": "@jupyter-widgets/base",
            "top": null,
            "grid_column": null,
            "overflow_y": null,
            "overflow_x": null,
            "grid_auto_flow": null,
            "grid_area": null,
            "grid_template_columns": null,
            "flex": null,
            "_model_name": "LayoutModel",
            "justify_items": null,
            "grid_row": null,
            "max_height": null,
            "align_content": null,
            "visibility": null,
            "align_self": null,
            "height": null,
            "min_height": null,
            "padding": null,
            "grid_auto_rows": null,
            "grid_gap": null,
            "max_width": null,
            "order": null,
            "_view_module_version": "1.2.0",
            "grid_template_areas": null,
            "object_position": null,
            "object_fit": null,
            "grid_auto_columns": null,
            "margin": null,
            "display": null,
            "left": null
          }
        },
        "f0c360aecd7c4e6f8f4f669061c268cb": {
          "model_module": "@jupyter-widgets/controls",
          "model_name": "HBoxModel",
          "model_module_version": "1.5.0",
          "state": {
            "_view_name": "HBoxView",
            "_dom_classes": [],
            "_model_name": "HBoxModel",
            "_view_module": "@jupyter-widgets/controls",
            "_model_module_version": "1.5.0",
            "_view_count": null,
            "_view_module_version": "1.5.0",
            "box_style": "",
            "layout": "IPY_MODEL_4c5e007113864e77934e0ed93086f4f6",
            "_model_module": "@jupyter-widgets/controls",
            "children": [
              "IPY_MODEL_ec0fff8d32e447d8b8a30917dbe92327",
              "IPY_MODEL_a99570a272e647ae9b3c3be9913a4cd5",
              "IPY_MODEL_0dde00f71fc3414bbff65ad9e6a78d97"
            ]
          }
        },
        "4c5e007113864e77934e0ed93086f4f6": {
          "model_module": "@jupyter-widgets/base",
          "model_name": "LayoutModel",
          "model_module_version": "1.2.0",
          "state": {
            "_view_name": "LayoutView",
            "grid_template_rows": null,
            "right": null,
            "justify_content": null,
            "_view_module": "@jupyter-widgets/base",
            "overflow": null,
            "_model_module_version": "1.2.0",
            "_view_count": null,
            "flex_flow": null,
            "width": null,
            "min_width": null,
            "border": null,
            "align_items": null,
            "bottom": null,
            "_model_module": "@jupyter-widgets/base",
            "top": null,
            "grid_column": null,
            "overflow_y": null,
            "overflow_x": null,
            "grid_auto_flow": null,
            "grid_area": null,
            "grid_template_columns": null,
            "flex": null,
            "_model_name": "LayoutModel",
            "justify_items": null,
            "grid_row": null,
            "max_height": null,
            "align_content": null,
            "visibility": null,
            "align_self": null,
            "height": null,
            "min_height": null,
            "padding": null,
            "grid_auto_rows": null,
            "grid_gap": null,
            "max_width": null,
            "order": null,
            "_view_module_version": "1.2.0",
            "grid_template_areas": null,
            "object_position": null,
            "object_fit": null,
            "grid_auto_columns": null,
            "margin": null,
            "display": null,
            "left": null
          }
        },
        "ec0fff8d32e447d8b8a30917dbe92327": {
          "model_module": "@jupyter-widgets/controls",
          "model_name": "HTMLModel",
          "model_module_version": "1.5.0",
          "state": {
            "_view_name": "HTMLView",
            "style": "IPY_MODEL_5b6986cbbb674b379ff99048beff90a1",
            "_dom_classes": [],
            "description": "",
            "_model_name": "HTMLModel",
            "placeholder": "​",
            "_view_module": "@jupyter-widgets/controls",
            "_model_module_version": "1.5.0",
            "value": "Downloading: 100%",
            "_view_count": null,
            "_view_module_version": "1.5.0",
            "description_tooltip": null,
            "_model_module": "@jupyter-widgets/controls",
            "layout": "IPY_MODEL_7cac4b3c136b4161a91ea224f462b4ae"
          }
        },
        "a99570a272e647ae9b3c3be9913a4cd5": {
          "model_module": "@jupyter-widgets/controls",
          "model_name": "FloatProgressModel",
          "model_module_version": "1.5.0",
          "state": {
            "_view_name": "ProgressView",
            "style": "IPY_MODEL_e625797147d34ce6bc1d263c9fe1cbbd",
            "_dom_classes": [],
            "description": "",
            "_model_name": "FloatProgressModel",
            "bar_style": "success",
            "max": 1472569832,
            "_view_module": "@jupyter-widgets/controls",
            "_model_module_version": "1.5.0",
            "value": 1472569832,
            "_view_count": null,
            "_view_module_version": "1.5.0",
            "orientation": "horizontal",
            "min": 0,
            "description_tooltip": null,
            "_model_module": "@jupyter-widgets/controls",
            "layout": "IPY_MODEL_c2e7226911424bc39cd78f8793506b6f"
          }
        },
        "0dde00f71fc3414bbff65ad9e6a78d97": {
          "model_module": "@jupyter-widgets/controls",
          "model_name": "HTMLModel",
          "model_module_version": "1.5.0",
          "state": {
            "_view_name": "HTMLView",
            "style": "IPY_MODEL_648322bf6b9d4ca1ac04451dade20076",
            "_dom_classes": [],
            "description": "",
            "_model_name": "HTMLModel",
            "placeholder": "​",
            "_view_module": "@jupyter-widgets/controls",
            "_model_module_version": "1.5.0",
            "value": " 1.37G/1.37G [00:33&lt;00:00, 30.5MB/s]",
            "_view_count": null,
            "_view_module_version": "1.5.0",
            "description_tooltip": null,
            "_model_module": "@jupyter-widgets/controls",
            "layout": "IPY_MODEL_eceb22442f68456e93550bf82047d14f"
          }
        },
        "5b6986cbbb674b379ff99048beff90a1": {
          "model_module": "@jupyter-widgets/controls",
          "model_name": "DescriptionStyleModel",
          "model_module_version": "1.5.0",
          "state": {
            "_view_name": "StyleView",
            "_model_name": "DescriptionStyleModel",
            "description_width": "",
            "_view_module": "@jupyter-widgets/base",
            "_model_module_version": "1.5.0",
            "_view_count": null,
            "_view_module_version": "1.2.0",
            "_model_module": "@jupyter-widgets/controls"
          }
        },
        "7cac4b3c136b4161a91ea224f462b4ae": {
          "model_module": "@jupyter-widgets/base",
          "model_name": "LayoutModel",
          "model_module_version": "1.2.0",
          "state": {
            "_view_name": "LayoutView",
            "grid_template_rows": null,
            "right": null,
            "justify_content": null,
            "_view_module": "@jupyter-widgets/base",
            "overflow": null,
            "_model_module_version": "1.2.0",
            "_view_count": null,
            "flex_flow": null,
            "width": null,
            "min_width": null,
            "border": null,
            "align_items": null,
            "bottom": null,
            "_model_module": "@jupyter-widgets/base",
            "top": null,
            "grid_column": null,
            "overflow_y": null,
            "overflow_x": null,
            "grid_auto_flow": null,
            "grid_area": null,
            "grid_template_columns": null,
            "flex": null,
            "_model_name": "LayoutModel",
            "justify_items": null,
            "grid_row": null,
            "max_height": null,
            "align_content": null,
            "visibility": null,
            "align_self": null,
            "height": null,
            "min_height": null,
            "padding": null,
            "grid_auto_rows": null,
            "grid_gap": null,
            "max_width": null,
            "order": null,
            "_view_module_version": "1.2.0",
            "grid_template_areas": null,
            "object_position": null,
            "object_fit": null,
            "grid_auto_columns": null,
            "margin": null,
            "display": null,
            "left": null
          }
        },
        "e625797147d34ce6bc1d263c9fe1cbbd": {
          "model_module": "@jupyter-widgets/controls",
          "model_name": "ProgressStyleModel",
          "model_module_version": "1.5.0",
          "state": {
            "_view_name": "StyleView",
            "_model_name": "ProgressStyleModel",
            "description_width": "",
            "_view_module": "@jupyter-widgets/base",
            "_model_module_version": "1.5.0",
            "_view_count": null,
            "_view_module_version": "1.2.0",
            "bar_color": null,
            "_model_module": "@jupyter-widgets/controls"
          }
        },
        "c2e7226911424bc39cd78f8793506b6f": {
          "model_module": "@jupyter-widgets/base",
          "model_name": "LayoutModel",
          "model_module_version": "1.2.0",
          "state": {
            "_view_name": "LayoutView",
            "grid_template_rows": null,
            "right": null,
            "justify_content": null,
            "_view_module": "@jupyter-widgets/base",
            "overflow": null,
            "_model_module_version": "1.2.0",
            "_view_count": null,
            "flex_flow": null,
            "width": null,
            "min_width": null,
            "border": null,
            "align_items": null,
            "bottom": null,
            "_model_module": "@jupyter-widgets/base",
            "top": null,
            "grid_column": null,
            "overflow_y": null,
            "overflow_x": null,
            "grid_auto_flow": null,
            "grid_area": null,
            "grid_template_columns": null,
            "flex": null,
            "_model_name": "LayoutModel",
            "justify_items": null,
            "grid_row": null,
            "max_height": null,
            "align_content": null,
            "visibility": null,
            "align_self": null,
            "height": null,
            "min_height": null,
            "padding": null,
            "grid_auto_rows": null,
            "grid_gap": null,
            "max_width": null,
            "order": null,
            "_view_module_version": "1.2.0",
            "grid_template_areas": null,
            "object_position": null,
            "object_fit": null,
            "grid_auto_columns": null,
            "margin": null,
            "display": null,
            "left": null
          }
        },
        "648322bf6b9d4ca1ac04451dade20076": {
          "model_module": "@jupyter-widgets/controls",
          "model_name": "DescriptionStyleModel",
          "model_module_version": "1.5.0",
          "state": {
            "_view_name": "StyleView",
            "_model_name": "DescriptionStyleModel",
            "description_width": "",
            "_view_module": "@jupyter-widgets/base",
            "_model_module_version": "1.5.0",
            "_view_count": null,
            "_view_module_version": "1.2.0",
            "_model_module": "@jupyter-widgets/controls"
          }
        },
        "eceb22442f68456e93550bf82047d14f": {
          "model_module": "@jupyter-widgets/base",
          "model_name": "LayoutModel",
          "model_module_version": "1.2.0",
          "state": {
            "_view_name": "LayoutView",
            "grid_template_rows": null,
            "right": null,
            "justify_content": null,
            "_view_module": "@jupyter-widgets/base",
            "overflow": null,
            "_model_module_version": "1.2.0",
            "_view_count": null,
            "flex_flow": null,
            "width": null,
            "min_width": null,
            "border": null,
            "align_items": null,
            "bottom": null,
            "_model_module": "@jupyter-widgets/base",
            "top": null,
            "grid_column": null,
            "overflow_y": null,
            "overflow_x": null,
            "grid_auto_flow": null,
            "grid_area": null,
            "grid_template_columns": null,
            "flex": null,
            "_model_name": "LayoutModel",
            "justify_items": null,
            "grid_row": null,
            "max_height": null,
            "align_content": null,
            "visibility": null,
            "align_self": null,
            "height": null,
            "min_height": null,
            "padding": null,
            "grid_auto_rows": null,
            "grid_gap": null,
            "max_width": null,
            "order": null,
            "_view_module_version": "1.2.0",
            "grid_template_areas": null,
            "object_position": null,
            "object_fit": null,
            "grid_auto_columns": null,
            "margin": null,
            "display": null,
            "left": null
          }
        }
      }
    }
  },
  "cells": [
    {
      "cell_type": "code",
      "metadata": {
        "colab": {
          "base_uri": "https://localhost:8080/"
        },
        "id": "MFajDbZuWSCu",
        "outputId": "2a00d223-f244-426c-9a4c-9744173a0eb7"
      },
      "source": [
        "from google.colab import drive   \n",
        "drive.mount('/content/drive') "
      ],
      "execution_count": null,
      "outputs": [
        {
          "output_type": "stream",
          "name": "stdout",
          "text": [
            "Mounted at /content/drive\n"
          ]
        }
      ]
    },
    {
      "cell_type": "code",
      "metadata": {
        "id": "3KJ72prfPA8Z"
      },
      "source": [
        "# This Python 3 environment comes with many helpful analytics libraries installed\n",
        "# It is defined by the kaggle/python Docker image: https://github.com/kaggle/docker-python\n",
        "# For example, here's several helpful packages to load\n",
        "\n",
        "import numpy as np # linear algebra\n",
        "import pandas as pd # data processing, CSV file I/O (e.g. pd.read_csv)\n",
        "\n",
        "# Input data files are available in the read-only \"../input/\" directory\n",
        "# For example, running this (by clicking run or pressing Shift+Enter) will list all files under the input directory\n",
        "\n",
        "import os\n",
        "for dirname, _, filenames in os.walk('/kaggle/input'):\n",
        "    for filename in filenames:\n",
        "        print(os.path.join(dirname, filename))\n",
        "\n",
        "# You can write up to 20GB to the current directory (/kaggle/working/) that gets preserved as output when you create a version using \"Save & Run All\" \n",
        "# You can also write temporary files to /kaggle/temp/, but they won't be saved outside of the current session"
      ],
      "execution_count": null,
      "outputs": []
    },
    {
      "cell_type": "code",
      "metadata": {
        "id": "7s_rpbIePA8e"
      },
      "source": [
        "import re # for regular expressions\n",
        "import pandas as pd \n",
        "pd.set_option(\"display.max_colwidth\", 200)\n",
        "import numpy as np \n",
        "import matplotlib.pyplot as plt \n",
        "import seaborn as sns\n",
        "import string\n",
        "import nltk # for text manipulation\n",
        "import warnings \n",
        "warnings.filterwarnings(\"ignore\", category=DeprecationWarning)\n",
        "\n",
        "%matplotlib inline"
      ],
      "execution_count": null,
      "outputs": []
    },
    {
      "cell_type": "code",
      "metadata": {
        "id": "Nt3tGg5uPA8f"
      },
      "source": [
        "from sklearn.linear_model import LogisticRegression\n",
        "from sklearn.model_selection import train_test_split\n",
        "from sklearn.metrics import f1_score\n",
        "from sklearn.preprocessing import LabelEncoder\n",
        "from sklearn.metrics import classification_report\n",
        "from sklearn.metrics import accuracy_score\n",
        "import sklearn.metrics as metrics\n",
        "models_accuracy={}\n",
        "import warnings\n",
        "warnings.filterwarnings('ignore') "
      ],
      "execution_count": null,
      "outputs": []
    },
    {
      "cell_type": "code",
      "metadata": {
        "id": "K2WpnQuuPA8g"
      },
      "source": [
        "from tqdm import tqdm\n",
        "from nltk.corpus import stopwords\n",
        "from nltk.tokenize import RegexpTokenizer \n",
        "import os, re, csv, math, codecs\n",
        "import pickle"
      ],
      "execution_count": null,
      "outputs": []
    },
    {
      "cell_type": "code",
      "metadata": {
        "id": "CD3IS2wgXAEW"
      },
      "source": [
        ""
      ],
      "execution_count": null,
      "outputs": []
    },
    {
      "cell_type": "code",
      "metadata": {
        "colab": {
          "base_uri": "https://localhost:8080/",
          "height": 204
        },
        "id": "OH7zWfz0PA8g",
        "outputId": "c352e86b-ad84-4804-830f-f112408974bd"
      },
      "source": [
        "data=pd.read_csv('/content/drive/MyDrive/MBTI/mbti_1.csv')\n",
        "data.head()"
      ],
      "execution_count": null,
      "outputs": [
        {
          "output_type": "execute_result",
          "data": {
            "text/html": [
              "<div>\n",
              "<style scoped>\n",
              "    .dataframe tbody tr th:only-of-type {\n",
              "        vertical-align: middle;\n",
              "    }\n",
              "\n",
              "    .dataframe tbody tr th {\n",
              "        vertical-align: top;\n",
              "    }\n",
              "\n",
              "    .dataframe thead th {\n",
              "        text-align: right;\n",
              "    }\n",
              "</style>\n",
              "<table border=\"1\" class=\"dataframe\">\n",
              "  <thead>\n",
              "    <tr style=\"text-align: right;\">\n",
              "      <th></th>\n",
              "      <th>type</th>\n",
              "      <th>posts</th>\n",
              "    </tr>\n",
              "  </thead>\n",
              "  <tbody>\n",
              "    <tr>\n",
              "      <th>0</th>\n",
              "      <td>INFJ</td>\n",
              "      <td>'http://www.youtube.com/watch?v=qsXHcwe3krw|||http://41.media.tumblr.com/tumblr_lfouy03PMA1qa1rooo1_500.jpg|||enfp and intj moments  https://www.youtube.com/watch?v=iz7lE1g4XM4  sportscenter not t...</td>\n",
              "    </tr>\n",
              "    <tr>\n",
              "      <th>1</th>\n",
              "      <td>ENTP</td>\n",
              "      <td>'I'm finding the lack of me in these posts very alarming.|||Sex can be boring if it's in the same position often. For example me and my girlfriend are currently in an environment where we have to ...</td>\n",
              "    </tr>\n",
              "    <tr>\n",
              "      <th>2</th>\n",
              "      <td>INTP</td>\n",
              "      <td>'Good one  _____   https://www.youtube.com/watch?v=fHiGbolFFGw|||Of course, to which I say I know; that's my blessing and my curse.|||Does being absolutely positive that you and your best friend c...</td>\n",
              "    </tr>\n",
              "    <tr>\n",
              "      <th>3</th>\n",
              "      <td>INTJ</td>\n",
              "      <td>'Dear INTP,   I enjoyed our conversation the other day.  Esoteric gabbing about the nature of the universe and the idea that every rule and social code being arbitrary constructs created...|||Dear...</td>\n",
              "    </tr>\n",
              "    <tr>\n",
              "      <th>4</th>\n",
              "      <td>ENTJ</td>\n",
              "      <td>'You're fired.|||That's another silly misconception. That approaching is logically is going to be the key to unlocking whatever it is you think you are entitled to.   Nobody wants to be approached...</td>\n",
              "    </tr>\n",
              "  </tbody>\n",
              "</table>\n",
              "</div>"
            ],
            "text/plain": [
              "   type                                                                                                                                                                                                    posts\n",
              "0  INFJ  'http://www.youtube.com/watch?v=qsXHcwe3krw|||http://41.media.tumblr.com/tumblr_lfouy03PMA1qa1rooo1_500.jpg|||enfp and intj moments  https://www.youtube.com/watch?v=iz7lE1g4XM4  sportscenter not t...\n",
              "1  ENTP  'I'm finding the lack of me in these posts very alarming.|||Sex can be boring if it's in the same position often. For example me and my girlfriend are currently in an environment where we have to ...\n",
              "2  INTP  'Good one  _____   https://www.youtube.com/watch?v=fHiGbolFFGw|||Of course, to which I say I know; that's my blessing and my curse.|||Does being absolutely positive that you and your best friend c...\n",
              "3  INTJ  'Dear INTP,   I enjoyed our conversation the other day.  Esoteric gabbing about the nature of the universe and the idea that every rule and social code being arbitrary constructs created...|||Dear...\n",
              "4  ENTJ  'You're fired.|||That's another silly misconception. That approaching is logically is going to be the key to unlocking whatever it is you think you are entitled to.   Nobody wants to be approached..."
            ]
          },
          "metadata": {},
          "execution_count": 6
        }
      ]
    },
    {
      "cell_type": "markdown",
      "metadata": {
        "id": "WXsMk1ImXP4U"
      },
      "source": [
        "# Data Cleaning"
      ]
    },
    {
      "cell_type": "code",
      "metadata": {
        "id": "xiK5sgECPA8h"
      },
      "source": [
        "# Function To replace \"|||\" from text with \" \" Join all texts written by 1 Person \n",
        "def replace_sep(text):\n",
        "    \"\"\"Remove '|||' which is used as seprator \"\"\"\n",
        "    text = text.replace(\"|||\",\" \")\n",
        "    return text\n",
        "  \n",
        "# Function To remove Links from text and replace them with 'Link' \n",
        "def remove_link(text):\n",
        "    \"\"\"Replace Links from text to 'Link' \"\"\"\n",
        "    #text = re.sub(r\"http\\S+\", \"Link\", text, flags=re.MULTILINE)\n",
        "    text = re.sub('https?://[^\\s<>\"]+|www\\.[^\\s<>\"]+',' ',text)\n",
        "    return text\n",
        "\n",
        "# Function To Remove punctuation from Text \n",
        "def remove_punctuation(words):\n",
        "    \"\"\"Remove punctuation from list of tokenized words\"\"\"\n",
        "    new_words = []\n",
        "    for word in words:\n",
        "        new_word = re.sub(r'[^\\w\\s]', '', word)\n",
        "        if new_word != '':\n",
        "            new_words.append(new_word)\n",
        "    return new_words\n",
        "\n",
        "# function for removing other symbols\n",
        "def remove_symbols(text):\n",
        "    text = re.sub('[^0-9a-z]',' ',text)\n",
        "    return text\n",
        "    "
      ],
      "execution_count": null,
      "outputs": []
    },
    {
      "cell_type": "code",
      "metadata": {
        "id": "ipHtV_UqPA8i"
      },
      "source": [
        "def pre_processing_stage_1(text):\n",
        "    text = replace_sep(text)  # Calling Function to remove \"|||\" seprator and join all texts \n",
        "    text = remove_link(text) # calling function to removes Links \n",
        "   # text = remove_symbols(text) # calling function to remove symbols\n",
        "    text = text.lower()     # To convert whole text To lower\n",
        "    return text\n",
        "\n",
        "def Clean_Data1(df):\n",
        "    print(\"PreProcessing----------- \")\n",
        "    for i in tqdm(range(df.shape[0])):\n",
        "        text = df.iloc[i][1]                      # Getting data from DataFrame to Text varibale to Preprocess\n",
        "        text = pre_processing_stage_1(text)       # calling Function to merge texts and Do 1st level pre-processing          \n",
        "        df.at[i,'posts'] =text\n",
        "    return df"
      ],
      "execution_count": null,
      "outputs": []
    },
    {
      "cell_type": "code",
      "metadata": {
        "colab": {
          "base_uri": "https://localhost:8080/"
        },
        "id": "9HTHaZdxPA8j",
        "outputId": "d0fa8e0e-21d2-4751-dbbb-f6d267f8cb00"
      },
      "source": [
        "data_MBTI_Clean = Clean_Data1(data)"
      ],
      "execution_count": null,
      "outputs": [
        {
          "output_type": "stream",
          "name": "stdout",
          "text": [
            "PreProcessing----------- \n"
          ]
        },
        {
          "output_type": "stream",
          "name": "stderr",
          "text": [
            "100%|██████████| 8675/8675 [00:01<00:00, 5345.13it/s]\n"
          ]
        }
      ]
    },
    {
      "cell_type": "code",
      "metadata": {
        "id": "3luC9C7dPA8k"
      },
      "source": [
        "import pandas as pd\n",
        "import numpy as np\n",
        "\n",
        "#df = pd.read_csv('../input/mbti-type/mbti_1.csv')\n",
        "data_MBTI_Clean['split'] = np.random.randn(data_MBTI_Clean.shape[0], 1)\n",
        "\n",
        "msk = np.random.rand(len(data_MBTI_Clean)) <= 0.7\n",
        "\n",
        "train = data_MBTI_Clean[msk]\n",
        "test = data_MBTI_Clean[~msk]"
      ],
      "execution_count": null,
      "outputs": []
    },
    {
      "cell_type": "code",
      "metadata": {
        "colab": {
          "base_uri": "https://localhost:8080/"
        },
        "id": "7uVzBJb-PA8l",
        "outputId": "69c896f8-5d41-4d30-885f-a46ce8ad06ef"
      },
      "source": [
        "train.shape"
      ],
      "execution_count": null,
      "outputs": [
        {
          "output_type": "execute_result",
          "data": {
            "text/plain": [
              "(6122, 3)"
            ]
          },
          "metadata": {},
          "execution_count": 11
        }
      ]
    },
    {
      "cell_type": "code",
      "metadata": {
        "colab": {
          "base_uri": "https://localhost:8080/"
        },
        "id": "sd2eqZAPPA8l",
        "outputId": "8be29147-d97b-44dc-8a00-9c4132fa15c8"
      },
      "source": [
        "test.shape"
      ],
      "execution_count": null,
      "outputs": [
        {
          "output_type": "execute_result",
          "data": {
            "text/plain": [
              "(2553, 3)"
            ]
          },
          "metadata": {},
          "execution_count": 12
        }
      ]
    },
    {
      "cell_type": "code",
      "metadata": {
        "colab": {
          "base_uri": "https://localhost:8080/",
          "height": 204
        },
        "id": "CK-G3QAaPA8m",
        "outputId": "edd54849-ce96-4fa3-eb21-dc3fc3a9eff0"
      },
      "source": [
        "train.head()"
      ],
      "execution_count": null,
      "outputs": [
        {
          "output_type": "execute_result",
          "data": {
            "text/html": [
              "<div>\n",
              "<style scoped>\n",
              "    .dataframe tbody tr th:only-of-type {\n",
              "        vertical-align: middle;\n",
              "    }\n",
              "\n",
              "    .dataframe tbody tr th {\n",
              "        vertical-align: top;\n",
              "    }\n",
              "\n",
              "    .dataframe thead th {\n",
              "        text-align: right;\n",
              "    }\n",
              "</style>\n",
              "<table border=\"1\" class=\"dataframe\">\n",
              "  <thead>\n",
              "    <tr style=\"text-align: right;\">\n",
              "      <th></th>\n",
              "      <th>type</th>\n",
              "      <th>posts</th>\n",
              "      <th>split</th>\n",
              "    </tr>\n",
              "  </thead>\n",
              "  <tbody>\n",
              "    <tr>\n",
              "      <th>0</th>\n",
              "      <td>INFJ</td>\n",
              "      <td>'    enfp and intj moments     sportscenter not top ten plays     pranks what has been the most life-changing experience in your life?        on repeat for most of today. may the perc experience i...</td>\n",
              "      <td>0.066790</td>\n",
              "    </tr>\n",
              "    <tr>\n",
              "      <th>1</th>\n",
              "      <td>ENTP</td>\n",
              "      <td>'i'm finding the lack of me in these posts very alarming. sex can be boring if it's in the same position often. for example me and my girlfriend are currently in an environment where we have to cr...</td>\n",
              "      <td>1.471180</td>\n",
              "    </tr>\n",
              "    <tr>\n",
              "      <th>3</th>\n",
              "      <td>INTJ</td>\n",
              "      <td>'dear intp,   i enjoyed our conversation the other day.  esoteric gabbing about the nature of the universe and the idea that every rule and social code being arbitrary constructs created... dear e...</td>\n",
              "      <td>-1.732081</td>\n",
              "    </tr>\n",
              "    <tr>\n",
              "      <th>4</th>\n",
              "      <td>ENTJ</td>\n",
              "      <td>'you're fired. that's another silly misconception. that approaching is logically is going to be the key to unlocking whatever it is you think you are entitled to.   nobody wants to be approached w...</td>\n",
              "      <td>-0.397497</td>\n",
              "    </tr>\n",
              "    <tr>\n",
              "      <th>6</th>\n",
              "      <td>INFJ</td>\n",
              "      <td>'no, i can't draw on my own nails (haha). those were done by professionals on my nails. and yes, those are all gel.  you mean those you posted were done by yourself on your own nails? awesome! pro...</td>\n",
              "      <td>-1.005515</td>\n",
              "    </tr>\n",
              "  </tbody>\n",
              "</table>\n",
              "</div>"
            ],
            "text/plain": [
              "   type  ...     split\n",
              "0  INFJ  ...  0.066790\n",
              "1  ENTP  ...  1.471180\n",
              "3  INTJ  ... -1.732081\n",
              "4  ENTJ  ... -0.397497\n",
              "6  INFJ  ... -1.005515\n",
              "\n",
              "[5 rows x 3 columns]"
            ]
          },
          "metadata": {},
          "execution_count": 13
        }
      ]
    },
    {
      "cell_type": "code",
      "metadata": {
        "colab": {
          "base_uri": "https://localhost:8080/"
        },
        "id": "aW-HvFguPA8m",
        "outputId": "90dae8d1-9928-482f-8066-11bd24e7ac3f"
      },
      "source": [
        "train[\"type\"].value_counts()"
      ],
      "execution_count": null,
      "outputs": [
        {
          "output_type": "execute_result",
          "data": {
            "text/plain": [
              "INFP    1331\n",
              "INFJ    1020\n",
              "INTP     914\n",
              "INTJ     769\n",
              "ENFP     482\n",
              "ENTP     479\n",
              "ISTP     250\n",
              "ISFP     186\n",
              "ENTJ     163\n",
              "ENFJ     136\n",
              "ISTJ     136\n",
              "ISFJ     110\n",
              "ESTP      59\n",
              "ESFP      35\n",
              "ESTJ      28\n",
              "ESFJ      24\n",
              "Name: type, dtype: int64"
            ]
          },
          "metadata": {},
          "execution_count": 14
        }
      ]
    },
    {
      "cell_type": "code",
      "metadata": {
        "colab": {
          "base_uri": "https://localhost:8080/"
        },
        "id": "xYSpc7YURWUv",
        "outputId": "90e55f6a-b197-4b14-fbb6-ed1fb0d7cea9"
      },
      "source": [
        "test[\"type\"].value_counts()"
      ],
      "execution_count": null,
      "outputs": [
        {
          "output_type": "execute_result",
          "data": {
            "text/plain": [
              "INFP    501\n",
              "INFJ    450\n",
              "INTP    390\n",
              "INTJ    322\n",
              "ENTP    206\n",
              "ENFP    193\n",
              "ISTP     87\n",
              "ISFP     85\n",
              "ISTJ     69\n",
              "ENTJ     68\n",
              "ISFJ     56\n",
              "ENFJ     54\n",
              "ESTP     30\n",
              "ESFJ     18\n",
              "ESFP     13\n",
              "ESTJ     11\n",
              "Name: type, dtype: int64"
            ]
          },
          "metadata": {},
          "execution_count": 22
        }
      ]
    },
    {
      "cell_type": "code",
      "metadata": {
        "colab": {
          "base_uri": "https://localhost:8080/",
          "height": 265
        },
        "id": "k7Bz-Co-PA8n",
        "outputId": "3d0f51e9-d34d-4c9f-d9be-7d25edddf889"
      },
      "source": [
        "length_train = train['posts'].str.len()\n",
        "length_test = test['posts'].str.len()\n",
        "\n",
        "plt.hist(length_train, bins=20, label=\"train_posts\")\n",
        "plt.hist(length_test, bins=20, label=\"test_posts\")\n",
        "plt.legend()\n",
        "plt.show()"
      ],
      "execution_count": null,
      "outputs": [
        {
          "output_type": "display_data",
          "data": {
            "image/png": "[encoded data removed]",
            "text/plain": [
              "<Figure size 432x288 with 1 Axes>"
            ]
          },
          "metadata": {
            "needs_background": "light"
          }
        }
      ]
    },
    {
      "cell_type": "code",
      "metadata": {
        "colab": {
          "base_uri": "https://localhost:8080/"
        },
        "id": "uiY_OSJkPA8n",
        "outputId": "44337165-088a-4b4f-b824-b12d93cc50a3"
      },
      "source": [
        "combi = train.append(test, ignore_index=True)\n",
        "combi.shape"
      ],
      "execution_count": null,
      "outputs": [
        {
          "output_type": "execute_result",
          "data": {
            "text/plain": [
              "(8675, 3)"
            ]
          },
          "metadata": {},
          "execution_count": 16
        }
      ]
    },
    {
      "cell_type": "code",
      "metadata": {
        "id": "VsshadiNPA8n"
      },
      "source": [
        "def remove_pattern(input_txt, pattern):\n",
        "    r = re.findall(pattern, input_txt)\n",
        "    for i in r:\n",
        "        input_txt = re.sub(i, '', input_txt)\n",
        "        \n",
        "    return input_txt"
      ],
      "execution_count": null,
      "outputs": []
    },
    {
      "cell_type": "code",
      "metadata": {
        "colab": {
          "base_uri": "https://localhost:8080/",
          "height": 289
        },
        "id": "WLtRXs3MPA8o",
        "outputId": "2d7557b6-8af6-4940-a2f6-51ae506b17f1"
      },
      "source": [
        "combi['tidy_posts'] = np.vectorize(remove_pattern)(combi['posts'], \"@[\\w]*\") \n",
        "combi.head()"
      ],
      "execution_count": null,
      "outputs": [
        {
          "output_type": "execute_result",
          "data": {
            "text/html": [
              "<div>\n",
              "<style scoped>\n",
              "    .dataframe tbody tr th:only-of-type {\n",
              "        vertical-align: middle;\n",
              "    }\n",
              "\n",
              "    .dataframe tbody tr th {\n",
              "        vertical-align: top;\n",
              "    }\n",
              "\n",
              "    .dataframe thead th {\n",
              "        text-align: right;\n",
              "    }\n",
              "</style>\n",
              "<table border=\"1\" class=\"dataframe\">\n",
              "  <thead>\n",
              "    <tr style=\"text-align: right;\">\n",
              "      <th></th>\n",
              "      <th>type</th>\n",
              "      <th>posts</th>\n",
              "      <th>split</th>\n",
              "      <th>tidy_posts</th>\n",
              "    </tr>\n",
              "  </thead>\n",
              "  <tbody>\n",
              "    <tr>\n",
              "      <th>0</th>\n",
              "      <td>INFJ</td>\n",
              "      <td>'    enfp and intj moments     sportscenter not top ten plays     pranks what has been the most life-changing experience in your life?        on repeat for most of today. may the perc experience i...</td>\n",
              "      <td>0.066790</td>\n",
              "      <td>'    enfp and intj moments     sportscenter not top ten plays     pranks what has been the most life-changing experience in your life?        on repeat for most of today. may the perc experience i...</td>\n",
              "    </tr>\n",
              "    <tr>\n",
              "      <th>1</th>\n",
              "      <td>ENTP</td>\n",
              "      <td>'i'm finding the lack of me in these posts very alarming. sex can be boring if it's in the same position often. for example me and my girlfriend are currently in an environment where we have to cr...</td>\n",
              "      <td>1.471180</td>\n",
              "      <td>'i'm finding the lack of me in these posts very alarming. sex can be boring if it's in the same position often. for example me and my girlfriend are currently in an environment where we have to cr...</td>\n",
              "    </tr>\n",
              "    <tr>\n",
              "      <th>2</th>\n",
              "      <td>INTJ</td>\n",
              "      <td>'dear intp,   i enjoyed our conversation the other day.  esoteric gabbing about the nature of the universe and the idea that every rule and social code being arbitrary constructs created... dear e...</td>\n",
              "      <td>-1.732081</td>\n",
              "      <td>'dear intp,   i enjoyed our conversation the other day.  esoteric gabbing about the nature of the universe and the idea that every rule and social code being arbitrary constructs created... dear e...</td>\n",
              "    </tr>\n",
              "    <tr>\n",
              "      <th>3</th>\n",
              "      <td>ENTJ</td>\n",
              "      <td>'you're fired. that's another silly misconception. that approaching is logically is going to be the key to unlocking whatever it is you think you are entitled to.   nobody wants to be approached w...</td>\n",
              "      <td>-0.397497</td>\n",
              "      <td>'you're fired. that's another silly misconception. that approaching is logically is going to be the key to unlocking whatever it is you think you are entitled to.   nobody wants to be approached w...</td>\n",
              "    </tr>\n",
              "    <tr>\n",
              "      <th>4</th>\n",
              "      <td>INFJ</td>\n",
              "      <td>'no, i can't draw on my own nails (haha). those were done by professionals on my nails. and yes, those are all gel.  you mean those you posted were done by yourself on your own nails? awesome! pro...</td>\n",
              "      <td>-1.005515</td>\n",
              "      <td>'no, i can't draw on my own nails (haha). those were done by professionals on my nails. and yes, those are all gel.  you mean those you posted were done by yourself on your own nails? awesome! pro...</td>\n",
              "    </tr>\n",
              "  </tbody>\n",
              "</table>\n",
              "</div>"
            ],
            "text/plain": [
              "   type  ...                                                                                                                                                                                               tidy_posts\n",
              "0  INFJ  ...  '    enfp and intj moments     sportscenter not top ten plays     pranks what has been the most life-changing experience in your life?        on repeat for most of today. may the perc experience i...\n",
              "1  ENTP  ...  'i'm finding the lack of me in these posts very alarming. sex can be boring if it's in the same position often. for example me and my girlfriend are currently in an environment where we have to cr...\n",
              "2  INTJ  ...  'dear intp,   i enjoyed our conversation the other day.  esoteric gabbing about the nature of the universe and the idea that every rule and social code being arbitrary constructs created... dear e...\n",
              "3  ENTJ  ...  'you're fired. that's another silly misconception. that approaching is logically is going to be the key to unlocking whatever it is you think you are entitled to.   nobody wants to be approached w...\n",
              "4  INFJ  ...  'no, i can't draw on my own nails (haha). those were done by professionals on my nails. and yes, those are all gel.  you mean those you posted were done by yourself on your own nails? awesome! pro...\n",
              "\n",
              "[5 rows x 4 columns]"
            ]
          },
          "metadata": {},
          "execution_count": 18
        }
      ]
    },
    {
      "cell_type": "code",
      "metadata": {
        "colab": {
          "base_uri": "https://localhost:8080/",
          "height": 529
        },
        "id": "ZG2XwHe-PA8o",
        "outputId": "a8699537-3da4-4677-e813-e3d6f5c7429a"
      },
      "source": [
        "combi['tidy_posts'] = combi['tidy_posts'].str.replace(\"[^a-zA-Z#]\", \" \", regex=True)\n",
        "combi.head(10)"
      ],
      "execution_count": null,
      "outputs": [
        {
          "output_type": "execute_result",
          "data": {
            "text/html": [
              "<div>\n",
              "<style scoped>\n",
              "    .dataframe tbody tr th:only-of-type {\n",
              "        vertical-align: middle;\n",
              "    }\n",
              "\n",
              "    .dataframe tbody tr th {\n",
              "        vertical-align: top;\n",
              "    }\n",
              "\n",
              "    .dataframe thead th {\n",
              "        text-align: right;\n",
              "    }\n",
              "</style>\n",
              "<table border=\"1\" class=\"dataframe\">\n",
              "  <thead>\n",
              "    <tr style=\"text-align: right;\">\n",
              "      <th></th>\n",
              "      <th>type</th>\n",
              "      <th>posts</th>\n",
              "      <th>split</th>\n",
              "      <th>tidy_posts</th>\n",
              "    </tr>\n",
              "  </thead>\n",
              "  <tbody>\n",
              "    <tr>\n",
              "      <th>0</th>\n",
              "      <td>INFJ</td>\n",
              "      <td>'    enfp and intj moments     sportscenter not top ten plays     pranks what has been the most life-changing experience in your life?        on repeat for most of today. may the perc experience i...</td>\n",
              "      <td>0.066790</td>\n",
              "      <td>enfp and intj moments     sportscenter not top ten plays     pranks what has been the most life changing experience in your life         on repeat for most of today  may the perc experience i...</td>\n",
              "    </tr>\n",
              "    <tr>\n",
              "      <th>1</th>\n",
              "      <td>ENTP</td>\n",
              "      <td>'i'm finding the lack of me in these posts very alarming. sex can be boring if it's in the same position often. for example me and my girlfriend are currently in an environment where we have to cr...</td>\n",
              "      <td>1.471180</td>\n",
              "      <td>i m finding the lack of me in these posts very alarming  sex can be boring if it s in the same position often  for example me and my girlfriend are currently in an environment where we have to cr...</td>\n",
              "    </tr>\n",
              "    <tr>\n",
              "      <th>2</th>\n",
              "      <td>INTJ</td>\n",
              "      <td>'dear intp,   i enjoyed our conversation the other day.  esoteric gabbing about the nature of the universe and the idea that every rule and social code being arbitrary constructs created... dear e...</td>\n",
              "      <td>-1.732081</td>\n",
              "      <td>dear intp    i enjoyed our conversation the other day   esoteric gabbing about the nature of the universe and the idea that every rule and social code being arbitrary constructs created    dear e...</td>\n",
              "    </tr>\n",
              "    <tr>\n",
              "      <th>3</th>\n",
              "      <td>ENTJ</td>\n",
              "      <td>'you're fired. that's another silly misconception. that approaching is logically is going to be the key to unlocking whatever it is you think you are entitled to.   nobody wants to be approached w...</td>\n",
              "      <td>-0.397497</td>\n",
              "      <td>you re fired  that s another silly misconception  that approaching is logically is going to be the key to unlocking whatever it is you think you are entitled to    nobody wants to be approached w...</td>\n",
              "    </tr>\n",
              "    <tr>\n",
              "      <th>4</th>\n",
              "      <td>INFJ</td>\n",
              "      <td>'no, i can't draw on my own nails (haha). those were done by professionals on my nails. and yes, those are all gel.  you mean those you posted were done by yourself on your own nails? awesome! pro...</td>\n",
              "      <td>-1.005515</td>\n",
              "      <td>no  i can t draw on my own nails  haha   those were done by professionals on my nails  and yes  those are all gel   you mean those you posted were done by yourself on your own nails  awesome  pro...</td>\n",
              "    </tr>\n",
              "    <tr>\n",
              "      <th>5</th>\n",
              "      <td>INTJ</td>\n",
              "      <td>'i tend to build up a collection of things on my desktop that i use frequently and then move them into a folder called  'everything' from there it get sorted into type and sub type i ike to collec...</td>\n",
              "      <td>-1.797192</td>\n",
              "      <td>i tend to build up a collection of things on my desktop that i use frequently and then move them into a folder called   everything  from there it get sorted into type and sub type i ike to collec...</td>\n",
              "    </tr>\n",
              "    <tr>\n",
              "      <th>6</th>\n",
              "      <td>INFJ</td>\n",
              "      <td>i'm not sure, that's a good question. the distinction between the two is so dependant on perception. to quote robb flynn, ''the hate you feel is nothing more, than love you feel to win this war.''...</td>\n",
              "      <td>-0.821803</td>\n",
              "      <td>i m not sure  that s a good question  the distinction between the two is so dependant on perception  to quote robb flynn    the hate you feel is nothing more  than love you feel to win this war   ...</td>\n",
              "    </tr>\n",
              "    <tr>\n",
              "      <th>7</th>\n",
              "      <td>INTP</td>\n",
              "      <td>'  i'm in this position where i have to actually let go of the person, due to a various reasons. unfortunately i'm having trouble mustering enough strength to actually pull through it. sometimes,....</td>\n",
              "      <td>0.509631</td>\n",
              "      <td>i m in this position where i have to actually let go of the person  due to a various reasons  unfortunately i m having trouble mustering enough strength to actually pull through it  sometimes  ...</td>\n",
              "    </tr>\n",
              "    <tr>\n",
              "      <th>8</th>\n",
              "      <td>INFJ</td>\n",
              "      <td>'one time my parents were fighting over my dad's affair and my dad pushed my mom. the fall broke her finger.  she's pointed a gun at him and made him get on his knees and beg for his life. she's.....</td>\n",
              "      <td>0.801044</td>\n",
              "      <td>one time my parents were fighting over my dad s affair and my dad pushed my mom  the fall broke her finger   she s pointed a gun at him and made him get on his knees and beg for his life  she s  ...</td>\n",
              "    </tr>\n",
              "    <tr>\n",
              "      <th>9</th>\n",
              "      <td>ENFJ</td>\n",
              "      <td>'  51 :o i went through a break up some months ago. we were together for 4 years and i had planned my life around that relationship. i wasn't the one breaking the relationship as you might imagine...</td>\n",
              "      <td>1.159799</td>\n",
              "      <td>o i went through a break up some months ago  we were together for   years and i had planned my life around that relationship  i wasn t the one breaking the relationship as you might imagine...</td>\n",
              "    </tr>\n",
              "  </tbody>\n",
              "</table>\n",
              "</div>"
            ],
            "text/plain": [
              "   type  ...                                                                                                                                                                                               tidy_posts\n",
              "0  INFJ  ...       enfp and intj moments     sportscenter not top ten plays     pranks what has been the most life changing experience in your life         on repeat for most of today  may the perc experience i...\n",
              "1  ENTP  ...   i m finding the lack of me in these posts very alarming  sex can be boring if it s in the same position often  for example me and my girlfriend are currently in an environment where we have to cr...\n",
              "2  INTJ  ...   dear intp    i enjoyed our conversation the other day   esoteric gabbing about the nature of the universe and the idea that every rule and social code being arbitrary constructs created    dear e...\n",
              "3  ENTJ  ...   you re fired  that s another silly misconception  that approaching is logically is going to be the key to unlocking whatever it is you think you are entitled to    nobody wants to be approached w...\n",
              "4  INFJ  ...   no  i can t draw on my own nails  haha   those were done by professionals on my nails  and yes  those are all gel   you mean those you posted were done by yourself on your own nails  awesome  pro...\n",
              "5  INTJ  ...   i tend to build up a collection of things on my desktop that i use frequently and then move them into a folder called   everything  from there it get sorted into type and sub type i ike to collec...\n",
              "6  INFJ  ...  i m not sure  that s a good question  the distinction between the two is so dependant on perception  to quote robb flynn    the hate you feel is nothing more  than love you feel to win this war   ...\n",
              "7  INTP  ...     i m in this position where i have to actually let go of the person  due to a various reasons  unfortunately i m having trouble mustering enough strength to actually pull through it  sometimes  ...\n",
              "8  INFJ  ...   one time my parents were fighting over my dad s affair and my dad pushed my mom  the fall broke her finger   she s pointed a gun at him and made him get on his knees and beg for his life  she s  ...\n",
              "9  ENFJ  ...         o i went through a break up some months ago  we were together for   years and i had planned my life around that relationship  i wasn t the one breaking the relationship as you might imagine...\n",
              "\n",
              "[10 rows x 4 columns]"
            ]
          },
          "metadata": {},
          "execution_count": 19
        }
      ]
    },
    {
      "cell_type": "code",
      "metadata": {
        "id": "4Zv_3gRPPA8o"
      },
      "source": [
        "combi['clean_text'] = combi['tidy_posts'].apply(lambda x: ' '.join([w for w in x.split() if len(w)>2]))"
      ],
      "execution_count": null,
      "outputs": []
    },
    {
      "cell_type": "code",
      "metadata": {
        "colab": {
          "base_uri": "https://localhost:8080/",
          "height": 368
        },
        "id": "sSRFwfa-PA8p",
        "outputId": "bd526c2d-c2c7-489c-e161-d1b990170a75"
      },
      "source": [
        "combi.head()"
      ],
      "execution_count": null,
      "outputs": [
        {
          "output_type": "execute_result",
          "data": {
            "text/html": [
              "<div>\n",
              "<style scoped>\n",
              "    .dataframe tbody tr th:only-of-type {\n",
              "        vertical-align: middle;\n",
              "    }\n",
              "\n",
              "    .dataframe tbody tr th {\n",
              "        vertical-align: top;\n",
              "    }\n",
              "\n",
              "    .dataframe thead th {\n",
              "        text-align: right;\n",
              "    }\n",
              "</style>\n",
              "<table border=\"1\" class=\"dataframe\">\n",
              "  <thead>\n",
              "    <tr style=\"text-align: right;\">\n",
              "      <th></th>\n",
              "      <th>type</th>\n",
              "      <th>posts</th>\n",
              "      <th>split</th>\n",
              "      <th>tidy_posts</th>\n",
              "      <th>clean_text</th>\n",
              "    </tr>\n",
              "  </thead>\n",
              "  <tbody>\n",
              "    <tr>\n",
              "      <th>0</th>\n",
              "      <td>INFJ</td>\n",
              "      <td>'    enfp and intj moments     sportscenter not top ten plays     pranks what has been the most life-changing experience in your life?        on repeat for most of today. may the perc experience i...</td>\n",
              "      <td>-1.151811</td>\n",
              "      <td>enfp and intj moments     sportscenter not top ten plays     pranks what has been the most life changing experience in your life         on repeat for most of today  may the perc experience i...</td>\n",
              "      <td>enfp and intj moments sportscenter not top ten plays pranks what has been the most life changing experience your life repeat for most today may the perc experience immerse you the last thing infj ...</td>\n",
              "    </tr>\n",
              "    <tr>\n",
              "      <th>1</th>\n",
              "      <td>ENTP</td>\n",
              "      <td>'i'm finding the lack of me in these posts very alarming. sex can be boring if it's in the same position often. for example me and my girlfriend are currently in an environment where we have to cr...</td>\n",
              "      <td>-0.376888</td>\n",
              "      <td>i m finding the lack of me in these posts very alarming  sex can be boring if it s in the same position often  for example me and my girlfriend are currently in an environment where we have to cr...</td>\n",
              "      <td>finding the lack these posts very alarming sex can boring the same position often for example and girlfriend are currently environment where have creatively use cowgirl and missionary there isn en...</td>\n",
              "    </tr>\n",
              "    <tr>\n",
              "      <th>2</th>\n",
              "      <td>INTJ</td>\n",
              "      <td>'dear intp,   i enjoyed our conversation the other day.  esoteric gabbing about the nature of the universe and the idea that every rule and social code being arbitrary constructs created... dear e...</td>\n",
              "      <td>-0.620051</td>\n",
              "      <td>dear intp    i enjoyed our conversation the other day   esoteric gabbing about the nature of the universe and the idea that every rule and social code being arbitrary constructs created    dear e...</td>\n",
              "      <td>dear intp enjoyed our conversation the other day esoteric gabbing about the nature the universe and the idea that every rule and social code being arbitrary constructs created dear entj sub long t...</td>\n",
              "    </tr>\n",
              "    <tr>\n",
              "      <th>3</th>\n",
              "      <td>ENTJ</td>\n",
              "      <td>'you're fired. that's another silly misconception. that approaching is logically is going to be the key to unlocking whatever it is you think you are entitled to.   nobody wants to be approached w...</td>\n",
              "      <td>-1.033311</td>\n",
              "      <td>you re fired  that s another silly misconception  that approaching is logically is going to be the key to unlocking whatever it is you think you are entitled to    nobody wants to be approached w...</td>\n",
              "      <td>you fired that another silly misconception that approaching logically going the key unlocking whatever you think you are entitled nobody wants approached with but guys really wants super duper lon...</td>\n",
              "    </tr>\n",
              "    <tr>\n",
              "      <th>4</th>\n",
              "      <td>INTJ</td>\n",
              "      <td>'18/37 @.@ science  is not perfect. no scientist claims that it is, or that scientific  information will not be revised as we discover new things.  rational  thinking has been very useful to our s...</td>\n",
              "      <td>-0.863966</td>\n",
              "      <td>science  is not perfect  no scientist claims that it is  or that scientific  information will not be revised as we discover new things   rational  thinking has been very useful to our soc...</td>\n",
              "      <td>science not perfect scientist claims that that scientific information will not revised discover new things rational thinking has been very useful our society infp edgar allen poe was infp and your...</td>\n",
              "    </tr>\n",
              "  </tbody>\n",
              "</table>\n",
              "</div>"
            ],
            "text/plain": [
              "   type  ...                                                                                                                                                                                               clean_text\n",
              "0  INFJ  ...  enfp and intj moments sportscenter not top ten plays pranks what has been the most life changing experience your life repeat for most today may the perc experience immerse you the last thing infj ...\n",
              "1  ENTP  ...  finding the lack these posts very alarming sex can boring the same position often for example and girlfriend are currently environment where have creatively use cowgirl and missionary there isn en...\n",
              "2  INTJ  ...  dear intp enjoyed our conversation the other day esoteric gabbing about the nature the universe and the idea that every rule and social code being arbitrary constructs created dear entj sub long t...\n",
              "3  ENTJ  ...  you fired that another silly misconception that approaching logically going the key unlocking whatever you think you are entitled nobody wants approached with but guys really wants super duper lon...\n",
              "4  INTJ  ...  science not perfect scientist claims that that scientific information will not revised discover new things rational thinking has been very useful our society infp edgar allen poe was infp and your...\n",
              "\n",
              "[5 rows x 5 columns]"
            ]
          },
          "metadata": {},
          "execution_count": 21
        }
      ]
    },
    {
      "cell_type": "code",
      "metadata": {
        "id": "bd1HZUx7WqKc"
      },
      "source": [
        "MBTI_TO_FREQUENCY_DICT = {\n",
        "    \"ISTJ\": 0.11,\n",
        "    \"ISFJ\": 0.09,\n",
        "    \"INFJ\": 0.04,\n",
        "    \"INTJ\": 0.05,\n",
        "    \"ISTP\": 0.05,\n",
        "    \"ISFP\": 0.05,\n",
        "    \"INFP\": 0.06,\n",
        "    \"INTP\": 0.06,\n",
        "    \"ESTP\": 0.04,\n",
        "    \"ESFP\": 0.04,\n",
        "    \"ENFP\": 0.08,\n",
        "    \"ENTP\": 0.06,\n",
        "    \"ESTJ\": 0.08,\n",
        "    \"ESFJ\": 0.09,\n",
        "    \"ENFJ\": 0.05,\n",
        "    \"ENTJ\": 0.05,\n",
        "}\n",
        "import collections"
      ],
      "execution_count": null,
      "outputs": []
    },
    {
      "cell_type": "code",
      "metadata": {
        "id": "mzPpi_UhWvYi"
      },
      "source": [
        "counts = collections.defaultdict(int)\n",
        "for mbti in combi[\"type\"]:\n",
        "    counts[mbti] += 1"
      ],
      "execution_count": null,
      "outputs": []
    },
    {
      "cell_type": "code",
      "metadata": {
        "id": "0fKoJFXoWvVF"
      },
      "source": [
        "limiting_type = None\n",
        "min_size = float(\"infinity\")\n",
        "for mbti in counts.keys():\n",
        "    size = counts[mbti] / MBTI_TO_FREQUENCY_DICT[mbti]\n",
        "    if size < min_size:\n",
        "        min_size = size\n",
        "        limiting_type = mbti"
      ],
      "execution_count": null,
      "outputs": []
    },
    {
      "cell_type": "code",
      "metadata": {
        "id": "XV55RbaPW3l6"
      },
      "source": [
        "dic = collections.defaultdict(list)\n",
        "for index, row in data_MBTI_Clean.iterrows():\n",
        "    dic[row[\"type\"]].append(row)"
      ],
      "execution_count": null,
      "outputs": []
    },
    {
      "cell_type": "code",
      "metadata": {
        "id": "Fpm41ncEX-5L"
      },
      "source": [
        "DATA_DIR = \"data\"\n",
        "#MBTI_RAW_CSV_PATH = os.path.join(DATA_DIR, \"mbti_1.csv\")\n",
        "#MBTI_CLEAN_CSV_PATH = os.path.join(DATA_DIR, \"mbti_clean.csv\")\n",
        "#MBTI_UNCLEAN_CSV_PATH = os.path.join(DATA_DIR, \"mbti_unclean.csv\")\n",
        "\n",
        "MBTI_CLEAN_CSV_PATH = \"mbti_clean.csv\"\n",
        "MBTI_UNCLEAN_CSV_PATH = \"mbti_unclean.csv\""
      ],
      "execution_count": null,
      "outputs": []
    },
    {
      "cell_type": "code",
      "metadata": {
        "id": "TgFFdFsrXvJ1"
      },
      "source": [
        "#MBTI_CLEAN_CSV_PATH = \"/content/drive/MyDrive/MBTI/\""
      ],
      "execution_count": null,
      "outputs": []
    },
    {
      "cell_type": "code",
      "metadata": {
        "id": "U_aR1IXNXkd1"
      },
      "source": [
        "import csv"
      ],
      "execution_count": null,
      "outputs": []
    },
    {
      "cell_type": "code",
      "metadata": {
        "id": "o4b1yIPCXkbH"
      },
      "source": [
        "unclean_list = []\n",
        "with open(MBTI_CLEAN_CSV_PATH, \"w\") as f:\n",
        "    writer = csv.writer(f)\n",
        "    writer.writerow([\"type\", \"posts\"])\n",
        "\n",
        "    for mbti in MBTI_TO_FREQUENCY_DICT.keys():\n",
        "        list1 = dic[mbti]\n",
        "        for x in range(0, int(round(min_size * MBTI_TO_FREQUENCY_DICT[mbti]))):\n",
        "            writer.writerow(list1[x])\n",
        "        unclean_list.append(\n",
        "            list1[int(round(min_size * MBTI_TO_FREQUENCY_DICT[mbti])) : len(list1)]\n",
        "        )"
      ],
      "execution_count": null,
      "outputs": []
    },
    {
      "cell_type": "code",
      "metadata": {
        "id": "RAd_-LklW3jB"
      },
      "source": [
        ""
      ],
      "execution_count": null,
      "outputs": []
    },
    {
      "cell_type": "code",
      "metadata": {
        "id": "CRBRl2L9W3gW"
      },
      "source": [
        "# This Function Will be used to make data equal for all Class \n",
        "def up_down_sampling(data,count):\n",
        "    types = list(set(data.type))\n",
        "    defined = False\n",
        "    for tp in types :\n",
        "        print(tp)\n",
        "        if not defined:\n",
        "            defined = True\n",
        "            tp_class_count = data.type.value_counts()[tp]\n",
        "            if tp_class_count > count :\n",
        "                df = data[data['type'] == tp].sample(count)\n",
        "            else:\n",
        "                df = data[data['type'] == tp].sample(count,replace = True)\n",
        "        else:\n",
        "            tp_class_count = data.type.value_counts()[tp]\n",
        "            if tp_class_count > count :\n",
        "                df = pd.concat([df, data[data['type'] == tp].sample(count)], axis=0)\n",
        "            else:\n",
        "                df = pd.concat([df, data[data['type'] == tp].sample(count,replace = True)], axis=0)\n",
        "    return df"
      ],
      "execution_count": null,
      "outputs": []
    },
    {
      "cell_type": "code",
      "metadata": {
        "id": "1NOEDzMgW3dZ"
      },
      "source": [
        "# Using Up_down Sampling for preparing trainable data   \n",
        "#combi = up_down_sampling(combi,2000)"
      ],
      "execution_count": null,
      "outputs": []
    },
    {
      "cell_type": "code",
      "metadata": {
        "colab": {
          "base_uri": "https://localhost:8080/"
        },
        "id": "NIYJN6cIKb5g",
        "outputId": "e205055d-af85-4cea-af68-4ee49a09a16e"
      },
      "source": [
        "# Checking Trainable data \n",
        "count_class = combi.type.value_counts()\n",
        "count_class"
      ],
      "execution_count": null,
      "outputs": [
        {
          "output_type": "execute_result",
          "data": {
            "text/plain": [
              "INFP    1832\n",
              "INFJ    1470\n",
              "INTP    1304\n",
              "INTJ    1091\n",
              "ENTP     685\n",
              "ENFP     675\n",
              "ISTP     337\n",
              "ISFP     271\n",
              "ENTJ     231\n",
              "ISTJ     205\n",
              "ENFJ     190\n",
              "ISFJ     166\n",
              "ESTP      89\n",
              "ESFP      48\n",
              "ESFJ      42\n",
              "ESTJ      39\n",
              "Name: type, dtype: int64"
            ]
          },
          "metadata": {},
          "execution_count": 21
        }
      ]
    },
    {
      "cell_type": "code",
      "metadata": {
        "colab": {
          "base_uri": "https://localhost:8080/"
        },
        "id": "rVyfv76oW3YS",
        "outputId": "84aa1f08-00c2-4854-ff5c-4d1f0cf266cb"
      },
      "source": [
        "# Checking Trainable data \n",
        "count_class = combi.type.value_counts()\n",
        "count_class"
      ],
      "execution_count": null,
      "outputs": [
        {
          "output_type": "execute_result",
          "data": {
            "text/plain": [
              "INFP    1832\n",
              "INFJ    1470\n",
              "INTP    1304\n",
              "INTJ    1091\n",
              "ENTP     685\n",
              "ENFP     675\n",
              "ISTP     337\n",
              "ISFP     271\n",
              "ENTJ     231\n",
              "ISTJ     205\n",
              "ENFJ     190\n",
              "ISFJ     166\n",
              "ESTP      89\n",
              "ESFP      48\n",
              "ESFJ      42\n",
              "ESTJ      39\n",
              "Name: type, dtype: int64"
            ]
          },
          "metadata": {},
          "execution_count": 33
        }
      ]
    },
    {
      "cell_type": "code",
      "metadata": {
        "id": "-3lTPkDEW3Us"
      },
      "source": [
        "#Suffling DataFrame \n",
        "combi = combi.sample(frac = 1)"
      ],
      "execution_count": null,
      "outputs": []
    },
    {
      "cell_type": "markdown",
      "metadata": {
        "id": "cylyq2xtXV-v"
      },
      "source": [
        "# Tokenization and Embedding"
      ]
    },
    {
      "cell_type": "code",
      "metadata": {
        "id": "xxxsrQPgW3Mn"
      },
      "source": [
        ""
      ],
      "execution_count": null,
      "outputs": []
    },
    {
      "cell_type": "code",
      "metadata": {
        "id": "Dmy0giOQPA8p"
      },
      "source": [
        "tokenized_text = combi['clean_text'].apply(lambda x: x.split()) # tokenizing"
      ],
      "execution_count": null,
      "outputs": []
    },
    {
      "cell_type": "code",
      "metadata": {
        "colab": {
          "base_uri": "https://localhost:8080/"
        },
        "id": "6qsMnMiYPA8p",
        "outputId": "a56270cd-77c8-4615-971e-a842c8f120b7"
      },
      "source": [
        "tokenized_text.head()"
      ],
      "execution_count": null,
      "outputs": [
        {
          "output_type": "execute_result",
          "data": {
            "text/plain": [
              "0    [enfp, and, intj, moments, sportscenter, not, top, ten, plays, pranks, what, has, been, the, most, life, changing, experience, your, life, repeat, for, most, today, may, the, perc, experience, imm...\n",
              "1    [finding, the, lack, these, posts, very, alarming, sex, can, boring, the, same, position, often, for, example, and, girlfriend, are, currently, environment, where, have, creatively, use, cowgirl, ...\n",
              "2    [dear, intp, enjoyed, our, conversation, the, other, day, esoteric, gabbing, about, the, nature, the, universe, and, the, idea, that, every, rule, and, social, code, being, arbitrary, constructs, ...\n",
              "3    [you, fired, that, another, silly, misconception, that, approaching, logically, going, the, key, unlocking, whatever, you, think, you, are, entitled, nobody, wants, approached, with, but, guys, re...\n",
              "4    [can, draw, own, nails, haha, those, were, done, professionals, nails, and, yes, those, are, all, gel, you, mean, those, you, posted, were, done, yourself, your, own, nails, awesome, probably, the...\n",
              "Name: clean_text, dtype: object"
            ]
          },
          "metadata": {},
          "execution_count": 24
        }
      ]
    },
    {
      "cell_type": "code",
      "metadata": {
        "id": "h1jUUS6rPA8p"
      },
      "source": [
        "from nltk.stem.porter import *\n",
        "stemmer = PorterStemmer()\n",
        "\n",
        "tokenized_text = tokenized_text.apply(lambda x: [stemmer.stem(i) for i in x]) # stemming"
      ],
      "execution_count": null,
      "outputs": []
    },
    {
      "cell_type": "code",
      "metadata": {
        "colab": {
          "base_uri": "https://localhost:8080/"
        },
        "id": "QC81qHD5dOQY",
        "outputId": "fe304455-a1f4-4821-bbcf-a9fee359aca0"
      },
      "source": [
        "tokenized_text.size"
      ],
      "execution_count": null,
      "outputs": [
        {
          "output_type": "execute_result",
          "data": {
            "text/plain": [
              "8675"
            ]
          },
          "metadata": {},
          "execution_count": 26
        }
      ]
    },
    {
      "cell_type": "code",
      "metadata": {
        "id": "8JmJe-EudoOp"
      },
      "source": [
        ""
      ],
      "execution_count": null,
      "outputs": []
    },
    {
      "cell_type": "code",
      "metadata": {
        "id": "-VeucBf9PA8q"
      },
      "source": [
        "for i in range(0, len(tokenized_text)):\n",
        "    tokenized_text[i] = ' '.join(tokenized_text[i])\n",
        "    #tokenized_text[i] = ' '.join(str(v) for v in tokenized_text[i])\n",
        "    #print(i)\n",
        "    \n",
        "combi['clean_text'] = tokenized_text"
      ],
      "execution_count": null,
      "outputs": []
    },
    {
      "cell_type": "code",
      "metadata": {
        "colab": {
          "base_uri": "https://localhost:8080/",
          "height": 380
        },
        "id": "aOgjSOM7PA8q",
        "outputId": "8e46fd9c-f869-49ea-d6d3-80f82552d4ce"
      },
      "source": [
        "all_words = ' '.join([text for text in combi['clean_text']])\n",
        "from wordcloud import WordCloud\n",
        "wordcloud = WordCloud(width=800, height=500, random_state=21, max_font_size=110).generate(all_words)\n",
        "plt.figure(figsize=(10, 7))\n",
        "plt.imshow(wordcloud, interpolation=\"bilinear\")\n",
        "plt.axis('off')\n",
        "plt.show()"
      ],
      "execution_count": null,
      "outputs": [
        {
          "output_type": "display_data",
          "data": {
            "image/png": "[encoded data removed]",
            "text/plain": [
              "<Figure size 720x504 with 1 Axes>"
            ]
          },
          "metadata": {
            "needs_background": "light"
          }
        }
      ]
    },
    {
      "cell_type": "code",
      "metadata": {
        "colab": {
          "base_uri": "https://localhost:8080/",
          "height": 380
        },
        "id": "cR74JcrhPA8q",
        "outputId": "a28b08ad-2439-43a9-9bee-819780a160da"
      },
      "source": [
        "normal_words =' '.join([text for text in combi['clean_text'][combi['type'] == 'INFJ']])\n",
        "wordcloud = WordCloud(width=800, height=500, random_state=21, max_font_size=110).generate(normal_words)\n",
        "plt.figure(figsize=(10, 7))\n",
        "plt.imshow(wordcloud, interpolation=\"bilinear\")\n",
        "plt.axis('off')\n",
        "plt.show()"
      ],
      "execution_count": null,
      "outputs": [
        {
          "output_type": "display_data",
          "data": {
            "image/png": "[encoded data removed]",
            "text/plain": [
              "<Figure size 720x504 with 1 Axes>"
            ]
          },
          "metadata": {
            "needs_background": "light"
          }
        }
      ]
    },
    {
      "cell_type": "markdown",
      "metadata": {
        "id": "-7U1-5gmPA8r"
      },
      "source": [
        "**Extracting Features from Cleaned texts**"
      ]
    },
    {
      "cell_type": "code",
      "metadata": {
        "id": "RgC-L37sPA8s"
      },
      "source": [
        "from sklearn.feature_extraction.text import TfidfVectorizer, CountVectorizer\n",
        "import gensim"
      ],
      "execution_count": null,
      "outputs": []
    },
    {
      "cell_type": "markdown",
      "metadata": {
        "id": "GpLdIry7PA8t"
      },
      "source": [
        "**Bag-of-Words Features**"
      ]
    },
    {
      "cell_type": "code",
      "metadata": {
        "colab": {
          "base_uri": "https://localhost:8080/"
        },
        "id": "mCpJ-dv4PA8u",
        "outputId": "aa5ac9c5-d018-49b7-c5c8-e39efa037a39"
      },
      "source": [
        "bow_vectorizer = CountVectorizer(max_df=0.90, min_df=2, max_features=1000, stop_words='english')\n",
        "bow = bow_vectorizer.fit_transform(combi['clean_text'])\n",
        "bow.shape"
      ],
      "execution_count": null,
      "outputs": [
        {
          "output_type": "execute_result",
          "data": {
            "text/plain": [
              "(8675, 1000)"
            ]
          },
          "metadata": {},
          "execution_count": 31
        }
      ]
    },
    {
      "cell_type": "markdown",
      "metadata": {
        "id": "xXJb6b-oPA8u"
      },
      "source": [
        "**TF-IDF Features**"
      ]
    },
    {
      "cell_type": "code",
      "metadata": {
        "colab": {
          "base_uri": "https://localhost:8080/"
        },
        "id": "VKitkIbHPA8u",
        "outputId": "144828b2-0159-4e5f-80c3-0d246964a168"
      },
      "source": [
        "tfidf_vectorizer = TfidfVectorizer(max_df=0.90, min_df=2, max_features=1000, stop_words='english')\n",
        "tfidf = tfidf_vectorizer.fit_transform(combi['clean_text'])\n",
        "tfidf.shape"
      ],
      "execution_count": null,
      "outputs": [
        {
          "output_type": "execute_result",
          "data": {
            "text/plain": [
              "(8675, 1000)"
            ]
          },
          "metadata": {},
          "execution_count": 32
        }
      ]
    },
    {
      "cell_type": "markdown",
      "metadata": {
        "id": "cyTtKo3xPA8v"
      },
      "source": [
        "**Word Embeddings**"
      ]
    },
    {
      "cell_type": "markdown",
      "metadata": {
        "id": "LVINOhR6PA8v"
      },
      "source": [
        "**1. Word2Vec Embeddings**"
      ]
    },
    {
      "cell_type": "code",
      "metadata": {
        "colab": {
          "base_uri": "https://localhost:8080/"
        },
        "id": "2hukqP-oPA8w",
        "outputId": "ef3605d5-3c2a-4537-a7e9-c710242442f7"
      },
      "source": [
        "tokenized_text = combi['clean_text'].apply(lambda x: x.split()) # tokenizing\n",
        "\n",
        "model_w2v = gensim.models.Word2Vec(\n",
        "    tokenized_text,\n",
        "    size=1000, # desired no. of features/independent variables \n",
        "    #vector_size=1000, # desired no. of features/independent variables \n",
        "    window=5, # context window size\n",
        "    min_count=2,\n",
        "    sg = 1, # 1 for skip-gram model\n",
        "    hs = 0,\n",
        "    negative = 10, # for negative sampling\n",
        "    workers= 2, # no.of cores\n",
        "    seed = 34)\n",
        "\n",
        "model_w2v.train(tokenized_text, total_examples= len(combi['clean_text']), epochs=10)"
      ],
      "execution_count": null,
      "outputs": [
        {
          "output_type": "execute_result",
          "data": {
            "text/plain": [
              "(64674461, 80589920)"
            ]
          },
          "metadata": {},
          "execution_count": 33
        }
      ]
    },
    {
      "cell_type": "markdown",
      "metadata": {
        "id": "W-a0FW2VPA8w"
      },
      "source": [
        "Preparing Vectors for texts\n",
        "\n",
        "We will use the below function to create a vector for each text by taking the average of the vectors of the words present in the text."
      ]
    },
    {
      "cell_type": "code",
      "metadata": {
        "id": "0u6TIyzKPA8w"
      },
      "source": [
        "def word_vector(tokens, size):\n",
        "    vec = np.zeros(size).reshape((1, size))\n",
        "    count = 0.\n",
        "    for word in tokens:\n",
        "        try:\n",
        "            vec += model_w2v.wv[word].reshape((1, size))\n",
        "            count += 1.\n",
        "        except KeyError: # handling the case where the token is not in vocabulary\n",
        "                        \n",
        "            continue\n",
        "    if count != 0:\n",
        "        vec /= count\n",
        "    return vec"
      ],
      "execution_count": null,
      "outputs": []
    },
    {
      "cell_type": "code",
      "metadata": {
        "colab": {
          "base_uri": "https://localhost:8080/"
        },
        "id": "oVzgQx-7PA8x",
        "outputId": "f2375c7a-f248-4852-a7ff-447236fbebff"
      },
      "source": [
        "wordvec_arrays = np.zeros((len(tokenized_text), 1000))\n",
        "\n",
        "for i in range(len(tokenized_text)):\n",
        "    wordvec_arrays[i,:] = word_vector(tokenized_text[i], 1000)\n",
        "    \n",
        "wordvec_df = pd.DataFrame(wordvec_arrays)\n",
        "wordvec_df.shape"
      ],
      "execution_count": null,
      "outputs": [
        {
          "output_type": "execute_result",
          "data": {
            "text/plain": [
              "(8675, 1000)"
            ]
          },
          "metadata": {},
          "execution_count": 35
        }
      ]
    },
    {
      "cell_type": "code",
      "metadata": {
        "id": "m_tZ9kIMPA8x"
      },
      "source": [
        "# save \n",
        "#pickle_out = open(\"/content/drive/MyDrive/MBTI/w2v_df/w2v_df_2021.pickle\",\"wb\")\n",
        "#pickle.dump(wordvec_df, pickle_out)\n",
        "#pickle_out.close()\n",
        "#/content/drive/MyDrive/MBTI/w2v_df/w2v_df_2021.pickle\n",
        "# load elmo_train_new\n",
        "#pickle_in = open(\"/content/drive/MyDrive/MBTI/w2v_df/w2v_df_2021.pickle\", \"rb\")\n",
        "#wordvec_df_new = pickle.load(pickle_in)"
      ],
      "execution_count": null,
      "outputs": []
    },
    {
      "cell_type": "code",
      "metadata": {
        "colab": {
          "base_uri": "https://localhost:8080/"
        },
        "id": "dt9Epp5kPA8x",
        "outputId": "bd72124c-0979-4761-e862-6e60ff95b699"
      },
      "source": [
        "#wordvec_df_new.shape"
      ],
      "execution_count": null,
      "outputs": [
        {
          "output_type": "execute_result",
          "data": {
            "text/plain": [
              "(8675, 1000)"
            ]
          },
          "metadata": {},
          "execution_count": 37
        }
      ]
    },
    {
      "cell_type": "markdown",
      "metadata": {
        "id": "qnAZrivTPA8x"
      },
      "source": [
        "Model Building\n",
        "We are now done with all the pre-modeling stages required to get the data in the proper form and shape. We will be building models on the datasets with different feature sets prepared in the earlier sections — Bag-of-Words, TF-IDF, word2vec vectors. We will use the following algorithms to build models:\n",
        "\n",
        "Logistic Regression\n",
        "Support Vector Machine\n",
        "XGBoost"
      ]
    },
    {
      "cell_type": "markdown",
      "metadata": {
        "id": "pey1eYayPA8y"
      },
      "source": [
        "# 1. Logistic Regression"
      ]
    },
    {
      "cell_type": "markdown",
      "metadata": {
        "id": "z1MSKw9RPA8y"
      },
      "source": [
        "**Bag-of-Words Features**"
      ]
    },
    {
      "cell_type": "code",
      "metadata": {
        "colab": {
          "base_uri": "https://localhost:8080/"
        },
        "id": "Y1H6f1E7PA8y",
        "outputId": "96d16361-c117-4c38-c6f4-4c2a33bdfcd4"
      },
      "source": [
        "col_size = train['type'].size\n",
        "print(col_size)"
      ],
      "execution_count": null,
      "outputs": [
        {
          "output_type": "stream",
          "name": "stdout",
          "text": [
            "6122\n"
          ]
        }
      ]
    },
    {
      "cell_type": "code",
      "metadata": {
        "id": "VpUdXc4NPA8y"
      },
      "source": [
        "train_bow = bow[:col_size,:]\n",
        "test_bow = bow[col_size:,:]\n",
        "# splitting data into training and validation set\n",
        "xtrain_bow, xvalid_bow, ytrain, yvalid = train_test_split(train_bow, train['type'], random_state=42, test_size=0.3)"
      ],
      "execution_count": null,
      "outputs": []
    },
    {
      "cell_type": "code",
      "metadata": {
        "id": "3ptrRQoSPA8y"
      },
      "source": [
        "target_encoder=LabelEncoder()\n",
        "train_target_bow=target_encoder.fit_transform(ytrain)\n",
        "val_target_bow=target_encoder.fit_transform(yvalid)\n",
        "test_target_bow=target_encoder.fit_transform(test['type'])"
      ],
      "execution_count": null,
      "outputs": []
    },
    {
      "cell_type": "code",
      "metadata": {
        "colab": {
          "base_uri": "https://localhost:8080/"
        },
        "id": "_v_ziXObfDD8",
        "outputId": "72e05c4b-f11f-4079-f066-0ab3baf83e36"
      },
      "source": [
        "train_target_bow.shape"
      ],
      "execution_count": null,
      "outputs": [
        {
          "output_type": "execute_result",
          "data": {
            "text/plain": [
              "(4285,)"
            ]
          },
          "metadata": {},
          "execution_count": 41
        }
      ]
    },
    {
      "cell_type": "code",
      "metadata": {
        "colab": {
          "base_uri": "https://localhost:8080/"
        },
        "id": "iLbqpB1CPA8y",
        "outputId": "b524cf76-1674-4ab2-c30e-0dc7a75f0b66"
      },
      "source": [
        "model_log=LogisticRegression(max_iter=3000,C=0.5,n_jobs=-1)\n",
        "model_log.fit(xtrain_bow,train_target_bow)"
      ],
      "execution_count": null,
      "outputs": [
        {
          "output_type": "execute_result",
          "data": {
            "text/plain": [
              "LogisticRegression(C=0.5, class_weight=None, dual=False, fit_intercept=True,\n",
              "                   intercept_scaling=1, l1_ratio=None, max_iter=3000,\n",
              "                   multi_class='auto', n_jobs=-1, penalty='l2',\n",
              "                   random_state=None, solver='lbfgs', tol=0.0001, verbose=0,\n",
              "                   warm_start=False)"
            ]
          },
          "metadata": {},
          "execution_count": 42
        }
      ]
    },
    {
      "cell_type": "code",
      "metadata": {
        "colab": {
          "base_uri": "https://localhost:8080/"
        },
        "id": "82jFvXuWPA8z",
        "outputId": "85cf6349-1e40-4878-8384-6ede9aff9e22"
      },
      "source": [
        "print('train classification report \\n ',classification_report(train_target_bow,model_log.predict(xtrain_bow),target_names=target_encoder.inverse_transform([i for i in range(16)])))\n",
        "print('Val classification report \\n',classification_report(val_target_bow,model_log.predict(xvalid_bow),target_names=target_encoder.inverse_transform([i for i in range(16)])))\n",
        "print('test classification report \\n',classification_report(test_target_bow,model_log.predict(test_bow),target_names=target_encoder.inverse_transform([i for i in range(16)])))"
      ],
      "execution_count": null,
      "outputs": [
        {
          "output_type": "stream",
          "name": "stdout",
          "text": [
            "train classification report \n",
            "                precision    recall  f1-score   support\n",
            "\n",
            "        ENFJ       1.00      1.00      1.00        89\n",
            "        ENFP       1.00      1.00      1.00       318\n",
            "        ENTJ       1.00      1.00      1.00       102\n",
            "        ENTP       1.00      1.00      1.00       329\n",
            "        ESFJ       1.00      1.00      1.00        17\n",
            "        ESFP       1.00      1.00      1.00        21\n",
            "        ESTJ       1.00      1.00      1.00        17\n",
            "        ESTP       1.00      1.00      1.00        41\n",
            "        INFJ       1.00      1.00      1.00       698\n",
            "        INFP       1.00      1.00      1.00       961\n",
            "        INTJ       1.00      1.00      1.00       548\n",
            "        INTP       1.00      1.00      1.00       660\n",
            "        ISFJ       1.00      1.00      1.00        68\n",
            "        ISFP       1.00      1.00      1.00       138\n",
            "        ISTJ       1.00      1.00      1.00        94\n",
            "        ISTP       1.00      0.99      1.00       184\n",
            "\n",
            "    accuracy                           1.00      4285\n",
            "   macro avg       1.00      1.00      1.00      4285\n",
            "weighted avg       1.00      1.00      1.00      4285\n",
            "\n",
            "Val classification report \n",
            "               precision    recall  f1-score   support\n",
            "\n",
            "        ENFJ       0.45      0.30      0.36        47\n",
            "        ENFP       0.54      0.52      0.53       164\n",
            "        ENTJ       0.43      0.33      0.37        61\n",
            "        ENTP       0.51      0.46      0.49       150\n",
            "        ESFJ       1.00      0.14      0.25         7\n",
            "        ESFP       0.50      0.07      0.12        14\n",
            "        ESTJ       0.67      0.18      0.29        11\n",
            "        ESTP       0.60      0.33      0.43        18\n",
            "        INFJ       0.52      0.52      0.52       322\n",
            "        INFP       0.56      0.69      0.62       370\n",
            "        INTJ       0.54      0.61      0.57       221\n",
            "        INTP       0.52      0.57      0.55       254\n",
            "        ISFJ       0.60      0.36      0.45        42\n",
            "        ISFP       0.54      0.42      0.47        48\n",
            "        ISTJ       0.33      0.21      0.26        42\n",
            "        ISTP       0.51      0.48      0.50        66\n",
            "\n",
            "    accuracy                           0.53      1837\n",
            "   macro avg       0.55      0.39      0.42      1837\n",
            "weighted avg       0.53      0.53      0.52      1837\n",
            "\n",
            "test classification report \n",
            "               precision    recall  f1-score   support\n",
            "\n",
            "        ENFJ       0.42      0.31      0.36        54\n",
            "        ENFP       0.48      0.48      0.48       193\n",
            "        ENTJ       0.60      0.40      0.48        68\n",
            "        ENTP       0.50      0.46      0.48       206\n",
            "        ESFJ       0.75      0.17      0.27        18\n",
            "        ESFP       0.00      0.00      0.00        13\n",
            "        ESTJ       0.50      0.27      0.35        11\n",
            "        ESTP       0.62      0.27      0.37        30\n",
            "        INFJ       0.56      0.54      0.55       450\n",
            "        INFP       0.59      0.71      0.64       501\n",
            "        INTJ       0.50      0.58      0.54       322\n",
            "        INTP       0.55      0.61      0.57       390\n",
            "        ISFJ       0.70      0.38      0.49        56\n",
            "        ISFP       0.44      0.34      0.38        85\n",
            "        ISTJ       0.58      0.45      0.51        69\n",
            "        ISTP       0.57      0.46      0.51        87\n",
            "\n",
            "    accuracy                           0.54      2553\n",
            "   macro avg       0.52      0.40      0.44      2553\n",
            "weighted avg       0.54      0.54      0.54      2553\n",
            "\n"
          ]
        }
      ]
    },
    {
      "cell_type": "code",
      "metadata": {
        "id": "No9oCYZvPA8z"
      },
      "source": [
        "models_accuracy['logistic regression']=accuracy_score(test_target_bow,model_log.predict(test_bow))"
      ],
      "execution_count": null,
      "outputs": []
    },
    {
      "cell_type": "markdown",
      "metadata": {
        "id": "uOZGpBZxPA8z"
      },
      "source": [
        "**TF-IDF Features**"
      ]
    },
    {
      "cell_type": "code",
      "metadata": {
        "id": "Hb2VsvCTPA8z"
      },
      "source": [
        "train_tfidf = tfidf[:col_size,:]\n",
        "test_tfidf = tfidf[col_size:,:]\n",
        "# splitting data into training and validation set\n",
        "xtrain_tfidf, xvalid_tfidf, ytrain, yvalid = train_test_split(train_tfidf, train['type'], random_state=42, test_size=0.3)"
      ],
      "execution_count": null,
      "outputs": []
    },
    {
      "cell_type": "code",
      "metadata": {
        "id": "xSouY4JiPA8z"
      },
      "source": [
        "target_encoder=LabelEncoder()\n",
        "train_target_tfidf=target_encoder.fit_transform(ytrain)\n",
        "val_target_tfidf=target_encoder.fit_transform(yvalid)\n",
        "test_target_tfidf=target_encoder.fit_transform(test['type'])"
      ],
      "execution_count": null,
      "outputs": []
    },
    {
      "cell_type": "code",
      "metadata": {
        "colab": {
          "base_uri": "https://localhost:8080/"
        },
        "id": "iGANJJjwPA8z",
        "outputId": "8edb1b01-ebdf-47d1-db72-cf931426fc17"
      },
      "source": [
        "model_log=LogisticRegression(max_iter=3000,C=0.5,n_jobs=-1)\n",
        "model_log.fit(xtrain_tfidf,train_target_tfidf)"
      ],
      "execution_count": null,
      "outputs": [
        {
          "output_type": "execute_result",
          "data": {
            "text/plain": [
              "LogisticRegression(C=0.5, class_weight=None, dual=False, fit_intercept=True,\n",
              "                   intercept_scaling=1, l1_ratio=None, max_iter=3000,\n",
              "                   multi_class='auto', n_jobs=-1, penalty='l2',\n",
              "                   random_state=None, solver='lbfgs', tol=0.0001, verbose=0,\n",
              "                   warm_start=False)"
            ]
          },
          "metadata": {},
          "execution_count": 47
        }
      ]
    },
    {
      "cell_type": "code",
      "metadata": {
        "colab": {
          "base_uri": "https://localhost:8080/"
        },
        "id": "KcXgP83hPA80",
        "outputId": "0249f875-c5c1-4a03-bc0c-defee8bdb80b"
      },
      "source": [
        "print('train classification report \\n ',classification_report(train_target_tfidf,model_log.predict(xtrain_tfidf),target_names=target_encoder.inverse_transform([i for i in range(16)])))\n",
        "print('Val classification report \\n',classification_report(val_target_tfidf,model_log.predict(xvalid_tfidf),target_names=target_encoder.inverse_transform([i for i in range(16)])))\n",
        "print('test classification report \\n',classification_report(test_target_tfidf,model_log.predict(test_tfidf),target_names=target_encoder.inverse_transform([i for i in range(16)])))"
      ],
      "execution_count": null,
      "outputs": [
        {
          "output_type": "stream",
          "name": "stdout",
          "text": [
            "train classification report \n",
            "                precision    recall  f1-score   support\n",
            "\n",
            "        ENFJ       0.76      0.15      0.25        89\n",
            "        ENFP       0.80      0.64      0.71       318\n",
            "        ENTJ       0.89      0.24      0.37       102\n",
            "        ENTP       0.79      0.66      0.72       329\n",
            "        ESFJ       0.00      0.00      0.00        17\n",
            "        ESFP       0.00      0.00      0.00        21\n",
            "        ESTJ       0.00      0.00      0.00        17\n",
            "        ESTP       1.00      0.05      0.09        41\n",
            "        INFJ       0.76      0.79      0.77       698\n",
            "        INFP       0.66      0.92      0.77       961\n",
            "        INTJ       0.72      0.77      0.74       548\n",
            "        INTP       0.70      0.85      0.77       660\n",
            "        ISFJ       1.00      0.22      0.36        68\n",
            "        ISFP       0.82      0.43      0.57       138\n",
            "        ISTJ       0.93      0.29      0.44        94\n",
            "        ISTP       0.84      0.63      0.72       184\n",
            "\n",
            "    accuracy                           0.72      4285\n",
            "   macro avg       0.67      0.42      0.46      4285\n",
            "weighted avg       0.74      0.72      0.70      4285\n",
            "\n",
            "Val classification report \n",
            "               precision    recall  f1-score   support\n",
            "\n",
            "        ENFJ       0.88      0.15      0.25        47\n",
            "        ENFP       0.73      0.53      0.61       164\n",
            "        ENTJ       0.83      0.16      0.27        61\n",
            "        ENTP       0.69      0.53      0.60       150\n",
            "        ESFJ       0.00      0.00      0.00         7\n",
            "        ESFP       0.00      0.00      0.00        14\n",
            "        ESTJ       0.00      0.00      0.00        11\n",
            "        ESTP       0.00      0.00      0.00        18\n",
            "        INFJ       0.65      0.67      0.66       322\n",
            "        INFP       0.52      0.86      0.65       370\n",
            "        INTJ       0.64      0.70      0.67       221\n",
            "        INTP       0.58      0.76      0.65       254\n",
            "        ISFJ       1.00      0.10      0.17        42\n",
            "        ISFP       0.56      0.10      0.18        48\n",
            "        ISTJ       0.40      0.10      0.15        42\n",
            "        ISTP       0.81      0.44      0.57        66\n",
            "\n",
            "    accuracy                           0.60      1837\n",
            "   macro avg       0.52      0.32      0.34      1837\n",
            "weighted avg       0.62      0.60      0.57      1837\n",
            "\n",
            "test classification report \n",
            "               precision    recall  f1-score   support\n",
            "\n",
            "        ENFJ       0.77      0.19      0.30        54\n",
            "        ENFP       0.72      0.50      0.59       193\n",
            "        ENTJ       0.88      0.22      0.35        68\n",
            "        ENTP       0.75      0.56      0.64       206\n",
            "        ESFJ       0.00      0.00      0.00        18\n",
            "        ESFP       0.00      0.00      0.00        13\n",
            "        ESTJ       0.00      0.00      0.00        11\n",
            "        ESTP       0.00      0.00      0.00        30\n",
            "        INFJ       0.66      0.67      0.67       450\n",
            "        INFP       0.53      0.89      0.67       501\n",
            "        INTJ       0.64      0.69      0.66       322\n",
            "        INTP       0.66      0.81      0.72       390\n",
            "        ISFJ       0.86      0.21      0.34        56\n",
            "        ISFP       0.81      0.25      0.38        85\n",
            "        ISTJ       0.72      0.26      0.38        69\n",
            "        ISTP       0.71      0.41      0.52        87\n",
            "\n",
            "    accuracy                           0.63      2553\n",
            "   macro avg       0.54      0.35      0.39      2553\n",
            "weighted avg       0.65      0.63      0.60      2553\n",
            "\n"
          ]
        }
      ]
    },
    {
      "cell_type": "code",
      "metadata": {
        "id": "71KQvaQyPA80"
      },
      "source": [
        "models_accuracy['logistic regression_TFIDF']=accuracy_score(test_target_tfidf,model_log.predict(test_tfidf))"
      ],
      "execution_count": null,
      "outputs": []
    },
    {
      "cell_type": "markdown",
      "metadata": {
        "id": "_5qsWm5wPA80"
      },
      "source": [
        "**Word2Vec Features**"
      ]
    },
    {
      "cell_type": "code",
      "metadata": {
        "colab": {
          "base_uri": "https://localhost:8080/"
        },
        "id": "HBaShXs_PA80",
        "outputId": "84128852-f2e8-41f2-be57-3dc7112e73a0"
      },
      "source": [
        "wordvec_df_new.shape"
      ],
      "execution_count": null,
      "outputs": [
        {
          "output_type": "execute_result",
          "data": {
            "text/plain": [
              "(8675, 1000)"
            ]
          },
          "metadata": {},
          "execution_count": 50
        }
      ]
    },
    {
      "cell_type": "code",
      "metadata": {
        "id": "N7DaAZ9SPA80"
      },
      "source": [
        "train_w2v = wordvec_df_new.iloc[:col_size,:]\n",
        "test_w2v = wordvec_df_new.iloc[col_size:,:]\n",
        "\n",
        "# splitting data into training and validation set\n",
        "xtrain_w2v, xvalid_w2v, ytrain, yvalid = train_test_split(train_w2v, train['type'], random_state=42, test_size=0.3)"
      ],
      "execution_count": null,
      "outputs": []
    },
    {
      "cell_type": "code",
      "metadata": {
        "id": "5g6LhZvbPA80"
      },
      "source": [
        "target_encoder=LabelEncoder()\n",
        "train_target_w2v=target_encoder.fit_transform(ytrain)\n",
        "val_target_w2v=target_encoder.fit_transform(yvalid)\n",
        "test_target_w2v=target_encoder.fit_transform(test['type'])"
      ],
      "execution_count": null,
      "outputs": []
    },
    {
      "cell_type": "code",
      "metadata": {
        "colab": {
          "base_uri": "https://localhost:8080/"
        },
        "id": "cUyiFCDTPA81",
        "outputId": "78583933-bb7d-4cdd-cd54-2a70fb6bf3aa"
      },
      "source": [
        "model_log=LogisticRegression(max_iter=3000,C=0.5,n_jobs=-1)\n",
        "model_log.fit(xtrain_w2v,train_target_w2v)"
      ],
      "execution_count": null,
      "outputs": [
        {
          "output_type": "execute_result",
          "data": {
            "text/plain": [
              "LogisticRegression(C=0.5, class_weight=None, dual=False, fit_intercept=True,\n",
              "                   intercept_scaling=1, l1_ratio=None, max_iter=3000,\n",
              "                   multi_class='auto', n_jobs=-1, penalty='l2',\n",
              "                   random_state=None, solver='lbfgs', tol=0.0001, verbose=0,\n",
              "                   warm_start=False)"
            ]
          },
          "metadata": {},
          "execution_count": 53
        }
      ]
    },
    {
      "cell_type": "code",
      "metadata": {
        "colab": {
          "base_uri": "https://localhost:8080/"
        },
        "id": "V9O-5lEPPA81",
        "outputId": "a1a23ff2-e1cb-4906-ac5d-96f20dae29cb"
      },
      "source": [
        "print('train classification report \\n ',classification_report(train_target_w2v,model_log.predict(xtrain_w2v),target_names=target_encoder.inverse_transform([i for i in range(16)])))\n",
        "print('Val classification report \\n',classification_report(val_target_w2v,model_log.predict(xvalid_w2v),target_names=target_encoder.inverse_transform([i for i in range(16)])))\n",
        "print('test classification report \\n',classification_report(test_target_w2v,model_log.predict(test_w2v),target_names=target_encoder.inverse_transform([i for i in range(16)])))"
      ],
      "execution_count": null,
      "outputs": [
        {
          "output_type": "stream",
          "name": "stdout",
          "text": [
            "train classification report \n",
            "                precision    recall  f1-score   support\n",
            "\n",
            "        ENFJ       0.00      0.00      0.00        89\n",
            "        ENFP       0.33      0.00      0.01       318\n",
            "        ENTJ       0.00      0.00      0.00       102\n",
            "        ENTP       0.40      0.01      0.02       329\n",
            "        ESFJ       0.00      0.00      0.00        17\n",
            "        ESFP       0.00      0.00      0.00        21\n",
            "        ESTJ       0.00      0.00      0.00        17\n",
            "        ESTP       0.00      0.00      0.00        41\n",
            "        INFJ       0.37      0.21      0.27       698\n",
            "        INFP       0.30      0.90      0.45       961\n",
            "        INTJ       0.51      0.03      0.06       548\n",
            "        INTP       0.36      0.49      0.41       660\n",
            "        ISFJ       0.00      0.00      0.00        68\n",
            "        ISFP       0.00      0.00      0.00       138\n",
            "        ISTJ       0.00      0.00      0.00        94\n",
            "        ISTP       0.00      0.00      0.00       184\n",
            "\n",
            "    accuracy                           0.32      4285\n",
            "   macro avg       0.14      0.10      0.08      4285\n",
            "weighted avg       0.30      0.32      0.22      4285\n",
            "\n",
            "Val classification report \n",
            "               precision    recall  f1-score   support\n",
            "\n",
            "        ENFJ       0.00      0.00      0.00        47\n",
            "        ENFP       1.00      0.01      0.02       164\n",
            "        ENTJ       0.00      0.00      0.00        61\n",
            "        ENTP       0.00      0.00      0.00       150\n",
            "        ESFJ       0.00      0.00      0.00         7\n",
            "        ESFP       0.00      0.00      0.00        14\n",
            "        ESTJ       0.00      0.00      0.00        11\n",
            "        ESTP       0.00      0.00      0.00        18\n",
            "        INFJ       0.30      0.13      0.18       322\n",
            "        INFP       0.26      0.91      0.41       370\n",
            "        INTJ       0.50      0.05      0.10       221\n",
            "        INTP       0.29      0.45      0.35       254\n",
            "        ISFJ       0.00      0.00      0.00        42\n",
            "        ISFP       0.00      0.00      0.00        48\n",
            "        ISTJ       0.00      0.00      0.00        42\n",
            "        ISTP       0.00      0.00      0.00        66\n",
            "\n",
            "    accuracy                           0.28      1837\n",
            "   macro avg       0.15      0.10      0.07      1837\n",
            "weighted avg       0.30      0.28      0.18      1837\n",
            "\n",
            "test classification report \n",
            "               precision    recall  f1-score   support\n",
            "\n",
            "        ENFJ       0.00      0.00      0.00        54\n",
            "        ENFP       0.50      0.01      0.01       193\n",
            "        ENTJ       0.00      0.00      0.00        68\n",
            "        ENTP       0.33      0.00      0.01       206\n",
            "        ESFJ       0.00      0.00      0.00        18\n",
            "        ESFP       0.00      0.00      0.00        13\n",
            "        ESTJ       0.00      0.00      0.00        11\n",
            "        ESTP       0.00      0.00      0.00        30\n",
            "        INFJ       0.35      0.18      0.24       450\n",
            "        INFP       0.25      0.89      0.39       501\n",
            "        INTJ       0.52      0.05      0.09       322\n",
            "        INTP       0.35      0.47      0.40       390\n",
            "        ISFJ       0.00      0.00      0.00        56\n",
            "        ISFP       0.00      0.00      0.00        85\n",
            "        ISTJ       0.00      0.00      0.00        69\n",
            "        ISTP       0.00      0.00      0.00        87\n",
            "\n",
            "    accuracy                           0.28      2553\n",
            "   macro avg       0.14      0.10      0.07      2553\n",
            "weighted avg       0.29      0.28      0.19      2553\n",
            "\n"
          ]
        }
      ]
    },
    {
      "cell_type": "code",
      "metadata": {
        "id": "qJphdKssPA81"
      },
      "source": [
        "models_accuracy['logistic regression_w2v']=accuracy_score(test_target_w2v,model_log.predict(test_w2v))"
      ],
      "execution_count": null,
      "outputs": []
    },
    {
      "cell_type": "markdown",
      "metadata": {
        "id": "3Ve5DZfvPA81"
      },
      "source": [
        "# 2. Support Vector Machine"
      ]
    },
    {
      "cell_type": "code",
      "metadata": {
        "id": "lgL-O5XEPA81"
      },
      "source": [
        "from sklearn import svm\n",
        "from sklearn.svm import SVC,LinearSVC"
      ],
      "execution_count": null,
      "outputs": []
    },
    {
      "cell_type": "markdown",
      "metadata": {
        "id": "QVMMkgxLPA81"
      },
      "source": [
        "**BOW**"
      ]
    },
    {
      "cell_type": "code",
      "metadata": {
        "colab": {
          "base_uri": "https://localhost:8080/"
        },
        "id": "vSMF1eZpPA82",
        "outputId": "2d916356-79da-4078-89f9-04221a4e3252"
      },
      "source": [
        "model_linear_svc=LinearSVC(C=0.1)\n",
        "model_linear_svc.fit(xtrain_bow,train_target_bow)"
      ],
      "execution_count": null,
      "outputs": [
        {
          "output_type": "execute_result",
          "data": {
            "text/plain": [
              "LinearSVC(C=0.1, class_weight=None, dual=True, fit_intercept=True,\n",
              "          intercept_scaling=1, loss='squared_hinge', max_iter=1000,\n",
              "          multi_class='ovr', penalty='l2', random_state=None, tol=0.0001,\n",
              "          verbose=0)"
            ]
          },
          "metadata": {},
          "execution_count": 57
        }
      ]
    },
    {
      "cell_type": "code",
      "metadata": {
        "colab": {
          "base_uri": "https://localhost:8080/"
        },
        "id": "l6jzXKXqPA82",
        "outputId": "d7526da3-d022-4956-a1de-09417f898155"
      },
      "source": [
        "print('train classification report \\n ',classification_report(train_target_bow,model_linear_svc.predict(xtrain_bow),target_names=target_encoder.inverse_transform([i for i in range(16)])))\n",
        "print('test classification report \\n',classification_report(val_target_bow,model_linear_svc.predict(xvalid_bow),target_names=target_encoder.inverse_transform([i for i in range(16)])))\n",
        "print('test classification report \\n',classification_report(test_target_bow,model_linear_svc.predict(test_bow),target_names=target_encoder.inverse_transform([i for i in range(16)])))"
      ],
      "execution_count": null,
      "outputs": [
        {
          "output_type": "stream",
          "name": "stdout",
          "text": [
            "train classification report \n",
            "                precision    recall  f1-score   support\n",
            "\n",
            "        ENFJ       1.00      0.98      0.99        89\n",
            "        ENFP       1.00      1.00      1.00       318\n",
            "        ENTJ       1.00      1.00      1.00       102\n",
            "        ENTP       1.00      1.00      1.00       329\n",
            "        ESFJ       1.00      1.00      1.00        17\n",
            "        ESFP       1.00      1.00      1.00        21\n",
            "        ESTJ       1.00      1.00      1.00        17\n",
            "        ESTP       1.00      1.00      1.00        41\n",
            "        INFJ       0.99      0.99      0.99       698\n",
            "        INFP       0.99      0.99      0.99       961\n",
            "        INTJ       0.99      1.00      1.00       548\n",
            "        INTP       0.99      1.00      0.99       660\n",
            "        ISFJ       1.00      1.00      1.00        68\n",
            "        ISFP       1.00      1.00      1.00       138\n",
            "        ISTJ       1.00      1.00      1.00        94\n",
            "        ISTP       0.99      0.99      0.99       184\n",
            "\n",
            "    accuracy                           0.99      4285\n",
            "   macro avg       1.00      1.00      1.00      4285\n",
            "weighted avg       0.99      0.99      0.99      4285\n",
            "\n",
            "test classification report \n",
            "               precision    recall  f1-score   support\n",
            "\n",
            "        ENFJ       0.36      0.30      0.33        47\n",
            "        ENFP       0.48      0.46      0.47       164\n",
            "        ENTJ       0.35      0.28      0.31        61\n",
            "        ENTP       0.41      0.37      0.39       150\n",
            "        ESFJ       0.17      0.14      0.15         7\n",
            "        ESFP       0.00      0.00      0.00        14\n",
            "        ESTJ       0.14      0.09      0.11        11\n",
            "        ESTP       0.29      0.22      0.25        18\n",
            "        INFJ       0.50      0.50      0.50       322\n",
            "        INFP       0.56      0.65      0.60       370\n",
            "        INTJ       0.50      0.52      0.51       221\n",
            "        INTP       0.51      0.53      0.52       254\n",
            "        ISFJ       0.40      0.29      0.33        42\n",
            "        ISFP       0.42      0.40      0.41        48\n",
            "        ISTJ       0.42      0.24      0.30        42\n",
            "        ISTP       0.36      0.45      0.40        66\n",
            "\n",
            "    accuracy                           0.49      1837\n",
            "   macro avg       0.37      0.34      0.35      1837\n",
            "weighted avg       0.48      0.49      0.48      1837\n",
            "\n",
            "test classification report \n",
            "               precision    recall  f1-score   support\n",
            "\n",
            "        ENFJ       0.28      0.22      0.25        54\n",
            "        ENFP       0.42      0.41      0.41       193\n",
            "        ENTJ       0.41      0.38      0.40        68\n",
            "        ENTP       0.44      0.38      0.41       206\n",
            "        ESFJ       0.33      0.22      0.27        18\n",
            "        ESFP       0.07      0.08      0.07        13\n",
            "        ESTJ       0.10      0.09      0.10        11\n",
            "        ESTP       0.38      0.20      0.26        30\n",
            "        INFJ       0.51      0.52      0.51       450\n",
            "        INFP       0.55      0.62      0.58       501\n",
            "        INTJ       0.46      0.51      0.48       322\n",
            "        INTP       0.52      0.53      0.52       390\n",
            "        ISFJ       0.55      0.41      0.47        56\n",
            "        ISFP       0.34      0.26      0.29        85\n",
            "        ISTJ       0.39      0.35      0.37        69\n",
            "        ISTP       0.40      0.39      0.40        87\n",
            "\n",
            "    accuracy                           0.48      2553\n",
            "   macro avg       0.38      0.35      0.36      2553\n",
            "weighted avg       0.47      0.48      0.48      2553\n",
            "\n"
          ]
        }
      ]
    },
    {
      "cell_type": "code",
      "metadata": {
        "id": "C82TRkX-PA82"
      },
      "source": [
        "models_accuracy['Linear Support Vector classifier_BOW']=accuracy_score(test_target_bow,model_linear_svc.predict(test_bow))"
      ],
      "execution_count": null,
      "outputs": []
    },
    {
      "cell_type": "markdown",
      "metadata": {
        "id": "_4dSn7cEPA82"
      },
      "source": [
        "**TFIDF**"
      ]
    },
    {
      "cell_type": "code",
      "metadata": {
        "colab": {
          "base_uri": "https://localhost:8080/"
        },
        "id": "dJM4acbbPA82",
        "outputId": "d5b2322c-c8b1-4223-f3c9-c3329d9e823f"
      },
      "source": [
        "model_linear_svc=LinearSVC(C=0.1)\n",
        "model_linear_svc.fit(xtrain_tfidf,train_target_tfidf)"
      ],
      "execution_count": null,
      "outputs": [
        {
          "output_type": "execute_result",
          "data": {
            "text/plain": [
              "LinearSVC(C=0.1, class_weight=None, dual=True, fit_intercept=True,\n",
              "          intercept_scaling=1, loss='squared_hinge', max_iter=1000,\n",
              "          multi_class='ovr', penalty='l2', random_state=None, tol=0.0001,\n",
              "          verbose=0)"
            ]
          },
          "metadata": {},
          "execution_count": 60
        }
      ]
    },
    {
      "cell_type": "code",
      "metadata": {
        "colab": {
          "base_uri": "https://localhost:8080/"
        },
        "id": "UhKzc2VjPA82",
        "outputId": "03e9ccd6-f224-4599-9655-8675680ff471"
      },
      "source": [
        "print('train classification report \\n ',classification_report(train_target_tfidf,model_linear_svc.predict(xtrain_tfidf),target_names=target_encoder.inverse_transform([i for i in range(16)])))\n",
        "print('test classification report \\n',classification_report(val_target_tfidf,model_linear_svc.predict(xvalid_tfidf),target_names=target_encoder.inverse_transform([i for i in range(16)])))\n",
        "print('test classification report \\n',classification_report(test_target_tfidf,model_linear_svc.predict(test_tfidf),target_names=target_encoder.inverse_transform([i for i in range(16)])))"
      ],
      "execution_count": null,
      "outputs": [
        {
          "output_type": "stream",
          "name": "stdout",
          "text": [
            "train classification report \n",
            "                precision    recall  f1-score   support\n",
            "\n",
            "        ENFJ       0.82      0.35      0.49        89\n",
            "        ENFP       0.82      0.74      0.78       318\n",
            "        ENTJ       0.86      0.53      0.65       102\n",
            "        ENTP       0.80      0.76      0.78       329\n",
            "        ESFJ       0.86      0.35      0.50        17\n",
            "        ESFP       1.00      0.10      0.17        21\n",
            "        ESTJ       1.00      0.29      0.45        17\n",
            "        ESTP       0.90      0.22      0.35        41\n",
            "        INFJ       0.81      0.82      0.81       698\n",
            "        INFP       0.75      0.91      0.83       961\n",
            "        INTJ       0.78      0.80      0.79       548\n",
            "        INTP       0.77      0.86      0.81       660\n",
            "        ISFJ       0.88      0.44      0.59        68\n",
            "        ISFP       0.84      0.64      0.72       138\n",
            "        ISTJ       0.86      0.61      0.71        94\n",
            "        ISTP       0.85      0.83      0.84       184\n",
            "\n",
            "    accuracy                           0.79      4285\n",
            "   macro avg       0.85      0.58      0.64      4285\n",
            "weighted avg       0.80      0.79      0.78      4285\n",
            "\n",
            "test classification report \n",
            "               precision    recall  f1-score   support\n",
            "\n",
            "        ENFJ       0.82      0.19      0.31        47\n",
            "        ENFP       0.70      0.56      0.62       164\n",
            "        ENTJ       0.76      0.31      0.44        61\n",
            "        ENTP       0.62      0.57      0.59       150\n",
            "        ESFJ       0.00      0.00      0.00         7\n",
            "        ESFP       0.00      0.00      0.00        14\n",
            "        ESTJ       1.00      0.18      0.31        11\n",
            "        ESTP       0.71      0.28      0.40        18\n",
            "        INFJ       0.67      0.65      0.66       322\n",
            "        INFP       0.57      0.85      0.68       370\n",
            "        INTJ       0.64      0.69      0.66       221\n",
            "        INTP       0.64      0.74      0.69       254\n",
            "        ISFJ       0.76      0.31      0.44        42\n",
            "        ISFP       0.52      0.29      0.37        48\n",
            "        ISTJ       0.50      0.24      0.32        42\n",
            "        ISTP       0.68      0.61      0.64        66\n",
            "\n",
            "    accuracy                           0.63      1837\n",
            "   macro avg       0.60      0.40      0.45      1837\n",
            "weighted avg       0.64      0.63      0.61      1837\n",
            "\n",
            "test classification report \n",
            "               precision    recall  f1-score   support\n",
            "\n",
            "        ENFJ       0.82      0.26      0.39        54\n",
            "        ENFP       0.70      0.53      0.61       193\n",
            "        ENTJ       0.93      0.37      0.53        68\n",
            "        ENTP       0.71      0.63      0.66       206\n",
            "        ESFJ       1.00      0.06      0.11        18\n",
            "        ESFP       0.00      0.00      0.00        13\n",
            "        ESTJ       0.00      0.00      0.00        11\n",
            "        ESTP       0.75      0.30      0.43        30\n",
            "        INFJ       0.68      0.66      0.67       450\n",
            "        INFP       0.58      0.87      0.69       501\n",
            "        INTJ       0.65      0.68      0.66       322\n",
            "        INTP       0.69      0.81      0.74       390\n",
            "        ISFJ       0.79      0.41      0.54        56\n",
            "        ISFP       0.73      0.39      0.51        85\n",
            "        ISTJ       0.76      0.42      0.54        69\n",
            "        ISTP       0.68      0.57      0.62        87\n",
            "\n",
            "    accuracy                           0.66      2553\n",
            "   macro avg       0.65      0.43      0.48      2553\n",
            "weighted avg       0.67      0.66      0.64      2553\n",
            "\n"
          ]
        }
      ]
    },
    {
      "cell_type": "code",
      "metadata": {
        "id": "FYpH9wSKPA83"
      },
      "source": [
        "models_accuracy['Linear Support Vector classifier_TFIDF']=accuracy_score(test_target_tfidf,model_linear_svc.predict(test_tfidf))"
      ],
      "execution_count": null,
      "outputs": []
    },
    {
      "cell_type": "markdown",
      "metadata": {
        "id": "istlTbz-PA83"
      },
      "source": [
        "**W2V**"
      ]
    },
    {
      "cell_type": "code",
      "metadata": {
        "colab": {
          "base_uri": "https://localhost:8080/"
        },
        "id": "8ffMPdSBPA83",
        "outputId": "2dccfccc-6f15-4e74-d23d-4a2a0b38c011"
      },
      "source": [
        "model_linear_svc=LinearSVC(C=0.1)\n",
        "model_linear_svc.fit(xtrain_w2v,train_target_w2v)"
      ],
      "execution_count": null,
      "outputs": [
        {
          "output_type": "execute_result",
          "data": {
            "text/plain": [
              "LinearSVC(C=0.1, class_weight=None, dual=True, fit_intercept=True,\n",
              "          intercept_scaling=1, loss='squared_hinge', max_iter=1000,\n",
              "          multi_class='ovr', penalty='l2', random_state=None, tol=0.0001,\n",
              "          verbose=0)"
            ]
          },
          "metadata": {},
          "execution_count": 63
        }
      ]
    },
    {
      "cell_type": "code",
      "metadata": {
        "colab": {
          "base_uri": "https://localhost:8080/"
        },
        "id": "d_OvkXMOPA83",
        "outputId": "9257a70c-7aeb-4b6f-8a66-b95bd6e94095"
      },
      "source": [
        "print('train classification report \\n ',classification_report(train_target_w2v,model_linear_svc.predict(xtrain_w2v),target_names=target_encoder.inverse_transform([i for i in range(16)])))\n",
        "print('test classification report \\n',classification_report(val_target_w2v,model_linear_svc.predict(xvalid_w2v),target_names=target_encoder.inverse_transform([i for i in range(16)])))\n",
        "print('test classification report \\n',classification_report(test_target_w2v,model_linear_svc.predict(test_w2v),target_names=target_encoder.inverse_transform([i for i in range(16)])))"
      ],
      "execution_count": null,
      "outputs": [
        {
          "output_type": "stream",
          "name": "stdout",
          "text": [
            "train classification report \n",
            "                precision    recall  f1-score   support\n",
            "\n",
            "        ENFJ       0.00      0.00      0.00        89\n",
            "        ENFP       0.33      0.02      0.03       318\n",
            "        ENTJ       0.00      0.00      0.00       102\n",
            "        ENTP       0.53      0.06      0.11       329\n",
            "        ESFJ       0.00      0.00      0.00        17\n",
            "        ESFP       0.00      0.00      0.00        21\n",
            "        ESTJ       0.00      0.00      0.00        17\n",
            "        ESTP       0.00      0.00      0.00        41\n",
            "        INFJ       0.41      0.27      0.32       698\n",
            "        INFP       0.34      0.90      0.49       961\n",
            "        INTJ       0.51      0.15      0.23       548\n",
            "        INTP       0.37      0.58      0.45       660\n",
            "        ISFJ       0.00      0.00      0.00        68\n",
            "        ISFP       0.50      0.01      0.01       138\n",
            "        ISTJ       0.00      0.00      0.00        94\n",
            "        ISTP       1.00      0.01      0.02       184\n",
            "\n",
            "    accuracy                           0.36      4285\n",
            "   macro avg       0.25      0.12      0.10      4285\n",
            "weighted avg       0.39      0.36      0.27      4285\n",
            "\n",
            "test classification report \n",
            "               precision    recall  f1-score   support\n",
            "\n",
            "        ENFJ       0.00      0.00      0.00        47\n",
            "        ENFP       0.57      0.02      0.05       164\n",
            "        ENTJ       0.00      0.00      0.00        61\n",
            "        ENTP       0.50      0.03      0.05       150\n",
            "        ESFJ       0.00      0.00      0.00         7\n",
            "        ESFP       0.00      0.00      0.00        14\n",
            "        ESTJ       0.00      0.00      0.00        11\n",
            "        ESTP       0.00      0.00      0.00        18\n",
            "        INFJ       0.34      0.19      0.24       322\n",
            "        INFP       0.29      0.88      0.44       370\n",
            "        INTJ       0.49      0.16      0.24       221\n",
            "        INTP       0.31      0.57      0.40       254\n",
            "        ISFJ       0.00      0.00      0.00        42\n",
            "        ISFP       0.00      0.00      0.00        48\n",
            "        ISTJ       0.00      0.00      0.00        42\n",
            "        ISTP       0.00      0.00      0.00        66\n",
            "\n",
            "    accuracy                           0.31      1837\n",
            "   macro avg       0.16      0.12      0.09      1837\n",
            "weighted avg       0.31      0.31      0.22      1837\n",
            "\n",
            "test classification report \n",
            "               precision    recall  f1-score   support\n",
            "\n",
            "        ENFJ       0.00      0.00      0.00        54\n",
            "        ENFP       0.11      0.01      0.01       193\n",
            "        ENTJ       0.00      0.00      0.00        68\n",
            "        ENTP       0.36      0.02      0.04       206\n",
            "        ESFJ       0.00      0.00      0.00        18\n",
            "        ESFP       0.00      0.00      0.00        13\n",
            "        ESTJ       0.00      0.00      0.00        11\n",
            "        ESTP       0.00      0.00      0.00        30\n",
            "        INFJ       0.37      0.24      0.29       450\n",
            "        INFP       0.28      0.88      0.43       501\n",
            "        INTJ       0.45      0.14      0.21       322\n",
            "        INTP       0.38      0.57      0.45       390\n",
            "        ISFJ       0.00      0.00      0.00        56\n",
            "        ISFP       0.00      0.00      0.00        85\n",
            "        ISTJ       0.00      0.00      0.00        69\n",
            "        ISTP       0.00      0.00      0.00        87\n",
            "\n",
            "    accuracy                           0.32      2553\n",
            "   macro avg       0.12      0.12      0.09      2553\n",
            "weighted avg       0.27      0.32      0.23      2553\n",
            "\n"
          ]
        }
      ]
    },
    {
      "cell_type": "code",
      "metadata": {
        "id": "_RtgFF9UPA83"
      },
      "source": [
        "models_accuracy['Linear Support Vector classifier_w2v']=accuracy_score(test_target_w2v,model_linear_svc.predict(test_w2v))"
      ],
      "execution_count": null,
      "outputs": []
    },
    {
      "cell_type": "markdown",
      "metadata": {
        "id": "KGmPgsshPA83"
      },
      "source": [
        "# 3. XGBoost Classifier"
      ]
    },
    {
      "cell_type": "code",
      "metadata": {
        "id": "xSFXXqQJPA84"
      },
      "source": [
        "from xgboost import XGBClassifier"
      ],
      "execution_count": null,
      "outputs": []
    },
    {
      "cell_type": "markdown",
      "metadata": {
        "id": "DWLysrNbPA84"
      },
      "source": [
        "**BOW**"
      ]
    },
    {
      "cell_type": "code",
      "metadata": {
        "colab": {
          "base_uri": "https://localhost:8080/"
        },
        "id": "tkv6b4KmPA84",
        "outputId": "5f8a2f0a-ca1d-4dda-e13f-812e6d8220b8"
      },
      "source": [
        "model_xgb=XGBClassifier(gpu_id=1,tree_method='auto',max_depth=5,n_estimators=50,learning_rate=0.1)\n",
        "model_xgb.fit(xtrain_bow,train_target_bow)"
      ],
      "execution_count": null,
      "outputs": [
        {
          "output_type": "execute_result",
          "data": {
            "text/plain": [
              "XGBClassifier(base_score=0.5, booster='gbtree', colsample_bylevel=1,\n",
              "              colsample_bynode=1, colsample_bytree=1, gamma=0, gpu_id=1,\n",
              "              learning_rate=0.1, max_delta_step=0, max_depth=5,\n",
              "              min_child_weight=1, missing=None, n_estimators=50, n_jobs=1,\n",
              "              nthread=None, objective='multi:softprob', random_state=0,\n",
              "              reg_alpha=0, reg_lambda=1, scale_pos_weight=1, seed=None,\n",
              "              silent=None, subsample=1, tree_method='auto', verbosity=1)"
            ]
          },
          "metadata": {},
          "execution_count": 67
        }
      ]
    },
    {
      "cell_type": "code",
      "metadata": {
        "colab": {
          "base_uri": "https://localhost:8080/"
        },
        "id": "NyP6Voi-PA84",
        "outputId": "b3d414b5-0dce-4f8b-bf46-ab58c5c98c8e"
      },
      "source": [
        "print('train classification report \\n ',classification_report(train_target_bow,model_xgb.predict(xtrain_bow),target_names=target_encoder.inverse_transform([i for i in range(16)])))\n",
        "print('test classification report \\n',classification_report(val_target_bow,model_xgb.predict(xvalid_bow),target_names=target_encoder.inverse_transform([i for i in range(16)])))\n",
        "print('test classification report \\n',classification_report(test_target_bow,model_xgb.predict(test_bow),target_names=target_encoder.inverse_transform([i for i in range(16)])))"
      ],
      "execution_count": null,
      "outputs": [
        {
          "output_type": "stream",
          "name": "stdout",
          "text": [
            "train classification report \n",
            "                precision    recall  f1-score   support\n",
            "\n",
            "        ENFJ       1.00      0.91      0.95        89\n",
            "        ENFP       0.99      0.97      0.98       318\n",
            "        ENTJ       1.00      0.96      0.98       102\n",
            "        ENTP       0.98      0.97      0.97       329\n",
            "        ESFJ       1.00      0.94      0.97        17\n",
            "        ESFP       1.00      0.95      0.98        21\n",
            "        ESTJ       1.00      0.94      0.97        17\n",
            "        ESTP       1.00      0.98      0.99        41\n",
            "        INFJ       0.97      0.96      0.96       698\n",
            "        INFP       0.93      0.96      0.95       961\n",
            "        INTJ       0.96      0.94      0.95       548\n",
            "        INTP       0.94      0.97      0.95       660\n",
            "        ISFJ       1.00      0.96      0.98        68\n",
            "        ISFP       0.99      0.96      0.97       138\n",
            "        ISTJ       1.00      0.96      0.98        94\n",
            "        ISTP       0.98      0.99      0.99       184\n",
            "\n",
            "    accuracy                           0.96      4285\n",
            "   macro avg       0.98      0.96      0.97      4285\n",
            "weighted avg       0.96      0.96      0.96      4285\n",
            "\n",
            "test classification report \n",
            "               precision    recall  f1-score   support\n",
            "\n",
            "        ENFJ       0.85      0.36      0.51        47\n",
            "        ENFP       0.65      0.57      0.61       164\n",
            "        ENTJ       0.74      0.33      0.45        61\n",
            "        ENTP       0.59      0.57      0.58       150\n",
            "        ESFJ       0.00      0.00      0.00         7\n",
            "        ESFP       0.00      0.00      0.00        14\n",
            "        ESTJ       0.50      0.18      0.27        11\n",
            "        ESTP       0.56      0.28      0.37        18\n",
            "        INFJ       0.67      0.67      0.67       322\n",
            "        INFP       0.59      0.82      0.69       370\n",
            "        INTJ       0.65      0.67      0.66       221\n",
            "        INTP       0.65      0.74      0.69       254\n",
            "        ISFJ       0.84      0.38      0.52        42\n",
            "        ISFP       0.63      0.40      0.49        48\n",
            "        ISTJ       0.52      0.33      0.41        42\n",
            "        ISTP       0.72      0.64      0.68        66\n",
            "\n",
            "    accuracy                           0.64      1837\n",
            "   macro avg       0.57      0.43      0.47      1837\n",
            "weighted avg       0.64      0.64      0.62      1837\n",
            "\n",
            "test classification report \n",
            "               precision    recall  f1-score   support\n",
            "\n",
            "        ENFJ       0.57      0.31      0.40        54\n",
            "        ENFP       0.63      0.59      0.61       193\n",
            "        ENTJ       0.78      0.31      0.44        68\n",
            "        ENTP       0.63      0.62      0.62       206\n",
            "        ESFJ       1.00      0.06      0.11        18\n",
            "        ESFP       0.00      0.00      0.00        13\n",
            "        ESTJ       0.67      0.18      0.29        11\n",
            "        ESTP       0.62      0.17      0.26        30\n",
            "        INFJ       0.69      0.67      0.68       450\n",
            "        INFP       0.60      0.83      0.70       501\n",
            "        INTJ       0.62      0.70      0.66       322\n",
            "        INTP       0.68      0.74      0.71       390\n",
            "        ISFJ       0.67      0.32      0.43        56\n",
            "        ISFP       0.70      0.45      0.55        85\n",
            "        ISTJ       0.79      0.38      0.51        69\n",
            "        ISTP       0.66      0.57      0.61        87\n",
            "\n",
            "    accuracy                           0.65      2553\n",
            "   macro avg       0.64      0.43      0.47      2553\n",
            "weighted avg       0.65      0.65      0.63      2553\n",
            "\n"
          ]
        }
      ]
    },
    {
      "cell_type": "code",
      "metadata": {
        "id": "vwsMpDYePA84"
      },
      "source": [
        "models_accuracy['XGBoost Classifier_BOW']=accuracy_score(test_target_bow,model_xgb.predict(test_bow))"
      ],
      "execution_count": null,
      "outputs": []
    },
    {
      "cell_type": "markdown",
      "metadata": {
        "id": "do10NaQzPA84"
      },
      "source": [
        "**TFIDF**"
      ]
    },
    {
      "cell_type": "code",
      "metadata": {
        "colab": {
          "base_uri": "https://localhost:8080/"
        },
        "id": "hi_DZ6_ePA84",
        "outputId": "c031276d-65a8-451f-f567-2567d5dfd162"
      },
      "source": [
        "model_xgb=XGBClassifier(gpu_id=1,tree_method='auto',max_depth=5,n_estimators=50,learning_rate=0.1)\n",
        "model_xgb.fit(xtrain_tfidf,train_target_tfidf)"
      ],
      "execution_count": null,
      "outputs": [
        {
          "output_type": "execute_result",
          "data": {
            "text/plain": [
              "XGBClassifier(base_score=0.5, booster='gbtree', colsample_bylevel=1,\n",
              "              colsample_bynode=1, colsample_bytree=1, gamma=0, gpu_id=1,\n",
              "              learning_rate=0.1, max_delta_step=0, max_depth=5,\n",
              "              min_child_weight=1, missing=None, n_estimators=50, n_jobs=1,\n",
              "              nthread=None, objective='multi:softprob', random_state=0,\n",
              "              reg_alpha=0, reg_lambda=1, scale_pos_weight=1, seed=None,\n",
              "              silent=None, subsample=1, tree_method='auto', verbosity=1)"
            ]
          },
          "metadata": {},
          "execution_count": 70
        }
      ]
    },
    {
      "cell_type": "code",
      "metadata": {
        "colab": {
          "base_uri": "https://localhost:8080/"
        },
        "id": "WqIjseNwPA85",
        "outputId": "56e11097-a484-4b0d-9803-cf4296b5e54a"
      },
      "source": [
        "print('train classification report \\n ',classification_report(train_target_tfidf,model_xgb.predict(xtrain_tfidf),target_names=target_encoder.inverse_transform([i for i in range(16)])))\n",
        "print('test classification report \\n',classification_report(val_target_tfidf,model_xgb.predict(xvalid_tfidf),target_names=target_encoder.inverse_transform([i for i in range(16)])))\n",
        "print('test classification report \\n',classification_report(test_target_tfidf,model_xgb.predict(test_tfidf),target_names=target_encoder.inverse_transform([i for i in range(16)])))"
      ],
      "execution_count": null,
      "outputs": [
        {
          "output_type": "stream",
          "name": "stdout",
          "text": [
            "train classification report \n",
            "                precision    recall  f1-score   support\n",
            "\n",
            "        ENFJ       1.00      0.98      0.99        89\n",
            "        ENFP       0.99      0.99      0.99       318\n",
            "        ENTJ       1.00      0.99      1.00       102\n",
            "        ENTP       0.99      0.99      0.99       329\n",
            "        ESFJ       1.00      1.00      1.00        17\n",
            "        ESFP       1.00      1.00      1.00        21\n",
            "        ESTJ       1.00      1.00      1.00        17\n",
            "        ESTP       1.00      1.00      1.00        41\n",
            "        INFJ       0.98      0.98      0.98       698\n",
            "        INFP       0.97      0.98      0.98       961\n",
            "        INTJ       0.98      0.98      0.98       548\n",
            "        INTP       0.98      0.98      0.98       660\n",
            "        ISFJ       1.00      0.99      0.99        68\n",
            "        ISFP       1.00      0.99      0.99       138\n",
            "        ISTJ       1.00      0.98      0.99        94\n",
            "        ISTP       0.98      0.98      0.98       184\n",
            "\n",
            "    accuracy                           0.98      4285\n",
            "   macro avg       0.99      0.99      0.99      4285\n",
            "weighted avg       0.98      0.98      0.98      4285\n",
            "\n",
            "test classification report \n",
            "               precision    recall  f1-score   support\n",
            "\n",
            "        ENFJ       0.68      0.28      0.39        47\n",
            "        ENFP       0.66      0.60      0.63       164\n",
            "        ENTJ       0.70      0.34      0.46        61\n",
            "        ENTP       0.60      0.60      0.60       150\n",
            "        ESFJ       1.00      0.14      0.25         7\n",
            "        ESFP       0.00      0.00      0.00        14\n",
            "        ESTJ       0.40      0.18      0.25        11\n",
            "        ESTP       0.80      0.22      0.35        18\n",
            "        INFJ       0.68      0.68      0.68       322\n",
            "        INFP       0.60      0.83      0.69       370\n",
            "        INTJ       0.68      0.68      0.68       221\n",
            "        INTP       0.63      0.70      0.66       254\n",
            "        ISFJ       0.88      0.33      0.48        42\n",
            "        ISFP       0.58      0.38      0.46        48\n",
            "        ISTJ       0.43      0.31      0.36        42\n",
            "        ISTP       0.68      0.61      0.64        66\n",
            "\n",
            "    accuracy                           0.64      1837\n",
            "   macro avg       0.62      0.43      0.47      1837\n",
            "weighted avg       0.64      0.64      0.62      1837\n",
            "\n",
            "test classification report \n",
            "               precision    recall  f1-score   support\n",
            "\n",
            "        ENFJ       0.58      0.26      0.36        54\n",
            "        ENFP       0.65      0.58      0.61       193\n",
            "        ENTJ       0.75      0.35      0.48        68\n",
            "        ENTP       0.63      0.65      0.64       206\n",
            "        ESFJ       1.00      0.11      0.20        18\n",
            "        ESFP       0.00      0.00      0.00        13\n",
            "        ESTJ       0.60      0.27      0.37        11\n",
            "        ESTP       0.73      0.27      0.39        30\n",
            "        INFJ       0.67      0.66      0.67       450\n",
            "        INFP       0.59      0.83      0.69       501\n",
            "        INTJ       0.63      0.67      0.65       322\n",
            "        INTP       0.70      0.72      0.71       390\n",
            "        ISFJ       0.74      0.41      0.53        56\n",
            "        ISFP       0.64      0.42      0.51        85\n",
            "        ISTJ       0.64      0.41      0.50        69\n",
            "        ISTP       0.62      0.57      0.60        87\n",
            "\n",
            "    accuracy                           0.64      2553\n",
            "   macro avg       0.64      0.45      0.49      2553\n",
            "weighted avg       0.65      0.64      0.63      2553\n",
            "\n"
          ]
        }
      ]
    },
    {
      "cell_type": "code",
      "metadata": {
        "id": "pPqugaeEPA85"
      },
      "source": [
        "models_accuracy['XGBoost Classifier_TFIDF']=accuracy_score(test_target_tfidf,model_xgb.predict(test_tfidf))"
      ],
      "execution_count": null,
      "outputs": []
    },
    {
      "cell_type": "markdown",
      "metadata": {
        "id": "FKnRDFkmPA85"
      },
      "source": [
        "**w2v**"
      ]
    },
    {
      "cell_type": "code",
      "metadata": {
        "colab": {
          "base_uri": "https://localhost:8080/"
        },
        "id": "i6PHbaJPPA85",
        "outputId": "f2eadd57-86b6-4981-d7e6-79a929fa08d9"
      },
      "source": [
        "model_xgb=XGBClassifier(gpu_id=1,tree_method='auto',max_depth=5,n_estimators=50,learning_rate=0.1)\n",
        "model_xgb.fit(xtrain_w2v,train_target_w2v)"
      ],
      "execution_count": null,
      "outputs": [
        {
          "output_type": "execute_result",
          "data": {
            "text/plain": [
              "XGBClassifier(base_score=0.5, booster='gbtree', colsample_bylevel=1,\n",
              "              colsample_bynode=1, colsample_bytree=1, gamma=0, gpu_id=1,\n",
              "              learning_rate=0.1, max_delta_step=0, max_depth=5,\n",
              "              min_child_weight=1, missing=None, n_estimators=50, n_jobs=1,\n",
              "              nthread=None, objective='multi:softprob', random_state=0,\n",
              "              reg_alpha=0, reg_lambda=1, scale_pos_weight=1, seed=None,\n",
              "              silent=None, subsample=1, tree_method='auto', verbosity=1)"
            ]
          },
          "metadata": {},
          "execution_count": 73
        }
      ]
    },
    {
      "cell_type": "code",
      "metadata": {
        "colab": {
          "base_uri": "https://localhost:8080/"
        },
        "id": "K18R7a_0PA85",
        "outputId": "e877b8fd-3758-4788-e25e-7aae8f7b9c26"
      },
      "source": [
        "print('train classification report \\n ',classification_report(train_target_w2v,model_xgb.predict(xtrain_w2v),target_names=target_encoder.inverse_transform([i for i in range(16)])))\n",
        "print('test classification report \\n',classification_report(val_target_w2v,model_xgb.predict(xvalid_w2v),target_names=target_encoder.inverse_transform([i for i in range(16)])))\n",
        "print('test classification report \\n',classification_report(test_target_w2v,model_xgb.predict(test_w2v),target_names=target_encoder.inverse_transform([i for i in range(16)])))"
      ],
      "execution_count": null,
      "outputs": [
        {
          "output_type": "stream",
          "name": "stdout",
          "text": [
            "train classification report \n",
            "                precision    recall  f1-score   support\n",
            "\n",
            "        ENFJ       1.00      1.00      1.00        89\n",
            "        ENFP       1.00      0.99      1.00       318\n",
            "        ENTJ       1.00      1.00      1.00       102\n",
            "        ENTP       1.00      1.00      1.00       329\n",
            "        ESFJ       1.00      1.00      1.00        17\n",
            "        ESFP       1.00      1.00      1.00        21\n",
            "        ESTJ       1.00      1.00      1.00        17\n",
            "        ESTP       1.00      1.00      1.00        41\n",
            "        INFJ       0.99      1.00      1.00       698\n",
            "        INFP       0.99      1.00      1.00       961\n",
            "        INTJ       1.00      1.00      1.00       548\n",
            "        INTP       1.00      1.00      1.00       660\n",
            "        ISFJ       1.00      1.00      1.00        68\n",
            "        ISFP       1.00      1.00      1.00       138\n",
            "        ISTJ       1.00      1.00      1.00        94\n",
            "        ISTP       1.00      0.99      1.00       184\n",
            "\n",
            "    accuracy                           1.00      4285\n",
            "   macro avg       1.00      1.00      1.00      4285\n",
            "weighted avg       1.00      1.00      1.00      4285\n",
            "\n",
            "test classification report \n",
            "               precision    recall  f1-score   support\n",
            "\n",
            "        ENFJ       0.00      0.00      0.00        47\n",
            "        ENFP       0.46      0.25      0.32       164\n",
            "        ENTJ       0.50      0.02      0.03        61\n",
            "        ENTP       0.46      0.23      0.31       150\n",
            "        ESFJ       0.00      0.00      0.00         7\n",
            "        ESFP       0.00      0.00      0.00        14\n",
            "        ESTJ       0.00      0.00      0.00        11\n",
            "        ESTP       0.00      0.00      0.00        18\n",
            "        INFJ       0.41      0.36      0.38       322\n",
            "        INFP       0.40      0.77      0.53       370\n",
            "        INTJ       0.35      0.38      0.37       221\n",
            "        INTP       0.37      0.58      0.46       254\n",
            "        ISFJ       1.00      0.10      0.17        42\n",
            "        ISFP       0.20      0.02      0.04        48\n",
            "        ISTJ       1.00      0.02      0.05        42\n",
            "        ISTP       0.71      0.15      0.25        66\n",
            "\n",
            "    accuracy                           0.40      1837\n",
            "   macro avg       0.37      0.18      0.18      1837\n",
            "weighted avg       0.42      0.40      0.35      1837\n",
            "\n",
            "test classification report \n",
            "               precision    recall  f1-score   support\n",
            "\n",
            "        ENFJ       0.00      0.00      0.00        54\n",
            "        ENFP       0.40      0.24      0.30       193\n",
            "        ENTJ       0.62      0.07      0.13        68\n",
            "        ENTP       0.50      0.25      0.33       206\n",
            "        ESFJ       0.00      0.00      0.00        18\n",
            "        ESFP       0.00      0.00      0.00        13\n",
            "        ESTJ       0.00      0.00      0.00        11\n",
            "        ESTP       1.00      0.03      0.06        30\n",
            "        INFJ       0.39      0.41      0.40       450\n",
            "        INFP       0.38      0.72      0.50       501\n",
            "        INTJ       0.45      0.45      0.45       322\n",
            "        INTP       0.42      0.60      0.49       390\n",
            "        ISFJ       1.00      0.04      0.07        56\n",
            "        ISFP       0.45      0.06      0.10        85\n",
            "        ISTJ       0.25      0.01      0.03        69\n",
            "        ISTP       0.50      0.13      0.20        87\n",
            "\n",
            "    accuracy                           0.41      2553\n",
            "   macro avg       0.40      0.19      0.19      2553\n",
            "weighted avg       0.43      0.41      0.37      2553\n",
            "\n"
          ]
        }
      ]
    },
    {
      "cell_type": "code",
      "metadata": {
        "id": "JgRtfcaFPA85"
      },
      "source": [
        "models_accuracy['XGBoost Classifier_w2v']=accuracy_score(test_target_w2v,model_xgb.predict(test_w2v))"
      ],
      "execution_count": null,
      "outputs": []
    },
    {
      "cell_type": "code",
      "metadata": {
        "id": "eS6aZv55PA85"
      },
      "source": [
        "prediction = model_xgb.predict(xvalid_w2v)\n"
      ],
      "execution_count": null,
      "outputs": []
    },
    {
      "cell_type": "code",
      "metadata": {
        "colab": {
          "base_uri": "https://localhost:8080/"
        },
        "id": "-PkMZ3DdPA86",
        "outputId": "0f5c5c0c-591e-4a18-9a1e-11f1a865e75c"
      },
      "source": [
        "print(\"F1 Score : \",f1_score(val_target_w2v, prediction, \n",
        "                                           pos_label='positive',\n",
        "                                           average='micro'))"
      ],
      "execution_count": null,
      "outputs": [
        {
          "output_type": "stream",
          "name": "stdout",
          "text": [
            "F1 Score :  0.3968426782798041\n"
          ]
        }
      ]
    },
    {
      "cell_type": "markdown",
      "metadata": {
        "id": "PudhdjA0Wx6_"
      },
      "source": [
        "# Results of Classical Models"
      ]
    },
    {
      "cell_type": "code",
      "metadata": {
        "id": "0iRQt0L0PA87"
      },
      "source": [
        "accuarcy=pd.DataFrame(models_accuracy.items(),columns=['Models','Test accuracy'])"
      ],
      "execution_count": null,
      "outputs": []
    },
    {
      "cell_type": "code",
      "metadata": {
        "colab": {
          "base_uri": "https://localhost:8080/",
          "height": 229
        },
        "id": "11q2-ICEPA87",
        "outputId": "6dbf0177-d9b5-42ce-9251-9f1f4ee24191"
      },
      "source": [
        "accuarcy.sort_values(by='Test accuracy',ascending=False,ignore_index=True).style.background_gradient(cmap='Blues')"
      ],
      "execution_count": null,
      "outputs": [
        {
          "output_type": "execute_result",
          "data": {
            "text/html": [
              "<style  type=\"text/css\" >\n",
              "#T_74c446f8_362c_11ec_94e8_0242ac1c0002row0_col1{\n",
              "            background-color:  #08306b;\n",
              "            color:  #f1f1f1;\n",
              "        }#T_74c446f8_362c_11ec_94e8_0242ac1c0002row1_col1{\n",
              "            background-color:  #083877;\n",
              "            color:  #f1f1f1;\n",
              "        }#T_74c446f8_362c_11ec_94e8_0242ac1c0002row2_col1{\n",
              "            background-color:  #083b7c;\n",
              "            color:  #f1f1f1;\n",
              "        }#T_74c446f8_362c_11ec_94e8_0242ac1c0002row3_col1{\n",
              "            background-color:  #084488;\n",
              "            color:  #f1f1f1;\n",
              "        }#T_74c446f8_362c_11ec_94e8_0242ac1c0002row4_col1{\n",
              "            background-color:  #3080bd;\n",
              "            color:  #000000;\n",
              "        }#T_74c446f8_362c_11ec_94e8_0242ac1c0002row5_col1{\n",
              "            background-color:  #64a9d3;\n",
              "            color:  #000000;\n",
              "        }#T_74c446f8_362c_11ec_94e8_0242ac1c0002row6_col1{\n",
              "            background-color:  #abd0e6;\n",
              "            color:  #000000;\n",
              "        }#T_74c446f8_362c_11ec_94e8_0242ac1c0002row7_col1{\n",
              "            background-color:  #e4eff9;\n",
              "            color:  #000000;\n",
              "        }#T_74c446f8_362c_11ec_94e8_0242ac1c0002row8_col1{\n",
              "            background-color:  #f7fbff;\n",
              "            color:  #000000;\n",
              "        }</style><table id=\"T_74c446f8_362c_11ec_94e8_0242ac1c0002\" ><thead>    <tr>        <th class=\"blank level0\" ></th>        <th class=\"col_heading level0 col0\" >Models</th>        <th class=\"col_heading level0 col1\" >Test accuracy</th>    </tr></thead><tbody>\n",
              "                <tr>\n",
              "                        <th id=\"T_74c446f8_362c_11ec_94e8_0242ac1c0002level0_row0\" class=\"row_heading level0 row0\" >0</th>\n",
              "                        <td id=\"T_74c446f8_362c_11ec_94e8_0242ac1c0002row0_col0\" class=\"data row0 col0\" >Linear Support Vector classifier_TFIDF</td>\n",
              "                        <td id=\"T_74c446f8_362c_11ec_94e8_0242ac1c0002row0_col1\" class=\"data row0 col1\" >0.658441</td>\n",
              "            </tr>\n",
              "            <tr>\n",
              "                        <th id=\"T_74c446f8_362c_11ec_94e8_0242ac1c0002level0_row1\" class=\"row_heading level0 row1\" >1</th>\n",
              "                        <td id=\"T_74c446f8_362c_11ec_94e8_0242ac1c0002row1_col0\" class=\"data row1 col0\" >XGBoost Classifier_BOW</td>\n",
              "                        <td id=\"T_74c446f8_362c_11ec_94e8_0242ac1c0002row1_col1\" class=\"data row1 col1\" >0.646298</td>\n",
              "            </tr>\n",
              "            <tr>\n",
              "                        <th id=\"T_74c446f8_362c_11ec_94e8_0242ac1c0002level0_row2\" class=\"row_heading level0 row2\" >2</th>\n",
              "                        <td id=\"T_74c446f8_362c_11ec_94e8_0242ac1c0002row2_col0\" class=\"data row2 col0\" >XGBoost Classifier_TFIDF</td>\n",
              "                        <td id=\"T_74c446f8_362c_11ec_94e8_0242ac1c0002row2_col1\" class=\"data row2 col1\" >0.641990</td>\n",
              "            </tr>\n",
              "            <tr>\n",
              "                        <th id=\"T_74c446f8_362c_11ec_94e8_0242ac1c0002level0_row3\" class=\"row_heading level0 row3\" >3</th>\n",
              "                        <td id=\"T_74c446f8_362c_11ec_94e8_0242ac1c0002row3_col0\" class=\"data row3 col0\" >logistic regression_TFIDF</td>\n",
              "                        <td id=\"T_74c446f8_362c_11ec_94e8_0242ac1c0002row3_col1\" class=\"data row3 col1\" >0.630631</td>\n",
              "            </tr>\n",
              "            <tr>\n",
              "                        <th id=\"T_74c446f8_362c_11ec_94e8_0242ac1c0002level0_row4\" class=\"row_heading level0 row4\" >4</th>\n",
              "                        <td id=\"T_74c446f8_362c_11ec_94e8_0242ac1c0002row4_col0\" class=\"data row4 col0\" >logistic regression</td>\n",
              "                        <td id=\"T_74c446f8_362c_11ec_94e8_0242ac1c0002row4_col1\" class=\"data row4 col1\" >0.543282</td>\n",
              "            </tr>\n",
              "            <tr>\n",
              "                        <th id=\"T_74c446f8_362c_11ec_94e8_0242ac1c0002level0_row5\" class=\"row_heading level0 row5\" >5</th>\n",
              "                        <td id=\"T_74c446f8_362c_11ec_94e8_0242ac1c0002row5_col0\" class=\"data row5 col0\" >Linear Support Vector classifier_BOW</td>\n",
              "                        <td id=\"T_74c446f8_362c_11ec_94e8_0242ac1c0002row5_col1\" class=\"data row5 col1\" >0.479436</td>\n",
              "            </tr>\n",
              "            <tr>\n",
              "                        <th id=\"T_74c446f8_362c_11ec_94e8_0242ac1c0002level0_row6\" class=\"row_heading level0 row6\" >6</th>\n",
              "                        <td id=\"T_74c446f8_362c_11ec_94e8_0242ac1c0002row6_col0\" class=\"data row6 col0\" >XGBoost Classifier_w2v</td>\n",
              "                        <td id=\"T_74c446f8_362c_11ec_94e8_0242ac1c0002row6_col1\" class=\"data row6 col1\" >0.409322</td>\n",
              "            </tr>\n",
              "            <tr>\n",
              "                        <th id=\"T_74c446f8_362c_11ec_94e8_0242ac1c0002level0_row7\" class=\"row_heading level0 row7\" >7</th>\n",
              "                        <td id=\"T_74c446f8_362c_11ec_94e8_0242ac1c0002row7_col0\" class=\"data row7 col0\" >Linear Support Vector classifier_w2v</td>\n",
              "                        <td id=\"T_74c446f8_362c_11ec_94e8_0242ac1c0002row7_col1\" class=\"data row7 col1\" >0.320407</td>\n",
              "            </tr>\n",
              "            <tr>\n",
              "                        <th id=\"T_74c446f8_362c_11ec_94e8_0242ac1c0002level0_row8\" class=\"row_heading level0 row8\" >8</th>\n",
              "                        <td id=\"T_74c446f8_362c_11ec_94e8_0242ac1c0002row8_col0\" class=\"data row8 col0\" >logistic regression_w2v</td>\n",
              "                        <td id=\"T_74c446f8_362c_11ec_94e8_0242ac1c0002row8_col1\" class=\"data row8 col1\" >0.284371</td>\n",
              "            </tr>\n",
              "    </tbody></table>"
            ],
            "text/plain": [
              "<pandas.io.formats.style.Styler at 0x7f01c658ed50>"
            ]
          },
          "metadata": {},
          "execution_count": 79
        }
      ]
    },
    {
      "cell_type": "markdown",
      "metadata": {
        "id": "3JJ6QOt3PA87"
      },
      "source": [
        "# **BERT**"
      ]
    },
    {
      "cell_type": "code",
      "metadata": {
        "id": "dCz4dkLhPA87"
      },
      "source": [
        "import tensorflow as tf"
      ],
      "execution_count": null,
      "outputs": []
    },
    {
      "cell_type": "code",
      "metadata": {
        "colab": {
          "base_uri": "https://localhost:8080/"
        },
        "id": "XZNqN3Mle37s",
        "outputId": "7b1bf4b1-c776-41b0-afb3-a2f80305e848"
      },
      "source": [
        "!pip install transformers"
      ],
      "execution_count": null,
      "outputs": [
        {
          "output_type": "stream",
          "name": "stdout",
          "text": [
            "Collecting transformers\n",
            "  Downloading transformers-4.11.3-py3-none-any.whl (2.9 MB)\n",
            "\u001b[K     |████████████████████████████████| 2.9 MB 5.4 MB/s \n",
            "\u001b[?25hCollecting sacremoses\n",
            "  Downloading sacremoses-0.0.46-py3-none-any.whl (895 kB)\n",
            "\u001b[K     |████████████████████████████████| 895 kB 64.5 MB/s \n",
            "\u001b[?25hCollecting tokenizers<0.11,>=0.10.1\n",
            "  Downloading tokenizers-0.10.3-cp37-cp37m-manylinux_2_5_x86_64.manylinux1_x86_64.manylinux_2_12_x86_64.manylinux2010_x86_64.whl (3.3 MB)\n",
            "\u001b[K     |████████████████████████████████| 3.3 MB 55.8 MB/s \n",
            "\u001b[?25hRequirement already satisfied: requests in /usr/local/lib/python3.7/dist-packages (from transformers) (2.23.0)\n",
            "Requirement already satisfied: numpy>=1.17 in /usr/local/lib/python3.7/dist-packages (from transformers) (1.19.5)\n",
            "Requirement already satisfied: tqdm>=4.27 in /usr/local/lib/python3.7/dist-packages (from transformers) (4.62.3)\n",
            "Requirement already satisfied: filelock in /usr/local/lib/python3.7/dist-packages (from transformers) (3.3.0)\n",
            "Requirement already satisfied: importlib-metadata in /usr/local/lib/python3.7/dist-packages (from transformers) (4.8.1)\n",
            "Collecting pyyaml>=5.1\n",
            "  Downloading PyYAML-6.0-cp37-cp37m-manylinux_2_5_x86_64.manylinux1_x86_64.manylinux_2_12_x86_64.manylinux2010_x86_64.whl (596 kB)\n",
            "\u001b[K     |████████████████████████████████| 596 kB 81.1 MB/s \n",
            "\u001b[?25hRequirement already satisfied: packaging>=20.0 in /usr/local/lib/python3.7/dist-packages (from transformers) (21.0)\n",
            "Collecting huggingface-hub>=0.0.17\n",
            "  Downloading huggingface_hub-0.0.19-py3-none-any.whl (56 kB)\n",
            "\u001b[K     |████████████████████████████████| 56 kB 4.9 MB/s \n",
            "\u001b[?25hRequirement already satisfied: regex!=2019.12.17 in /usr/local/lib/python3.7/dist-packages (from transformers) (2019.12.20)\n",
            "Requirement already satisfied: typing-extensions in /usr/local/lib/python3.7/dist-packages (from huggingface-hub>=0.0.17->transformers) (3.7.4.3)\n",
            "Requirement already satisfied: pyparsing>=2.0.2 in /usr/local/lib/python3.7/dist-packages (from packaging>=20.0->transformers) (2.4.7)\n",
            "Requirement already satisfied: zipp>=0.5 in /usr/local/lib/python3.7/dist-packages (from importlib-metadata->transformers) (3.6.0)\n",
            "Requirement already satisfied: urllib3!=1.25.0,!=1.25.1,<1.26,>=1.21.1 in /usr/local/lib/python3.7/dist-packages (from requests->transformers) (1.24.3)\n",
            "Requirement already satisfied: certifi>=2017.4.17 in /usr/local/lib/python3.7/dist-packages (from requests->transformers) (2021.5.30)\n",
            "Requirement already satisfied: chardet<4,>=3.0.2 in /usr/local/lib/python3.7/dist-packages (from requests->transformers) (3.0.4)\n",
            "Requirement already satisfied: idna<3,>=2.5 in /usr/local/lib/python3.7/dist-packages (from requests->transformers) (2.10)\n",
            "Requirement already satisfied: click in /usr/local/lib/python3.7/dist-packages (from sacremoses->transformers) (7.1.2)\n",
            "Requirement already satisfied: six in /usr/local/lib/python3.7/dist-packages (from sacremoses->transformers) (1.15.0)\n",
            "Requirement already satisfied: joblib in /usr/local/lib/python3.7/dist-packages (from sacremoses->transformers) (1.0.1)\n",
            "Installing collected packages: pyyaml, tokenizers, sacremoses, huggingface-hub, transformers\n",
            "  Attempting uninstall: pyyaml\n",
            "    Found existing installation: PyYAML 3.13\n",
            "    Uninstalling PyYAML-3.13:\n",
            "      Successfully uninstalled PyYAML-3.13\n",
            "Successfully installed huggingface-hub-0.0.19 pyyaml-6.0 sacremoses-0.0.46 tokenizers-0.10.3 transformers-4.11.3\n"
          ]
        }
      ]
    },
    {
      "cell_type": "code",
      "metadata": {
        "id": "YYJpftJSPA88",
        "colab": {
          "base_uri": "https://localhost:8080/",
          "height": 145,
          "referenced_widgets": [
            "239a4515fbf64332a2e2a12b7a2017bc",
            "35c5f80cf231470ab8d43808fbe3036f",
            "6daa467966d14024be40e5c660a28a24",
            "f2e7f361132a47af9dfcbb3373e22f4d",
            "dd40dddd31774192a59f30b9e84dddcf",
            "30274b33ef564b99b9da2765d99049c0",
            "552c636a71c9469d874b7c16056b1617",
            "fe6f1dc5551c4eab93370f1ef141a18d",
            "946d714fcb0744bbb78c0b37be67bf92",
            "8ca06ac9c08b442ba70f013f85b24f11",
            "d46a40dd14a7410283e589b4efbb2fbc",
            "18fb08b72792428cbd222d0d38adff5c",
            "25c00a22e0504e4b8abf78d53c458400",
            "16c31ae230694f2099f6113d9cd8115f",
            "f78fde1b2d2347de978c9528b974d3e0",
            "0f06ade84cf743559d9df5b8594d012b",
            "75388c6054fa47659ac5e9fefa455078",
            "f31f175803934aa0943d8dbd8743781a",
            "13a22f78244a4ad58d74bc1ca2ee24ac",
            "2ff7b98f49ed46c9ba7feb9aae55e515",
            "8cc3b02a942b421eb63f0fe23349e0ac",
            "ce6376ddb6f242f4b4121ae1ea671947",
            "84097d3de248451383f11ae759c8134c",
            "f6822281f8244cb9a64cf238df91e59e",
            "3a20c836979a411e8998f8cb423e2974",
            "e5d034fbee194b2e81b0043425d1721c",
            "78928ef497ff4803a68dd0d3e8b22b0e",
            "ccb5e75736b2461dacb9cf8a7982b6fd",
            "d50fa5e871f04aaca9fbc727546832f8",
            "4e655c811f5a44aa9eaac3ef3ff607ea",
            "648c8da00fb04f2795d4ae490a55115f",
            "6d89fa8073ec4cb98c57f2d0095cc6b0",
            "430664e30ed94b82bb582839477fc5e1",
            "d45f2a3d79b64b6ca521e9ed4414a6e0",
            "ea1a44be6c9445e7adfcffd045514a20",
            "ec79877b5a274a34972a4fc5effb808f",
            "70329e2b96a64b94929d76874cee66c7",
            "0d1d12c728974740a0c81781039d21c5",
            "dc4b2a93c6924718af7d16d14ac0b7dc",
            "2d8f9035848741dcb8685bd3e851e889",
            "439c3c719c1e453b900b1985f9bb4baf",
            "c057f31cf96545b68309f97391bcea77",
            "ddbb8f23079545a789b7e4ed5ef9efdc",
            "821342b9bda74da2843410c25991451e"
          ]
        },
        "outputId": "fa4004e3-c348-42c6-911b-93294f1360b9"
      },
      "source": [
        "import transformers\n",
        "tokenizer_bert = transformers.AutoTokenizer.from_pretrained('bert-large-uncased')"
      ],
      "execution_count": null,
      "outputs": [
        {
          "output_type": "display_data",
          "data": {
            "application/vnd.jupyter.widget-view+json": {
              "model_id": "239a4515fbf64332a2e2a12b7a2017bc",
              "version_minor": 0,
              "version_major": 2
            },
            "text/plain": [
              "Downloading:   0%|          | 0.00/28.0 [00:00<?, ?B/s]"
            ]
          },
          "metadata": {}
        },
        {
          "output_type": "display_data",
          "data": {
            "application/vnd.jupyter.widget-view+json": {
              "model_id": "18fb08b72792428cbd222d0d38adff5c",
              "version_minor": 0,
              "version_major": 2
            },
            "text/plain": [
              "Downloading:   0%|          | 0.00/571 [00:00<?, ?B/s]"
            ]
          },
          "metadata": {}
        },
        {
          "output_type": "display_data",
          "data": {
            "application/vnd.jupyter.widget-view+json": {
              "model_id": "84097d3de248451383f11ae759c8134c",
              "version_minor": 0,
              "version_major": 2
            },
            "text/plain": [
              "Downloading:   0%|          | 0.00/226k [00:00<?, ?B/s]"
            ]
          },
          "metadata": {}
        },
        {
          "output_type": "display_data",
          "data": {
            "application/vnd.jupyter.widget-view+json": {
              "model_id": "d45f2a3d79b64b6ca521e9ed4414a6e0",
              "version_minor": 0,
              "version_major": 2
            },
            "text/plain": [
              "Downloading:   0%|          | 0.00/455k [00:00<?, ?B/s]"
            ]
          },
          "metadata": {}
        }
      ]
    },
    {
      "cell_type": "code",
      "metadata": {
        "id": "Zu_RE3MOPA88"
      },
      "source": [
        "types = np.unique(combi.type.values)"
      ],
      "execution_count": null,
      "outputs": []
    },
    {
      "cell_type": "code",
      "metadata": {
        "id": "dJ4hM-x2PA88"
      },
      "source": [
        "def get_type_index(string):\n",
        "    return list(types).index(string)"
      ],
      "execution_count": null,
      "outputs": []
    },
    {
      "cell_type": "code",
      "metadata": {
        "id": "BIgIeftuPA88"
      },
      "source": [
        "combi['type_index'] = combi['type'].apply(get_type_index)"
      ],
      "execution_count": null,
      "outputs": []
    },
    {
      "cell_type": "code",
      "metadata": {
        "id": "TfNbMPMDPA88"
      },
      "source": [
        "from sklearn.model_selection import train_test_split\n",
        "\n",
        "train_b, test_bert = train_test_split(combi)\n",
        "train_bert, val_bert = train_test_split(train_b)"
      ],
      "execution_count": null,
      "outputs": []
    },
    {
      "cell_type": "code",
      "metadata": {
        "colab": {
          "base_uri": "https://localhost:8080/",
          "height": 233,
          "referenced_widgets": [
            "5da786c17e9545969fc2f0c1bdc34800",
            "928dfae387b8474d951b7b278eb8ed05",
            "4dcbdc056bf545198353b162b99c3a07",
            "6a72106a1f4b4eb2bf6bb3e032a8183e",
            "696362d9b62f4dce9f87a69e206deeb1",
            "6d34abdc682342c08cec8507e864486b",
            "d4cad455691c417b99ff6a0bdc96222f",
            "191bf67043e4482fb739a63dbc3c6ea0",
            "203bd901c022490ba6d81b919a4ff3e5",
            "3ce38fca274241c58653070f10731d40",
            "695700cbddca4ac58d9c766c12d8f306",
            "9b532d64acc046de8fb9882aaba1dda6",
            "b7d85d935c414d94a96aa835444bd8fe",
            "9beed401ba8b49db9dd511a5c6516fcd",
            "4903df2682de43f880f0f08bbc20eda8",
            "73a01fe3cd0d49fa981724f82de156bf",
            "218d435348084c91a2cba9c0b3543b52",
            "4246d72b12074eec8f33590ab73346a8",
            "6404129e75864cf2921f64b8961058c5",
            "8e6d422162674513948a48cb6cc7385e",
            "048d73ed06b5486eb218ff9cc93d5ae7",
            "339f937deb8c4262a2f90251da98dfaf",
            "b5e5710c0e474d3c8fccf6b6b85c6239",
            "5bb43f0046f148658936ff7158fb6d3f",
            "6096538fb1b24f2197cd578abc6a46e5",
            "7b260b31ded54de689829f5eada27b3f",
            "dbef01b1c9444fb09aea3c8a96474767",
            "50298057fe3c4b94b81649f1fb84d9cf",
            "2182dc98bf6546af8e53cd60bfbc2891",
            "93387c87212e4fdaad41c7398b49fcf1",
            "f71e22f7548b48d0ab05c9021cd54180",
            "0da6c6f419994db3a725557e1eb0509c",
            "09bf0e6042784b0396e5a0b831ed5dfe",
            "992d8b34dc7741f0896e41948b86a41f",
            "b7ec2d091be8478a852dfe8d299cc40c",
            "f0ee897a6053436fb9f428944b877ce8",
            "f01e27e070004a53b28bcfd8a054cc50",
            "e3ddb06a89d648439ececedd37edc106",
            "4dce6c67925541f888bce1f5e252a019",
            "772f1b2118084cd8aa42f4eb2ac0597b",
            "9a134be95e234d5b894cab37650b7a3f",
            "8737aa350a444a45b2e15e9fbc47edfd",
            "2e45f2b10c4343f2857b86394b75ffcb",
            "f194da9827ba402eb9489e599c5b3b6e"
          ]
        },
        "id": "kp4RzxWpPA8-",
        "outputId": "4744b147-8ddf-476c-d2f2-90b475fbbd80"
      },
      "source": [
        "#Initialize Bert tokenizer and masks\n",
        "from transformers import BertTokenizer\n",
        "from tensorflow.keras.preprocessing.sequence import pad_sequences\n",
        "\n",
        "bert_model_name = 'bert-base-uncased'\n",
        "\n",
        "tokenizer = BertTokenizer.from_pretrained(bert_model_name, do_lower_case=True)\n",
        "MAX_LEN = 1000\n",
        "\n",
        "def tokenize_sentences(sentences, tokenizer, max_seq_len = 1800):\n",
        "    tokenized_sentences = []\n",
        "\n",
        "    for sentence in tqdm(sentences):\n",
        "        tokenized_sentence = tokenizer.encode(\n",
        "                            sentence,                  # Sentence to encode.\n",
        "                            add_special_tokens = True, # Add '[CLS]' and '[SEP]'\n",
        "                            max_length = max_seq_len,  # Truncate all sentences.\n",
        "                    )\n",
        "        \n",
        "        tokenized_sentences.append(tokenized_sentence)\n",
        "        \n",
        "    return tokenized_sentences\n",
        "\n",
        "\n",
        "train_input_ids = tokenize_sentences(train_bert['posts'], tokenizer, MAX_LEN)\n",
        "train_input_ids = pad_sequences(train_input_ids, maxlen=MAX_LEN, dtype=\"long\", value=0, truncating=\"post\", padding=\"post\")\n",
        "\n",
        "test_input_ids = tokenize_sentences(test_bert['posts'], tokenizer, MAX_LEN)\n",
        "test_input_ids = pad_sequences(test_input_ids, maxlen=MAX_LEN, dtype=\"long\", value=0, truncating=\"post\", padding=\"post\")\n",
        "\n",
        "val_input_ids = tokenize_sentences(val_bert['posts'], tokenizer, MAX_LEN)\n",
        "val_input_ids = pad_sequences(val_input_ids, maxlen=MAX_LEN, dtype=\"long\", value=0, truncating=\"post\", padding=\"post\")\n"
      ],
      "execution_count": null,
      "outputs": [
        {
          "output_type": "display_data",
          "data": {
            "application/vnd.jupyter.widget-view+json": {
              "model_id": "5da786c17e9545969fc2f0c1bdc34800",
              "version_minor": 0,
              "version_major": 2
            },
            "text/plain": [
              "Downloading:   0%|          | 0.00/226k [00:00<?, ?B/s]"
            ]
          },
          "metadata": {}
        },
        {
          "output_type": "display_data",
          "data": {
            "application/vnd.jupyter.widget-view+json": {
              "model_id": "9b532d64acc046de8fb9882aaba1dda6",
              "version_minor": 0,
              "version_major": 2
            },
            "text/plain": [
              "Downloading:   0%|          | 0.00/28.0 [00:00<?, ?B/s]"
            ]
          },
          "metadata": {}
        },
        {
          "output_type": "display_data",
          "data": {
            "application/vnd.jupyter.widget-view+json": {
              "model_id": "b5e5710c0e474d3c8fccf6b6b85c6239",
              "version_minor": 0,
              "version_major": 2
            },
            "text/plain": [
              "Downloading:   0%|          | 0.00/455k [00:00<?, ?B/s]"
            ]
          },
          "metadata": {}
        },
        {
          "output_type": "display_data",
          "data": {
            "application/vnd.jupyter.widget-view+json": {
              "model_id": "992d8b34dc7741f0896e41948b86a41f",
              "version_minor": 0,
              "version_major": 2
            },
            "text/plain": [
              "Downloading:   0%|          | 0.00/570 [00:00<?, ?B/s]"
            ]
          },
          "metadata": {}
        },
        {
          "output_type": "stream",
          "name": "stderr",
          "text": [
            "  0%|          | 0/4879 [00:00<?, ?it/s]Truncation was not explicitly activated but `max_length` is provided a specific value, please use `truncation=True` to explicitly truncate examples to max length. Defaulting to 'longest_first' truncation strategy. If you encode pairs of sequences (GLUE-style) with the tokenizer you can select this strategy more precisely by providing a specific strategy to `truncation`.\n",
            "100%|██████████| 4879/4879 [02:44<00:00, 29.64it/s]\n",
            "100%|██████████| 2169/2169 [01:12<00:00, 29.73it/s]\n",
            "100%|██████████| 1627/1627 [00:54<00:00, 29.62it/s]\n"
          ]
        }
      ]
    },
    {
      "cell_type": "code",
      "metadata": {
        "id": "BCxM0nr7PA8-"
      },
      "source": [
        "#maxlen = 1500\n",
        "#train_input_ids = [tokenizer_bert.encode(str(i), max_length = maxlen ,truncation=True, pad_to_max_length = True) for i in train_bert.clean_text.values]\n",
        "#val_input_ids = [tokenizer_bert.encode(str(i), max_length = maxlen , pad_to_max_length = True) for i in val_bert.clean_text.values]"
      ],
      "execution_count": null,
      "outputs": []
    },
    {
      "cell_type": "code",
      "metadata": {
        "colab": {
          "base_uri": "https://localhost:8080/"
        },
        "id": "3wC7fxjpPA8-",
        "outputId": "f8ca8b00-0cfc-4137-9fa1-06d0a77ab41b"
      },
      "source": [
        "len(train_input_ids)"
      ],
      "execution_count": null,
      "outputs": [
        {
          "output_type": "execute_result",
          "data": {
            "text/plain": [
              "4879"
            ]
          },
          "metadata": {},
          "execution_count": 89
        }
      ]
    },
    {
      "cell_type": "code",
      "metadata": {
        "id": "ynVa8GGgPA8_"
      },
      "source": [
        "from tensorflow.keras import backend as K\n",
        "#Define f1 functions for evaluation\n",
        "def f1_m(y_true, y_pred):\n",
        "    precision = precision_m(y_true, y_pred)\n",
        "    recall = recall_m(y_true, y_pred)\n",
        "    return 2*((precision*recall)/(precision+recall+K.epsilon()))\n",
        "\n",
        "def recall_m(y_true, y_pred):\n",
        "    true_positives = K.sum(K.round(K.clip(y_true * y_pred, 0, 1)))\n",
        "    possible_positives = K.sum(K.round(K.clip(y_true, 0, 1)))\n",
        "    recall = true_positives / (possible_positives + K.epsilon())\n",
        "    return recall\n",
        "\n",
        "def precision_m(y_true, y_pred):\n",
        "    true_positives = K.sum(K.round(K.clip(y_true * y_pred, 0, 1)))\n",
        "    predicted_positives = K.sum(K.round(K.clip(y_pred, 0, 1)))\n",
        "    precision = true_positives / (predicted_positives + K.epsilon())\n",
        "    return precision"
      ],
      "execution_count": null,
      "outputs": []
    },
    {
      "cell_type": "code",
      "metadata": {
        "id": "Oo4GBVF7PA8_"
      },
      "source": [
        "BATCH_SIZE=8 \n",
        "NR_EPOCHS=10\n",
        "maxlen=1000"
      ],
      "execution_count": null,
      "outputs": []
    },
    {
      "cell_type": "code",
      "metadata": {
        "id": "tfWpw9BUPA8_"
      },
      "source": [
        "def create_model(): \n",
        "    input_word_ids = tf.keras.layers.Input(shape=(maxlen,), dtype=tf.int32,\n",
        "                                           name=\"input_word_ids\")\n",
        "    bert_layer = transformers.TFBertModel.from_pretrained('bert-large-uncased')\n",
        "    bert_outputs = bert_layer(input_word_ids)[0]\n",
        "    pred = tf.keras.layers.Dense(16, activation='softmax')(bert_outputs[:,0,:])\n",
        "    \n",
        "    model = tf.keras.models.Model(inputs=input_word_ids, outputs=pred)\n",
        "    loss = tf.keras.losses.SparseCategoricalCrossentropy(from_logits=True)\n",
        "    model.compile(loss='categorical_crossentropy',\n",
        "                  optimizer=tf.keras.optimizers.Adam(learning_rate=0.00001),\n",
        "                  metrics=['accuracy', f1_m, precision_m, recall_m])\n",
        "    return model"
      ],
      "execution_count": null,
      "outputs": []
    },
    {
      "cell_type": "code",
      "metadata": {
        "id": "1ohPWE-FsqNF",
        "colab": {
          "base_uri": "https://localhost:8080/"
        },
        "outputId": "aff0fa85-e19b-42c8-8e9d-37ea59e9b6eb"
      },
      "source": [
        "# force TF to 2.2\n",
        "!pip install -q tensorflow~=2.2.0 tensorflow_gcs_config~=2.2.0\n",
        "import tensorflow as tf\n",
        "import requests\n",
        "import os\n",
        "resp = requests.post(\"http://{}:8475/requestversion/{}\".format(os.environ[\"COLAB_TPU_ADDR\"].split(\":\")[0], tf.__version__))\n",
        "if resp.status_code != 200:\n",
        "  print(\"Failed to switch the TPU to TF {}\".format(version))"
      ],
      "execution_count": null,
      "outputs": [
        {
          "output_type": "stream",
          "name": "stdout",
          "text": [
            "\u001b[K     |████████████████████████████████| 516.4 MB 13 kB/s \n",
            "\u001b[K     |████████████████████████████████| 392 kB 76.6 MB/s \n",
            "\u001b[K     |████████████████████████████████| 454 kB 80.4 MB/s \n",
            "\u001b[K     |████████████████████████████████| 20.1 MB 351 kB/s \n",
            "\u001b[K     |████████████████████████████████| 2.9 MB 63.7 MB/s \n",
            "\u001b[K     |████████████████████████████████| 3.0 MB 64.9 MB/s \n",
            "\u001b[31mERROR: pip's dependency resolver does not currently take into account all the packages that are installed. This behaviour is the source of the following dependency conflicts.\n",
            "datascience 0.10.6 requires folium==0.2.1, but you have folium 0.8.3 which is incompatible.\n",
            "albumentations 0.1.12 requires imgaug<0.2.7,>=0.2.5, but you have imgaug 0.2.9 which is incompatible.\u001b[0m\n",
            "\u001b[?25h"
          ]
        }
      ]
    },
    {
      "cell_type": "code",
      "metadata": {
        "colab": {
          "base_uri": "https://localhost:8080/"
        },
        "id": "Jh2WEy06sHsD",
        "outputId": "599dd240-3d0b-4bb6-db89-d0f769894997"
      },
      "source": [
        "#%tensorflow_version 2.x\n",
        "import tensorflow as tf\n",
        "print(\"Tensorflow version \" + tf.__version__)"
      ],
      "execution_count": null,
      "outputs": [
        {
          "output_type": "stream",
          "name": "stdout",
          "text": [
            "Tensorflow version 2.6.0\n"
          ]
        }
      ]
    },
    {
      "cell_type": "code",
      "metadata": {
        "colab": {
          "base_uri": "https://localhost:8080/"
        },
        "id": "UjdHq52YsE2M",
        "outputId": "d870978f-f9e7-44de-9e42-885088bfb245"
      },
      "source": [
        "try:\n",
        "  tpu = tf.distribute.cluster_resolver.TPUClusterResolver()  # TPU detection\n",
        "  print('Running on TPU ', tpu.cluster_spec().as_dict()['worker'])\n",
        "except ValueError:\n",
        "  raise BaseException('ERROR: Not connected to a TPU runtime; please see the previous cell in this notebook for instructions!')\n",
        "\n",
        "tf.config.experimental_connect_to_cluster(tpu)\n",
        "tf.tpu.experimental.initialize_tpu_system(tpu)\n",
        "tpu_strategy = tf.distribute.experimental.TPUStrategy(tpu)"
      ],
      "execution_count": null,
      "outputs": [
        {
          "output_type": "stream",
          "name": "stderr",
          "text": [
            "INFO:absl:Entering into master device scope: /job:worker/replica:0/task:0/device:CPU:0\n"
          ]
        },
        {
          "output_type": "stream",
          "name": "stdout",
          "text": [
            "Running on TPU  ['10.24.134.114:8470']\n",
            "INFO:tensorflow:Clearing out eager caches\n"
          ]
        },
        {
          "output_type": "stream",
          "name": "stderr",
          "text": [
            "INFO:tensorflow:Clearing out eager caches\n"
          ]
        },
        {
          "output_type": "stream",
          "name": "stdout",
          "text": [
            "INFO:tensorflow:Initializing the TPU system: grpc://10.24.134.114:8470\n"
          ]
        },
        {
          "output_type": "stream",
          "name": "stderr",
          "text": [
            "INFO:tensorflow:Initializing the TPU system: grpc://10.24.134.114:8470\n"
          ]
        },
        {
          "output_type": "stream",
          "name": "stdout",
          "text": [
            "INFO:tensorflow:Finished initializing TPU system.\n"
          ]
        },
        {
          "output_type": "stream",
          "name": "stderr",
          "text": [
            "INFO:tensorflow:Finished initializing TPU system.\n",
            "WARNING:absl:`tf.distribute.experimental.TPUStrategy` is deprecated, please use  the non experimental symbol `tf.distribute.TPUStrategy` instead.\n"
          ]
        },
        {
          "output_type": "stream",
          "name": "stdout",
          "text": [
            "INFO:tensorflow:Found TPU system:\n"
          ]
        },
        {
          "output_type": "stream",
          "name": "stderr",
          "text": [
            "INFO:tensorflow:Found TPU system:\n"
          ]
        },
        {
          "output_type": "stream",
          "name": "stdout",
          "text": [
            "INFO:tensorflow:*** Num TPU Cores: 8\n"
          ]
        },
        {
          "output_type": "stream",
          "name": "stderr",
          "text": [
            "INFO:tensorflow:*** Num TPU Cores: 8\n"
          ]
        },
        {
          "output_type": "stream",
          "name": "stdout",
          "text": [
            "INFO:tensorflow:*** Num TPU Workers: 1\n"
          ]
        },
        {
          "output_type": "stream",
          "name": "stderr",
          "text": [
            "INFO:tensorflow:*** Num TPU Workers: 1\n"
          ]
        },
        {
          "output_type": "stream",
          "name": "stdout",
          "text": [
            "INFO:tensorflow:*** Num TPU Cores Per Worker: 8\n"
          ]
        },
        {
          "output_type": "stream",
          "name": "stderr",
          "text": [
            "INFO:tensorflow:*** Num TPU Cores Per Worker: 8\n"
          ]
        },
        {
          "output_type": "stream",
          "name": "stdout",
          "text": [
            "INFO:tensorflow:*** Available Device: _DeviceAttributes(/job:localhost/replica:0/task:0/device:CPU:0, CPU, 0, 0)\n"
          ]
        },
        {
          "output_type": "stream",
          "name": "stderr",
          "text": [
            "INFO:tensorflow:*** Available Device: _DeviceAttributes(/job:localhost/replica:0/task:0/device:CPU:0, CPU, 0, 0)\n"
          ]
        },
        {
          "output_type": "stream",
          "name": "stdout",
          "text": [
            "INFO:tensorflow:*** Available Device: _DeviceAttributes(/job:worker/replica:0/task:0/device:CPU:0, CPU, 0, 0)\n"
          ]
        },
        {
          "output_type": "stream",
          "name": "stderr",
          "text": [
            "INFO:tensorflow:*** Available Device: _DeviceAttributes(/job:worker/replica:0/task:0/device:CPU:0, CPU, 0, 0)\n"
          ]
        },
        {
          "output_type": "stream",
          "name": "stdout",
          "text": [
            "INFO:tensorflow:*** Available Device: _DeviceAttributes(/job:worker/replica:0/task:0/device:TPU:0, TPU, 0, 0)\n"
          ]
        },
        {
          "output_type": "stream",
          "name": "stderr",
          "text": [
            "INFO:tensorflow:*** Available Device: _DeviceAttributes(/job:worker/replica:0/task:0/device:TPU:0, TPU, 0, 0)\n"
          ]
        },
        {
          "output_type": "stream",
          "name": "stdout",
          "text": [
            "INFO:tensorflow:*** Available Device: _DeviceAttributes(/job:worker/replica:0/task:0/device:TPU:1, TPU, 0, 0)\n"
          ]
        },
        {
          "output_type": "stream",
          "name": "stderr",
          "text": [
            "INFO:tensorflow:*** Available Device: _DeviceAttributes(/job:worker/replica:0/task:0/device:TPU:1, TPU, 0, 0)\n"
          ]
        },
        {
          "output_type": "stream",
          "name": "stdout",
          "text": [
            "INFO:tensorflow:*** Available Device: _DeviceAttributes(/job:worker/replica:0/task:0/device:TPU:2, TPU, 0, 0)\n"
          ]
        },
        {
          "output_type": "stream",
          "name": "stderr",
          "text": [
            "INFO:tensorflow:*** Available Device: _DeviceAttributes(/job:worker/replica:0/task:0/device:TPU:2, TPU, 0, 0)\n"
          ]
        },
        {
          "output_type": "stream",
          "name": "stdout",
          "text": [
            "INFO:tensorflow:*** Available Device: _DeviceAttributes(/job:worker/replica:0/task:0/device:TPU:3, TPU, 0, 0)\n"
          ]
        },
        {
          "output_type": "stream",
          "name": "stderr",
          "text": [
            "INFO:tensorflow:*** Available Device: _DeviceAttributes(/job:worker/replica:0/task:0/device:TPU:3, TPU, 0, 0)\n"
          ]
        },
        {
          "output_type": "stream",
          "name": "stdout",
          "text": [
            "INFO:tensorflow:*** Available Device: _DeviceAttributes(/job:worker/replica:0/task:0/device:TPU:4, TPU, 0, 0)\n"
          ]
        },
        {
          "output_type": "stream",
          "name": "stderr",
          "text": [
            "INFO:tensorflow:*** Available Device: _DeviceAttributes(/job:worker/replica:0/task:0/device:TPU:4, TPU, 0, 0)\n"
          ]
        },
        {
          "output_type": "stream",
          "name": "stdout",
          "text": [
            "INFO:tensorflow:*** Available Device: _DeviceAttributes(/job:worker/replica:0/task:0/device:TPU:5, TPU, 0, 0)\n"
          ]
        },
        {
          "output_type": "stream",
          "name": "stderr",
          "text": [
            "INFO:tensorflow:*** Available Device: _DeviceAttributes(/job:worker/replica:0/task:0/device:TPU:5, TPU, 0, 0)\n"
          ]
        },
        {
          "output_type": "stream",
          "name": "stdout",
          "text": [
            "INFO:tensorflow:*** Available Device: _DeviceAttributes(/job:worker/replica:0/task:0/device:TPU:6, TPU, 0, 0)\n"
          ]
        },
        {
          "output_type": "stream",
          "name": "stderr",
          "text": [
            "INFO:tensorflow:*** Available Device: _DeviceAttributes(/job:worker/replica:0/task:0/device:TPU:6, TPU, 0, 0)\n"
          ]
        },
        {
          "output_type": "stream",
          "name": "stdout",
          "text": [
            "INFO:tensorflow:*** Available Device: _DeviceAttributes(/job:worker/replica:0/task:0/device:TPU:7, TPU, 0, 0)\n"
          ]
        },
        {
          "output_type": "stream",
          "name": "stderr",
          "text": [
            "INFO:tensorflow:*** Available Device: _DeviceAttributes(/job:worker/replica:0/task:0/device:TPU:7, TPU, 0, 0)\n"
          ]
        },
        {
          "output_type": "stream",
          "name": "stdout",
          "text": [
            "INFO:tensorflow:*** Available Device: _DeviceAttributes(/job:worker/replica:0/task:0/device:TPU_SYSTEM:0, TPU_SYSTEM, 0, 0)\n"
          ]
        },
        {
          "output_type": "stream",
          "name": "stderr",
          "text": [
            "INFO:tensorflow:*** Available Device: _DeviceAttributes(/job:worker/replica:0/task:0/device:TPU_SYSTEM:0, TPU_SYSTEM, 0, 0)\n"
          ]
        },
        {
          "output_type": "stream",
          "name": "stdout",
          "text": [
            "INFO:tensorflow:*** Available Device: _DeviceAttributes(/job:worker/replica:0/task:0/device:XLA_CPU:0, XLA_CPU, 0, 0)\n"
          ]
        },
        {
          "output_type": "stream",
          "name": "stderr",
          "text": [
            "INFO:tensorflow:*** Available Device: _DeviceAttributes(/job:worker/replica:0/task:0/device:XLA_CPU:0, XLA_CPU, 0, 0)\n"
          ]
        }
      ]
    },
    {
      "cell_type": "code",
      "metadata": {
        "colab": {
          "base_uri": "https://localhost:8080/",
          "height": 494,
          "referenced_widgets": [
            "f0c360aecd7c4e6f8f4f669061c268cb",
            "4c5e007113864e77934e0ed93086f4f6",
            "ec0fff8d32e447d8b8a30917dbe92327",
            "a99570a272e647ae9b3c3be9913a4cd5",
            "0dde00f71fc3414bbff65ad9e6a78d97",
            "5b6986cbbb674b379ff99048beff90a1",
            "7cac4b3c136b4161a91ea224f462b4ae",
            "e625797147d34ce6bc1d263c9fe1cbbd",
            "c2e7226911424bc39cd78f8793506b6f",
            "648322bf6b9d4ca1ac04451dade20076",
            "eceb22442f68456e93550bf82047d14f"
          ]
        },
        "id": "I8xSu9grsQqa",
        "outputId": "a5e84370-d905-4477-9e8a-1f18d328051b"
      },
      "source": [
        "with tpu_strategy.scope():\n",
        "  model = create_model()\n",
        "    \n",
        "model.summary()"
      ],
      "execution_count": null,
      "outputs": [
        {
          "output_type": "stream",
          "name": "stderr",
          "text": [
            "DEBUG:filelock:Attempting to acquire lock 139638663106960 on /root/.cache/huggingface/transformers/4227924573c09a29255e529b6636de7bfdfc5e1094daed2d2be04e96db5a7a36.cf99ee297384bd78d0676a0dbe78da2a4928e3a435e38f17ea1b1a855b3eb992.h5.lock\n",
            "DEBUG:filelock:Lock 139638663106960 acquired on /root/.cache/huggingface/transformers/4227924573c09a29255e529b6636de7bfdfc5e1094daed2d2be04e96db5a7a36.cf99ee297384bd78d0676a0dbe78da2a4928e3a435e38f17ea1b1a855b3eb992.h5.lock\n"
          ]
        },
        {
          "output_type": "display_data",
          "data": {
            "application/vnd.jupyter.widget-view+json": {
              "model_id": "f0c360aecd7c4e6f8f4f669061c268cb",
              "version_minor": 0,
              "version_major": 2
            },
            "text/plain": [
              "Downloading:   0%|          | 0.00/1.37G [00:00<?, ?B/s]"
            ]
          },
          "metadata": {}
        },
        {
          "output_type": "stream",
          "name": "stderr",
          "text": [
            "DEBUG:filelock:Attempting to release lock 139638663106960 on /root/.cache/huggingface/transformers/4227924573c09a29255e529b6636de7bfdfc5e1094daed2d2be04e96db5a7a36.cf99ee297384bd78d0676a0dbe78da2a4928e3a435e38f17ea1b1a855b3eb992.h5.lock\n",
            "DEBUG:filelock:Lock 139638663106960 released on /root/.cache/huggingface/transformers/4227924573c09a29255e529b6636de7bfdfc5e1094daed2d2be04e96db5a7a36.cf99ee297384bd78d0676a0dbe78da2a4928e3a435e38f17ea1b1a855b3eb992.h5.lock\n",
            "Some layers from the model checkpoint at bert-large-uncased were not used when initializing TFBertModel: ['mlm___cls', 'nsp___cls']\n",
            "- This IS expected if you are initializing TFBertModel from the checkpoint of a model trained on another task or with another architecture (e.g. initializing a BertForSequenceClassification model from a BertForPreTraining model).\n",
            "- This IS NOT expected if you are initializing TFBertModel from the checkpoint of a model that you expect to be exactly identical (initializing a BertForSequenceClassification model from a BertForSequenceClassification model).\n",
            "All the layers of TFBertModel were initialized from the model checkpoint at bert-large-uncased.\n",
            "If your task is similar to the task the model of the checkpoint was trained on, you can already use TFBertModel for predictions without further training.\n"
          ]
        },
        {
          "output_type": "stream",
          "name": "stdout",
          "text": [
            "Model: \"model\"\n",
            "_________________________________________________________________\n",
            "Layer (type)                 Output Shape              Param #   \n",
            "=================================================================\n",
            "input_word_ids (InputLayer)  [(None, 1000)]            0         \n",
            "_________________________________________________________________\n",
            "tf_bert_model (TFBertModel)  TFBaseModelOutputWithPool 335141888 \n",
            "_________________________________________________________________\n",
            "tf.__operators__.getitem (Sl (None, 1024)              0         \n",
            "_________________________________________________________________\n",
            "dense (Dense)                (None, 16)                16400     \n",
            "=================================================================\n",
            "Total params: 335,158,288\n",
            "Trainable params: 335,158,288\n",
            "Non-trainable params: 0\n",
            "_________________________________________________________________\n"
          ]
        }
      ]
    },
    {
      "cell_type": "code",
      "metadata": {
        "colab": {
          "base_uri": "https://localhost:8080/"
        },
        "id": "EvYJf3M7PA8_",
        "outputId": "1aa51494-9885-4980-e618-27d7a3765f02"
      },
      "source": [
        "use_tpu = False\n",
        "if use_tpu:\n",
        "    # Create distribution strategy\n",
        "    tpu = tf.distribute.cluster_resolver.TPUClusterResolver()\n",
        "    tf.config.experimental_connect_to_cluster(tpu)\n",
        "    tf.tpu.experimental.initialize_tpu_system(tpu)\n",
        "    strategy = tf.distribute.experimental.TPUStrategy(tpu)\n",
        "\n",
        "    # Create model\n",
        "    with strategy.scope():\n",
        "        model = create_model()\n",
        "else:\n",
        "    model = create_model()\n",
        "    model.summary()"
      ],
      "execution_count": null,
      "outputs": [
        {
          "output_type": "stream",
          "name": "stdout",
          "text": [
            "Model: \"model\"\n",
            "_________________________________________________________________\n",
            "Layer (type)                 Output Shape              Param #   \n",
            "=================================================================\n",
            "input_word_ids (InputLayer)  [(None, 1000)]            0         \n",
            "_________________________________________________________________\n",
            "tf_bert_model (TFBertModel)  TFBaseModelOutputWithPool 335141888 \n",
            "_________________________________________________________________\n",
            "tf.__operators__.getitem (Sl (None, 1024)              0         \n",
            "_________________________________________________________________\n",
            "dense (Dense)                (None, 16)                16400     \n",
            "=================================================================\n",
            "Total params: 335,158,288\n",
            "Trainable params: 335,158,288\n",
            "Non-trainable params: 0\n",
            "_________________________________________________________________\n"
          ]
        }
      ]
    },
    {
      "cell_type": "code",
      "metadata": {
        "id": "2NozKL5bPA8_"
      },
      "source": [
        "one_hot_labels = tf.keras.utils.to_categorical(train_bert.type_index.values, num_classes=16)\n",
        "val_labels= tf.keras.utils.to_categorical(val_bert.type_index.values, num_classes=16)"
      ],
      "execution_count": null,
      "outputs": []
    },
    {
      "cell_type": "code",
      "metadata": {
        "id": "VrD8I6n7PA9A",
        "colab": {
          "base_uri": "https://localhost:8080/"
        },
        "outputId": "a0a76ef7-a8c3-43fd-ed8f-9078d879ac92"
      },
      "source": [
        "#batch_size = 16\n",
        "\n",
        "history_bert = model.fit(train_input_ids, one_hot_labels,validation_data = (val_input_ids, val_labels),\n",
        "          verbose = 1, epochs = NR_EPOCHS, batch_size = BATCH_SIZE,  callbacks = [tf.keras.callbacks.EarlyStopping(patience = 5)])"
      ],
      "execution_count": null,
      "outputs": [
        {
          "output_type": "stream",
          "name": "stdout",
          "text": [
            "Epoch 1/10\n"
          ]
        },
        {
          "output_type": "stream",
          "name": "stderr",
          "text": [
            "INFO:absl:TPU has inputs with dynamic shapes: [<tf.Tensor 'Const:0' shape=() dtype=int32>, <tf.Tensor 'cond_8/Identity:0' shape=(None, 1000) dtype=int64>, <tf.Tensor 'cond_8/Identity_1:0' shape=(None, 16) dtype=float32>]\n"
          ]
        },
        {
          "output_type": "stream",
          "name": "stdout",
          "text": [
            "WARNING:tensorflow:Gradients do not exist for variables ['tf_bert_model/bert/pooler/dense/kernel:0', 'tf_bert_model/bert/pooler/dense/bias:0'] when minimizing the loss.\n"
          ]
        },
        {
          "output_type": "stream",
          "name": "stderr",
          "text": [
            "WARNING:tensorflow:Gradients do not exist for variables ['tf_bert_model/bert/pooler/dense/kernel:0', 'tf_bert_model/bert/pooler/dense/bias:0'] when minimizing the loss.\n",
            "INFO:absl:TPU has inputs with dynamic shapes: [<tf.Tensor 'Const:0' shape=() dtype=int32>, <tf.Tensor 'cond_8/Identity:0' shape=(None, 1000) dtype=int64>, <tf.Tensor 'cond_8/Identity_1:0' shape=(None, 16) dtype=float32>]\n"
          ]
        },
        {
          "output_type": "stream",
          "name": "stdout",
          "text": [
            "WARNING:tensorflow:Gradients do not exist for variables ['tf_bert_model/bert/pooler/dense/kernel:0', 'tf_bert_model/bert/pooler/dense/bias:0'] when minimizing the loss.\n"
          ]
        },
        {
          "output_type": "stream",
          "name": "stderr",
          "text": [
            "WARNING:tensorflow:Gradients do not exist for variables ['tf_bert_model/bert/pooler/dense/kernel:0', 'tf_bert_model/bert/pooler/dense/bias:0'] when minimizing the loss.\n"
          ]
        },
        {
          "output_type": "stream",
          "name": "stdout",
          "text": [
            "610/610 [==============================] - ETA: 0s - loss: 2.0552 - accuracy: 0.3347 - f1_m: 0.2125 - precision_m: 0.1216 - recall_m: 0.8676"
          ]
        },
        {
          "output_type": "stream",
          "name": "stderr",
          "text": [
            "INFO:absl:TPU has inputs with dynamic shapes: [<tf.Tensor 'Const:0' shape=() dtype=int32>, <tf.Tensor 'cond_8/Identity:0' shape=(None, 1000) dtype=int64>, <tf.Tensor 'cond_8/Identity_1:0' shape=(None, 16) dtype=float32>]\n"
          ]
        },
        {
          "output_type": "stream",
          "name": "stdout",
          "text": [
            "\b\b\b\b\b\b\b\b\b\b\b\b\b\b\b\b\b\b\b\b\b\b\b\b\b\b\b\b\b\b\b\b\b\b\b\b\b\b\b\b\b\b\b\b\b\b\b\b\b\b\b\b\b\b\b\b\b\b\b\b\b\b\b\b\b\b\b\b\b\b\b\b\b\b\b\b\b\b\b\b\b\b\b\b\b\b\b\b\b\b\b\b\b\b\b\b\b\b\b\b\b\b\b\b\b\b\b\b\b\b\b\b\b\b\b\b\b\b\b\b\b\b\b\b\b\b\b\b\b\b\b\b\b\b\b\b\b\b\b\b\r610/610 [==============================] - 550s 652ms/step - loss: 2.0552 - accuracy: 0.3347 - f1_m: 0.2125 - precision_m: 0.1216 - recall_m: 0.8676 - val_loss: 1.6087 - val_accuracy: 0.5280 - val_f1_m: 0.2326 - val_precision_m: 0.1344 - val_recall_m: 0.9203\n",
            "Epoch 2/10\n",
            "610/610 [==============================] - 378s 619ms/step - loss: 1.3719 - accuracy: 0.5938 - f1_m: 0.2416 - precision_m: 0.1394 - recall_m: 0.9402 - val_loss: 1.3235 - val_accuracy: 0.6109 - val_f1_m: 0.2431 - val_precision_m: 0.1400 - val_recall_m: 0.9491\n",
            "Epoch 3/10\n",
            "610/610 [==============================] - 378s 619ms/step - loss: 1.0923 - accuracy: 0.6801 - f1_m: 0.2520 - precision_m: 0.1460 - recall_m: 0.9566 - val_loss: 1.2799 - val_accuracy: 0.6263 - val_f1_m: 0.2502 - val_precision_m: 0.1451 - val_recall_m: 0.9375\n",
            "Epoch 4/10\n",
            "610/610 [==============================] - 378s 619ms/step - loss: 0.8812 - accuracy: 0.7438 - f1_m: 0.2568 - precision_m: 0.1488 - recall_m: 0.9699 - val_loss: 1.2878 - val_accuracy: 0.6570 - val_f1_m: 0.2559 - val_precision_m: 0.1490 - val_recall_m: 0.9467\n",
            "Epoch 5/10\n",
            "610/610 [==============================] - 378s 619ms/step - loss: 0.6658 - accuracy: 0.8053 - f1_m: 0.2662 - precision_m: 0.1550 - recall_m: 0.9848 - val_loss: 1.3459 - val_accuracy: 0.6349 - val_f1_m: 0.2593 - val_precision_m: 0.1519 - val_recall_m: 0.9277\n",
            "Epoch 6/10\n",
            "610/610 [==============================] - 378s 619ms/step - loss: 0.4604 - accuracy: 0.8635 - f1_m: 0.2711 - precision_m: 0.1581 - recall_m: 0.9932 - val_loss: 1.5584 - val_accuracy: 0.6441 - val_f1_m: 0.2605 - val_precision_m: 0.1529 - val_recall_m: 0.9295\n",
            "Epoch 7/10\n",
            "610/610 [==============================] - 378s 619ms/step - loss: 0.2733 - accuracy: 0.9207 - f1_m: 0.2791 - precision_m: 0.1636 - recall_m: 0.9980 - val_loss: 1.6597 - val_accuracy: 0.6404 - val_f1_m: 0.2573 - val_precision_m: 0.1504 - val_recall_m: 0.9289\n",
            "Epoch 8/10\n",
            "610/610 [==============================] - 378s 620ms/step - loss: 0.1602 - accuracy: 0.9547 - f1_m: 0.2808 - precision_m: 0.1646 - recall_m: 0.9996 - val_loss: 1.8014 - val_accuracy: 0.6331 - val_f1_m: 0.2608 - val_precision_m: 0.1537 - val_recall_m: 0.9154\n"
          ]
        },
        {
          "output_type": "execute_result",
          "data": {
            "text/plain": [
              "<keras.callbacks.History at 0x7f002259f5d0>"
            ]
          },
          "metadata": {},
          "execution_count": 99
        }
      ]
    },
    {
      "cell_type": "code",
      "metadata": {
        "id": "sc1tW9C3PA9A"
      },
      "source": [
        "test_labels= tf.keras.utils.to_categorical(test_bert.type_index.values, num_classes=16)"
      ],
      "execution_count": null,
      "outputs": []
    },
    {
      "cell_type": "code",
      "metadata": {
        "id": "TdTYQtYaPA9A",
        "colab": {
          "base_uri": "https://localhost:8080/"
        },
        "outputId": "1149040c-18b3-415a-9043-398a428f305c"
      },
      "source": [
        "model.evaluate(np.array(test_input_ids), test_labels)"
      ],
      "execution_count": null,
      "outputs": [
        {
          "output_type": "stream",
          "name": "stdout",
          "text": [
            "68/68 [==============================] - 34s 295ms/step - loss: 1.9294 - accuracy: 0.6210 - f1_m: 0.2489 - precision_m: 0.1444 - recall_m: 0.9122\n"
          ]
        },
        {
          "output_type": "execute_result",
          "data": {
            "text/plain": [
              "[1.9294202327728271,\n",
              " 0.6210235357284546,\n",
              " 0.2489059418439865,\n",
              " 0.14439396560192108,\n",
              " 0.912224292755127]"
            ]
          },
          "metadata": {},
          "execution_count": 101
        }
      ]
    },
    {
      "cell_type": "code",
      "metadata": {
        "id": "HOc9Y9dPtZmE"
      },
      "source": [
        "plt.plot(history_bert.history['val_loss'], 'r', history_bert.history['val_loss'], 'b', \n",
        "history_bert.history['val_loss'], 'g')"
      ],
      "execution_count": null,
      "outputs": []
    },
    {
      "cell_type": "code",
      "metadata": {
        "id": "cVRGw2lcnlXH",
        "colab": {
          "base_uri": "https://localhost:8080/"
        },
        "outputId": "52559867-91bd-448d-b818-c03669af4a81"
      },
      "source": [
        "model_log=LogisticRegression(max_iter=1000,C=0.5,n_jobs=-1)\n",
        "model_log.fit(np.array(train_input_ids),train_bert.type_index.values)\n"
      ],
      "execution_count": null,
      "outputs": [
        {
          "output_type": "execute_result",
          "data": {
            "text/plain": [
              "LogisticRegression(C=0.5, class_weight=None, dual=False, fit_intercept=True,\n",
              "                   intercept_scaling=1, l1_ratio=None, max_iter=1000,\n",
              "                   multi_class='auto', n_jobs=-1, penalty='l2',\n",
              "                   random_state=None, solver='lbfgs', tol=0.0001, verbose=0,\n",
              "                   warm_start=False)"
            ]
          },
          "metadata": {},
          "execution_count": 102
        }
      ]
    },
    {
      "cell_type": "code",
      "metadata": {
        "id": "ktDfBTgppRrd",
        "colab": {
          "base_uri": "https://localhost:8080/"
        },
        "outputId": "198cf093-cf84-4f65-8a5a-43953a2b5c86"
      },
      "source": [
        "print('train classification report \\n ',classification_report(train_bert.type_index.values,model_log.predict(np.array(train_input_ids)),target_names=target_encoder.inverse_transform([i for i in range(16)])))\n",
        "print('test classification report \\n',classification_report(val_bert.type_index.values,model_log.predict(np.array(val_input_ids)),target_names=target_encoder.inverse_transform([i for i in range(16)])))\n",
        "#print('test classification report \\n',classification_report(test_bert.type_index.values,model_xgb.predict(test_input_ids),target_names=target_encoder.inverse_transform([i for i in range(16)])))"
      ],
      "execution_count": null,
      "outputs": [
        {
          "output_type": "stream",
          "name": "stdout",
          "text": [
            "train classification report \n",
            "                precision    recall  f1-score   support\n",
            "\n",
            "        ENFJ       1.00      1.00      1.00       102\n",
            "        ENFP       0.89      0.87      0.88       400\n",
            "        ENTJ       1.00      1.00      1.00       136\n",
            "        ENTP       1.00      1.00      1.00       363\n",
            "        ESFJ       1.00      1.00      1.00        24\n",
            "        ESFP       1.00      1.00      1.00        30\n",
            "        ESTJ       1.00      1.00      1.00        18\n",
            "        ESTP       1.00      1.00      1.00        58\n",
            "        INFJ       0.71      0.70      0.70       810\n",
            "        INFP       0.73      0.73      0.73      1031\n",
            "        INTJ       0.71      0.71      0.71       647\n",
            "        INTP       0.72      0.74      0.73       707\n",
            "        ISFJ       1.00      1.00      1.00        94\n",
            "        ISFP       1.00      1.00      1.00       152\n",
            "        ISTJ       1.00      1.00      1.00       124\n",
            "        ISTP       0.99      1.00      1.00       183\n",
            "\n",
            "    accuracy                           0.81      4879\n",
            "   macro avg       0.92      0.92      0.92      4879\n",
            "weighted avg       0.81      0.81      0.81      4879\n",
            "\n",
            "test classification report \n",
            "               precision    recall  f1-score   support\n",
            "\n",
            "        ENFJ       0.03      0.03      0.03        40\n",
            "        ENFP       0.09      0.16      0.12       124\n",
            "        ENTJ       0.05      0.08      0.06        50\n",
            "        ENTP       0.11      0.18      0.13       130\n",
            "        ESFJ       0.00      0.00      0.00         9\n",
            "        ESFP       0.00      0.00      0.00         9\n",
            "        ESTJ       0.00      0.00      0.00        12\n",
            "        ESTP       0.00      0.00      0.00        14\n",
            "        INFJ       0.13      0.10      0.12       264\n",
            "        INFP       0.21      0.14      0.17       349\n",
            "        INTJ       0.13      0.12      0.13       195\n",
            "        INTP       0.17      0.12      0.14       264\n",
            "        ISFJ       0.07      0.06      0.07        32\n",
            "        ISFP       0.01      0.02      0.02        50\n",
            "        ISTJ       0.00      0.00      0.00        28\n",
            "        ISTP       0.05      0.07      0.06        57\n",
            "\n",
            "    accuracy                           0.12      1627\n",
            "   macro avg       0.07      0.07      0.06      1627\n",
            "weighted avg       0.13      0.12      0.12      1627\n",
            "\n"
          ]
        }
      ]
    }
  ]
}